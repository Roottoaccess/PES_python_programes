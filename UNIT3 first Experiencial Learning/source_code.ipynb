{
 "cells": [
  {
   "cell_type": "markdown",
   "metadata": {},
   "source": [
    "This is the Exception Handling Question solving and understanding source code for my UNIT 3 and ESA prep.."
   ]
  },
  {
   "cell_type": "code",
   "execution_count": 3,
   "metadata": {},
   "outputs": [
    {
     "name": "stdout",
     "output_type": "stream",
     "text": [
      "hello, world\n"
     ]
    }
   ],
   "source": [
    "print(\"hello, world\")"
   ]
  },
  {
   "cell_type": "code",
   "execution_count": 19,
   "metadata": {},
   "outputs": [
    {
     "name": "stdout",
     "output_type": "stream",
     "text": [
      "x is not an integer\n"
     ]
    }
   ],
   "source": [
    "try:\n",
    "    x = int(input(\"what's x? \"))\n",
    "except ValueError:\n",
    "    print(\"x is not an integer\")\n",
    "else:\n",
    "    print(f\"x is {x}\")\n"
   ]
  },
  {
   "cell_type": "code",
   "execution_count": null,
   "metadata": {},
   "outputs": [
    {
     "name": "stdout",
     "output_type": "stream",
     "text": [
      "x is not an integer\n",
      "x is not an integer\n",
      "x is not an integer\n",
      "x is 12\n"
     ]
    }
   ],
   "source": [
    "while(True):\n",
    "    try:\n",
    "        x = int(input(\"what's x? \"))\n",
    "    except ValueError:\n",
    "        print(\"x is not an integer\")\n",
    "    else:\n",
    "        print(f\"x is {x}\")\n",
    "        break"
   ]
  },
  {
   "cell_type": "code",
   "execution_count": 29,
   "metadata": {},
   "outputs": [
    {
     "name": "stdout",
     "output_type": "stream",
     "text": [
      "x is 2\n"
     ]
    }
   ],
   "source": [
    "def main():\n",
    "    x = get_int()\n",
    "    print(f\"x is {x}\")\n",
    "\n",
    "def get_int():\n",
    "    while(True):\n",
    "        try:\n",
    "            return int(input(\"what's x? \"))\n",
    "        except ValueError:\n",
    "            # print(\"x is not an integer\")\n",
    "            pass\n",
    "if __name__ == \"__main__\":\n",
    "    main()"
   ]
  },
  {
   "cell_type": "code",
   "execution_count": 31,
   "metadata": {},
   "outputs": [
    {
     "name": "stdout",
     "output_type": "stream",
     "text": [
      "x is 24\n"
     ]
    }
   ],
   "source": [
    "def main():\n",
    "    x = get_int(\"What's x? \")\n",
    "    print(f\"x is {x}\")\n",
    "\n",
    "def get_int(prompt):\n",
    "    while True:\n",
    "        try:\n",
    "            return int(input(prompt))\n",
    "        except ValueError:\n",
    "            # print(\"x is not an integer\")\n",
    "            pass\n",
    "if __name__ == \"__main__\":\n",
    "    main()"
   ]
  },
  {
   "cell_type": "markdown",
   "metadata": {},
   "source": [
    "# Solving the Exception Handling Questions"
   ]
  },
  {
   "cell_type": "code",
   "execution_count": 48,
   "metadata": {},
   "outputs": [
    {
     "name": "stdout",
     "output_type": "stream",
     "text": [
      "\tNumber should be less than 10 !!\n",
      "\n"
     ]
    }
   ],
   "source": [
    "\"\"\" Solving the first question \"\"\"\n",
    "print(\"\\tNumber should be less than 10 !!\\n\")\n",
    "num = int(input(\"What's your number? \"))\n",
    "try:\n",
    "    if num <= 10:\n",
    "        for i in range(num):\n",
    "            l = [x for x in range(1, num+1)]\n",
    "        print(f\"your list is -> {l}\")\n",
    "except MemoryError:\n",
    "    print(\"Please enter a value in range !!\")"
   ]
  },
  {
   "cell_type": "code",
   "execution_count": 8,
   "metadata": {},
   "outputs": [
    {
     "name": "stdout",
     "output_type": "stream",
     "text": [
      "Recursion Limit Exist\n",
      "🚀 Program Done !\n"
     ]
    }
   ],
   "source": [
    "\"\"\" Solving the second question \"\"\"\n",
    "try:\n",
    "    def rec(n):\n",
    "        rec(n + 1)\n",
    "    rec(1)\n",
    "except RecursionError:\n",
    "    print(\"Recursion Limit Exist\")\n",
    "finally:\n",
    "    print(\"🚀 Program Done !\")"
   ]
  },
  {
   "cell_type": "code",
   "execution_count": 153,
   "metadata": {},
   "outputs": [
    {
     "name": "stdout",
     "output_type": "stream",
     "text": [
      "We could not found this module\n",
      "Program Executed\n"
     ]
    }
   ],
   "source": [
    "\"\"\" Solving the fourth question \"\"\"\n",
    "try:\n",
    "    import nonexisting_module\n",
    "except ModuleNotFoundError:\n",
    "    print(\"We could not found this module\")\n",
    "finally:\n",
    "    print(\"Program Executed\")"
   ]
  },
  {
   "cell_type": "code",
   "execution_count": 24,
   "metadata": {},
   "outputs": [
    {
     "name": "stdout",
     "output_type": "stream",
     "text": [
      "Your salary is: 12000.0\n"
     ]
    }
   ],
   "source": [
    "\"\"\" Solving the fifth question \"\"\"\n",
    "class NegativeSalaryError(Exception):\n",
    "    def __init__(self, message = \"Salary cannot be negative!\"):\n",
    "        self.message = message\n",
    "        super().__init__(self.message)\n",
    "try:\n",
    "    sal = float(input(\"Enter your salary: \"))\n",
    "    if sal < 0:\n",
    "        raise NegativeSalaryError\n",
    "    print(f\"Your salary is: {sal}\")\n",
    "except NegativeSalaryError as e:\n",
    "    print(f\"Error: {e}\")"
   ]
  },
  {
   "cell_type": "code",
   "execution_count": null,
   "metadata": {},
   "outputs": [
    {
     "name": "stdout",
     "output_type": "stream",
     "text": [
      "Cannot concat integer to a string\n",
      "['The number is: 10']\n"
     ]
    }
   ],
   "source": [
    "\"\"\" Solving the 6th question \"\"\"\n",
    "# l = [\"john\", 24 , \"potter\", 25.5]\n",
    "# try:\n",
    "#     for i in l:\n",
    "#         sum(i)\n",
    "#     # print(add)\n",
    "# except TypeError:\n",
    "#     print(\"You cannot add an integer value with a string value !!\")\n",
    "# finally:\n",
    "#     print(\"Program executed !!\")\n",
    "\n",
    "try:\n",
    "    num = 10\n",
    "    my_list = [\"The number is: \"+num]\n",
    "except TypeError:\n",
    "    print(\"Cannot concat integer to a string\")\n",
    "    my_list = [\"The number is: \"+str(num)]\n",
    "print(my_list)"
   ]
  },
  {
   "cell_type": "code",
   "execution_count": null,
   "metadata": {},
   "outputs": [
    {
     "name": "stdout",
     "output_type": "stream",
     "text": [
      "$55\n",
      "Program Done !\n"
     ]
    }
   ],
   "source": [
    "\"\"\" Solving the seventh question \"\"\"\n",
    "d = {\n",
    "    \"Apple\": \"$51\",\n",
    "    \"Mango\": \"$55\",\n",
    "    \"Grapes\": \"$66\",\n",
    "    \"Avacado\": \"$88\"\n",
    "}\n",
    "try:\n",
    "    fruits_key = input(\"Enter fruit name? \")\n",
    "    print(d[fruits_key])\n",
    "except KeyError:\n",
    "    print(\"Fruit not found !\")\n",
    "finally:\n",
    "    print(\"Program Done !\")"
   ]
  },
  {
   "cell_type": "code",
   "execution_count": 52,
   "metadata": {},
   "outputs": [
    {
     "name": "stdout",
     "output_type": "stream",
     "text": [
      "No attribute present like this\n",
      "Program Executed !!\n"
     ]
    }
   ],
   "source": [
    "\"\"\" Solving the eighth question \"\"\"\n",
    "class calculator:\n",
    "    def __init__(self, num1, num2):\n",
    "        self.num1 = num1\n",
    "        self.num2 = num2\n",
    "    def add(self):\n",
    "        return self.num1 + self.num2\n",
    "    def sub(self):\n",
    "        return self.num1 - self.num2\n",
    "\n",
    "try:\n",
    "    obj = calculator(12, 4)\n",
    "    print(obj.mul())\n",
    "except AttributeError:\n",
    "    print(\"No attribute present like this\")\n",
    "finally:\n",
    "    print(\"Program Executed !!\")"
   ]
  },
  {
   "cell_type": "code",
   "execution_count": null,
   "metadata": {},
   "outputs": [
    {
     "name": "stdout",
     "output_type": "stream",
     "text": [
      "x is 22\n"
     ]
    }
   ],
   "source": [
    "\"\"\" Solving the ninth question \"\"\"\n",
    "while True:\n",
    "    try:\n",
    "        x = int(input(\"Enter an integer: \"))\n",
    "        print(f\"x is {x}\")\n",
    "        break\n",
    "    except ValueError:\n",
    "        pass"
   ]
  },
  {
   "cell_type": "code",
   "execution_count": 65,
   "metadata": {},
   "outputs": [
    {
     "name": "stdout",
     "output_type": "stream",
     "text": [
      "File not present in the directory !\n",
      "\t🚀 Program executed successfully\n"
     ]
    }
   ],
   "source": [
    "\"\"\" Solving the tenth question \"\"\"\n",
    "# source_code.txt\n",
    "# demo.txt\n",
    "try:\n",
    "    with open(\"demo.txt\", \"r\") as file:\n",
    "        data = file.read()\n",
    "        print(data)\n",
    "except FileNotFoundError:\n",
    "    print(\"File not present in the directory !\")\n",
    "finally:\n",
    "    print(\"\\t🚀 Program executed successfully\")"
   ]
  },
  {
   "cell_type": "code",
   "execution_count": null,
   "metadata": {},
   "outputs": [
    {
     "name": "stdout",
     "output_type": "stream",
     "text": [
      "Non-Numeric values are not valid to enter !\n",
      "Program Executed !\n"
     ]
    }
   ],
   "source": [
    "\"\"\" Solving the eleventh question \"\"\"\n",
    "limit = int(input(\"Enter the limit? \"))\n",
    "l = [] # Creating an empty list\n",
    "try: # Handling the exception\n",
    "    for i in range(limit):\n",
    "        val = int(input(\"Enter the number\"))\n",
    "        l.append(val)\n",
    "    access_ind = int(input(\"Enter the index? \"))\n",
    "    print(f\"value -> {l[access_ind]}\")\n",
    "except IndexError:\n",
    "    print(\"Index is too large to locate in the list !\")\n",
    "except ValueError:\n",
    "    print(\"Non-Numeric values are not valid to enter !\")\n",
    "finally: # Finally diplaying the success message\n",
    "    print(\"Program Executed !\")"
   ]
  },
  {
   "cell_type": "code",
   "execution_count": 88,
   "metadata": {},
   "outputs": [
    {
     "name": "stdout",
     "output_type": "stream",
     "text": [
      "Error: Invalid age\n",
      "Program Executed Successfully !\n"
     ]
    }
   ],
   "source": [
    "\"\"\" Solving the 12th question \"\"\"\n",
    "# Creating the custom exception !!\n",
    "class InvalidAgeException(Exception):\n",
    "    def __init__(self, message = \"Invalid age\"):\n",
    "        self.message = message\n",
    "        super().__init__(self.message)\n",
    "\n",
    "try:\n",
    "    age = int(input(\"Enter your age? \"))\n",
    "    if age >= 18:\n",
    "        print(f\"Your age -> {age}, Eligible !!\")\n",
    "    else:\n",
    "        raise InvalidAgeException\n",
    "except InvalidAgeException as e:\n",
    "    print(f\"Error: {e}\")\n",
    "finally:\n",
    "    print(\"Program Executed Successfully !\")"
   ]
  },
  {
   "cell_type": "code",
   "execution_count": 90,
   "metadata": {},
   "outputs": [
    {
     "name": "stdout",
     "output_type": "stream",
     "text": [
      "Number can not be divisible by 0!\n",
      "🚀Program Executed !!\n"
     ]
    }
   ],
   "source": [
    "\"\"\" Solving the 13th question \"\"\"\n",
    "try:\n",
    "    num1 = int(input(\"What's num1? \"))\n",
    "    num2 = int(input(\"What's num2? \"))\n",
    "    res = num1 / num2; print(f\"result = {res}\")\n",
    "except ZeroDivisionError:\n",
    "    print(\"Number can not be divisible by 0!\")\n",
    "finally:\n",
    "    print(\"🚀Program Executed !!\")"
   ]
  },
  {
   "cell_type": "markdown",
   "metadata": {},
   "source": [
    "# Solving the file handling questions"
   ]
  },
  {
   "cell_type": "code",
   "execution_count": null,
   "metadata": {},
   "outputs": [
    {
     "name": "stdout",
     "output_type": "stream",
     "text": [
      "Number of words in this line -> 4\n",
      "This is the demo\n",
      "Number of words in this line -> 4\n",
      "file from the source_code\n",
      "Number of words in this line -> 2\n",
      "and the\n",
      "Number of words in this line -> 1\n",
      "occurence\n",
      "Number of words in this line -> 4\n",
      "of the python programming\n"
     ]
    }
   ],
   "source": [
    "\"\"\" Solving the 14th Question \"\"\"\n",
    "try:\n",
    "    with open('source_code.txt', \"r\") as file:\n",
    "        data = file.readlines()\n",
    "        for i in data:\n",
    "            print(f\"Number of words in this line -> {len(i.split())}\")\n",
    "            print(i.strip())\n",
    "except FileNotFoundError:\n",
    "    print(\"No such file is there in the directory !\")\n",
    "except PermissionError:\n",
    "    print(\"You dont have the permission for that file !\")"
   ]
  },
  {
   "cell_type": "code",
   "execution_count": null,
   "metadata": {},
   "outputs": [
    {
     "name": "stdout",
     "output_type": "stream",
     "text": [
      "['Apple', 'Mango']\n",
      "Apple\n",
      "Mango\n"
     ]
    }
   ],
   "source": [
    "\"\"\"Solving the 15th question \"\"\"\n",
    "limit = int(input(\"Enter the limit: \"))\n",
    "l = []\n",
    "for i in range(limit):\n",
    "    var = input(\"Enter fruit name? \")\n",
    "    l.append(var)\n",
    "print(l)\n",
    "with open('fruits.txt', \"w\") as file:\n",
    "    for fruits in l:\n",
    "        file.write(fruits+\"\\n\")\n",
    "\n",
    "with open('fruits.txt', \"r\") as file:\n",
    "    data = file.readlines()\n",
    "    for i in data:\n",
    "        print(i.strip())"
   ]
  },
  {
   "cell_type": "code",
   "execution_count": null,
   "metadata": {},
   "outputs": [
    {
     "name": "stdout",
     "output_type": "stream",
     "text": [
      "Total number of character present in the sample is -> 45\n"
     ]
    }
   ],
   "source": [
    "\"\"\"Solving the 16th Question\"\"\"\n",
    "add = 0\n",
    "with open('sample.txt', \"r\") as file:\n",
    "    data = file.read()\n",
    "    for i in data:\n",
    "        if i != \" \":\n",
    "            var = i.split()\n",
    "            add += len(var)\n",
    "    print(f\"Total number of character present in the sample is -> {add}\")"
   ]
  },
  {
   "cell_type": "code",
   "execution_count": 151,
   "metadata": {},
   "outputs": [
    {
     "name": "stdout",
     "output_type": "stream",
     "text": [
      "This is the story text file\n",
      "\n",
      "where\n",
      "\n"
     ]
    }
   ],
   "source": [
    "\"\"\" Solving the 17th Question \"\"\"\n",
    "N = int(input(\"Enter the number? \"))\n",
    "with open('story.txt',\"r\") as file:\n",
    "    for i in range(N):\n",
    "        data = file.readlines(N)\n",
    "        print(*data) # Unpacking the data using *"
   ]
  },
  {
   "cell_type": "code",
   "execution_count": 152,
   "metadata": {},
   "outputs": [
    {
     "name": "stdout",
     "output_type": "stream",
     "text": [
      "{'T': 1, 'h': 1, 'i': 5, 's': 4, 'a': 3, 'f': 3, 'l': 1, 'e': 6, 'c': 1, 'r': 5, 't': 2, 'd': 1, 'o': 5, 'p': 2, 'm': 2, 'n': 2, 'g': 1}\n"
     ]
    }
   ],
   "source": [
    "\"\"\" Solving the 18th Question \"\"\"\n",
    "d = {}\n",
    "with open('sample.txt', \"r\") as file:\n",
    "    data = file.read()\n",
    "    for i in data:\n",
    "        if i != \" \":\n",
    "            if i in d:\n",
    "                d[i] += 1\n",
    "            else:\n",
    "                d[i] = 1\n",
    "print(d)"
   ]
  }
 ],
 "metadata": {
  "kernelspec": {
   "display_name": "Python 3",
   "language": "python",
   "name": "python3"
  },
  "language_info": {
   "codemirror_mode": {
    "name": "ipython",
    "version": 3
   },
   "file_extension": ".py",
   "mimetype": "text/x-python",
   "name": "python",
   "nbconvert_exporter": "python",
   "pygments_lexer": "ipython3",
   "version": "3.13.0"
  }
 },
 "nbformat": 4,
 "nbformat_minor": 2
}
