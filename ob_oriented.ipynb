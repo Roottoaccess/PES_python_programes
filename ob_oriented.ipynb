{
 "cells": [
  {
   "cell_type": "code",
   "execution_count": 1,
   "metadata": {},
   "outputs": [],
   "source": [
    "# classes and object\n",
    "\n",
    "class car:\n",
    "    def __init__(self, make = \"Honda\", model =\"S24\", year = 2020):\n",
    "        self.make = make\n",
    "        self.model = model\n",
    "        self.year = year\n",
    "\n",
    "    def start(self):\n",
    "        print(f\"{self.model} of {self.make} has started\")\n",
    "\n",
    "    def accelerate(self):\n",
    "        print(f\"{self.model} of year {self.year} has a speed of 80\")\n",
    "        "
   ]
  },
  {
   "cell_type": "markdown",
   "metadata": {},
   "source": [
    "Instantiate"
   ]
  },
  {
   "cell_type": "code",
   "execution_count": 5,
   "metadata": {},
   "outputs": [],
   "source": [
    "car1 = car()"
   ]
  },
  {
   "cell_type": "markdown",
   "metadata": {},
   "source": [
    "Accesing methods"
   ]
  },
  {
   "cell_type": "code",
   "execution_count": 6,
   "metadata": {},
   "outputs": [
    {
     "name": "stdout",
     "output_type": "stream",
     "text": [
      "S24 of Honda has started\n"
     ]
    }
   ],
   "source": [
    "car1.start()"
   ]
  },
  {
   "cell_type": "code",
   "execution_count": 4,
   "metadata": {},
   "outputs": [
    {
     "name": "stdout",
     "output_type": "stream",
     "text": [
      "S24 of year 2020 has a speed of 80\n"
     ]
    }
   ],
   "source": [
    "car1.accelerate()"
   ]
  },
  {
   "cell_type": "markdown",
   "metadata": {},
   "source": [
    "Accesing attributes"
   ]
  },
  {
   "cell_type": "code",
   "execution_count": 7,
   "metadata": {},
   "outputs": [
    {
     "data": {
      "text/plain": [
       "'Honda'"
      ]
     },
     "execution_count": 7,
     "metadata": {},
     "output_type": "execute_result"
    }
   ],
   "source": [
    "car1.make"
   ]
  },
  {
   "cell_type": "code",
   "execution_count": 12,
   "metadata": {},
   "outputs": [],
   "source": [
    "car2 = car('Ford', 'Eco Sport', 2020)"
   ]
  },
  {
   "cell_type": "code",
   "execution_count": 13,
   "metadata": {},
   "outputs": [
    {
     "data": {
      "text/plain": [
       "2020"
      ]
     },
     "execution_count": 13,
     "metadata": {},
     "output_type": "execute_result"
    }
   ],
   "source": [
    "car2.year"
   ]
  },
  {
   "cell_type": "code",
   "execution_count": null,
   "metadata": {},
   "outputs": [
    {
     "data": {
      "text/plain": [
       "'Dog , name , bride, age , have a method called as bark and then trying call the bark method using the object'"
      ]
     },
     "execution_count": 14,
     "metadata": {},
     "output_type": "execute_result"
    }
   ],
   "source": [
    "\"\"\"Dog , name , breed, age , have a method called as bark and then trying call the bark method using the object\"\"\""
   ]
  },
  {
   "cell_type": "code",
   "execution_count": 17,
   "metadata": {},
   "outputs": [],
   "source": [
    "class Dog:\n",
    "    def __init__(self, name, breed, age):\n",
    "        self.name = name\n",
    "        self.breed = breed\n",
    "        self.age = age\n",
    "\n",
    "    def bark(self):\n",
    "        print(f\"The dog named {self.name} is the {self.breed} with the age {self.age}\")"
   ]
  },
  {
   "cell_type": "markdown",
   "metadata": {},
   "source": [
    "Calling the bark method"
   ]
  },
  {
   "cell_type": "code",
   "execution_count": 22,
   "metadata": {},
   "outputs": [
    {
     "name": "stdout",
     "output_type": "stream",
     "text": [
      "The dog named bob is the boxer with the age 5\n"
     ]
    }
   ],
   "source": [
    "Dog('bob', 'boxer', 5).bark()"
   ]
  },
  {
   "cell_type": "markdown",
   "metadata": {},
   "source": [
    "Another way to call the method of the class"
   ]
  },
  {
   "cell_type": "code",
   "execution_count": 27,
   "metadata": {},
   "outputs": [
    {
     "name": "stdout",
     "output_type": "stream",
     "text": [
      "Camry of Toyota has started\n"
     ]
    }
   ],
   "source": [
    "car.start(car1)"
   ]
  },
  {
   "cell_type": "code",
   "execution_count": 30,
   "metadata": {},
   "outputs": [],
   "source": [
    "# classes and object\n",
    "\n",
    "class car:\n",
    "    def __init__(self, make, model, year):\n",
    "        self.make = make\n",
    "        self.model = model\n",
    "        self.year = year\n",
    "\n",
    "    def __init__(self):\n",
    "        print(f\"I own a {self.model} of {self.make} from the year {self.year}\")\n",
    "\n",
    "    def start(self):\n",
    "        print(f\"{self.model} of {self.make} has started\")\n",
    "\n",
    "    def accelerate(self):\n",
    "        print(f\"{self.model} of year {self.year} has a speed of 80\")\n",
    "        "
   ]
  },
  {
   "cell_type": "code",
   "execution_count": 33,
   "metadata": {},
   "outputs": [
    {
     "ename": "TypeError",
     "evalue": "car.__init__() takes 1 positional argument but 4 were given",
     "output_type": "error",
     "traceback": [
      "\u001b[0;31m---------------------------------------------------------------------------\u001b[0m",
      "\u001b[0;31mTypeError\u001b[0m                                 Traceback (most recent call last)",
      "Cell \u001b[0;32mIn[33], line 1\u001b[0m\n\u001b[0;32m----> 1\u001b[0m c1 \u001b[38;5;241m=\u001b[39m \u001b[43mcar\u001b[49m\u001b[43m(\u001b[49m\u001b[38;5;124;43m'\u001b[39;49m\u001b[38;5;124;43mCelerio\u001b[39;49m\u001b[38;5;124;43m'\u001b[39;49m\u001b[43m,\u001b[49m\u001b[43m \u001b[49m\u001b[38;5;124;43m'\u001b[39;49m\u001b[38;5;124;43mMaruti\u001b[39;49m\u001b[38;5;124;43m'\u001b[39;49m\u001b[43m,\u001b[49m\u001b[43m \u001b[49m\u001b[38;5;241;43m2020\u001b[39;49m\u001b[43m)\u001b[49m\n",
      "\u001b[0;31mTypeError\u001b[0m: car.__init__() takes 1 positional argument but 4 were given"
     ]
    }
   ],
   "source": [
    "c1 = car('Celerio', 'Maruti', 2020)"
   ]
  },
  {
   "cell_type": "markdown",
   "metadata": {},
   "source": []
  },
  {
   "cell_type": "markdown",
   "metadata": {},
   "source": [
    "create a class called as employee , has emp id, name, department, date of birth and date of joining, create methods that gives the detailes of the employee , displays current age of the employy , displays the number of years the employee has worked in the department"
   ]
  },
  {
   "cell_type": "code",
   "execution_count": 59,
   "metadata": {},
   "outputs": [],
   "source": [
    "class employee:\n",
    "    def __init__(self, emp_id, name, department, date_of_birth, date_of_joining):\n",
    "        self.emp_id = emp_id\n",
    "        self.name = name\n",
    "        self.department = department\n",
    "        self.date_of_birth = date_of_birth\n",
    "        self.date_of_joining = date_of_joining\n",
    "\n",
    "    def logic(self):\n",
    "        age_calculate = 2024 - self.date_of_birth\n",
    "        print(f\"{age_calculate} is the age\")\n",
    "        # s = self.date_of_birth\n",
    "\n",
    "    def details(self):\n",
    "        print(f\"The employee name {self.name} with the ID {self.emp_id} in the department {self.department} , {self.date_of_birth}, and date of joining {self.date_of_joining}\")"
   ]
  },
  {
   "cell_type": "code",
   "execution_count": 60,
   "metadata": {},
   "outputs": [],
   "source": [
    "dis = employee('john', 12 , 'front_end', 2003, '4/8/2022')"
   ]
  },
  {
   "cell_type": "code",
   "execution_count": 61,
   "metadata": {},
   "outputs": [
    {
     "name": "stdout",
     "output_type": "stream",
     "text": [
      "21 is the age\n",
      "The employee name 12 with the ID john in the department front_end , 2003, and date of joining 4/8/2022\n"
     ]
    }
   ],
   "source": [
    "dis.logic()\n",
    "dis.details()"
   ]
  },
  {
   "cell_type": "code",
   "execution_count": 19,
   "metadata": {},
   "outputs": [],
   "source": [
    "class car:\n",
    "    def __init__(self, make, model, year = 2020):\n",
    "        self.make = make\n",
    "        self.model = model\n",
    "        self.year = year\n",
    "        self.odometer = 0\n",
    "\n",
    "\n",
    "    def __init__(self):\n",
    "        print(f\"I own a {self.model} of {self.make} from the year {self.year}\")\n",
    "\n",
    "    def start(self):\n",
    "        print(f\"{self.model} of {self.make} has started\")\n",
    "\n",
    "    def accelerate(self):\n",
    "        print(f\"{self.model} of year {self.year} has a speed of 80\")\n",
    "\n",
    "    def read_odometer(self):\n",
    "        print(f\"{self.model} has {self.odometer} kms on it\")"
   ]
  },
  {
   "cell_type": "code",
   "execution_count": 30,
   "metadata": {},
   "outputs": [
    {
     "name": "stdout",
     "output_type": "stream",
     "text": [
      "I own a Eco Sport of Ford from the year 2020\n",
      "Eco Sport of Ford has started\n",
      "Eco Sport has 0 kms on it\n"
     ]
    }
   ],
   "source": [
    "class Car:\n",
    "    def __init__(self, make, model, year=2020):\n",
    "        self.make = make\n",
    "        self.model = model\n",
    "        self.year = year\n",
    "        self.odometer = 0\n",
    "\n",
    "    def display_details(self):\n",
    "        print(f\"I own a {self.model} of {self.make} from the year {self.year}\")\n",
    "\n",
    "    def start(self):\n",
    "        print(f\"{self.model} of {self.make} has started\")\n",
    "\n",
    "    def accelerate(self):\n",
    "        print(f\"{self.model} of year {self.year} has a speed of 80 km/h\")\n",
    "\n",
    "    def read_odometer(self):\n",
    "        print(f\"{self.model} has {self.odometer} kms on it\")\n",
    "\n",
    "    def update_odometer(self , distance):\n",
    "        self.odometer = distance\n",
    "    \n",
    "    def change_reading(self, distance):\n",
    "        self.odometer += distance\n",
    "\n",
    "# Example usage\n",
    "car1 = Car('Ford', 'Eco Sport')\n",
    "car1.display_details()\n",
    "car1.start()\n",
    "# car1.accelerate()\n",
    "car1.read_odometer()\n",
    "# car1.update_odometer(42)\n"
   ]
  },
  {
   "cell_type": "code",
   "execution_count": 31,
   "metadata": {},
   "outputs": [
    {
     "name": "stdout",
     "output_type": "stream",
     "text": [
      "Eco Sport has 0 kms on it\n"
     ]
    }
   ],
   "source": [
    "car1.read_odometer()"
   ]
  },
  {
   "cell_type": "markdown",
   "metadata": {},
   "source": [
    "Update the existing value"
   ]
  },
  {
   "cell_type": "code",
   "execution_count": 32,
   "metadata": {},
   "outputs": [],
   "source": [
    "car1.change_reading(100)"
   ]
  },
  {
   "cell_type": "code",
   "execution_count": 33,
   "metadata": {},
   "outputs": [
    {
     "name": "stdout",
     "output_type": "stream",
     "text": [
      "Eco Sport has 100 kms on it\n"
     ]
    }
   ],
   "source": [
    "car1.read_odometer()"
   ]
  },
  {
   "cell_type": "code",
   "execution_count": null,
   "metadata": {},
   "outputs": [],
   "source": []
  }
 ],
 "metadata": {
  "kernelspec": {
   "display_name": "Python 3",
   "language": "python",
   "name": "python3"
  },
  "language_info": {
   "codemirror_mode": {
    "name": "ipython",
    "version": 3
   },
   "file_extension": ".py",
   "mimetype": "text/x-python",
   "name": "python",
   "nbconvert_exporter": "python",
   "pygments_lexer": "ipython3",
   "version": "3.13.0"
  }
 },
 "nbformat": 4,
 "nbformat_minor": 2
}
