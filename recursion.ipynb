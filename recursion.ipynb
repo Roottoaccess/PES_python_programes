{
 "cells": [
  {
   "cell_type": "code",
   "execution_count": null,
   "metadata": {},
   "outputs": [
    {
     "name": "stdout",
     "output_type": "stream",
     "text": [
      "The factorial result is: 120\n"
     ]
    }
   ],
   "source": [
    "# factorial using recursion\n",
    "fact = 1\n",
    "def fact_rec(num):\n",
    "    if(num == 0 or num == 1):\n",
    "        return 1\n",
    "    return num * fact_rec(num - 1)\n",
    "\n",
    "def main():\n",
    "    num = int(input(\"What's the num ? \"))\n",
    "    print(f\"The factorial result is: {fact_rec(num)}\")\n",
    "\n",
    "if __name__ == \"__main__\":\n",
    "    main()"
   ]
  },
  {
   "cell_type": "code",
   "execution_count": 7,
   "metadata": {},
   "outputs": [
    {
     "name": "stdout",
     "output_type": "stream",
     "text": [
      "5\n"
     ]
    }
   ],
   "source": [
    "# creating the fibonacci sequence using recursion\n",
    "def fbonacci(num):\n",
    "    # n1 = 0; n2 = 1\n",
    "    if num <= 0:\n",
    "        return 0\n",
    "    elif num == 1:\n",
    "        return 1\n",
    "    else:\n",
    "        return fbonacci(num - 1) + fbonacci(num - 2)\n",
    "\n",
    "# def f_printing(term):\n",
    "#     for _ in range(term):\n",
    "#         print(fbonacci(_))\n",
    "\n",
    "def main():\n",
    "    num = int(input(\"Enter num? \"))\n",
    "    print(fbonacci(num))\n",
    "\n",
    "if __name__ == \"__main__\":\n",
    "    main()"
   ]
  },
  {
   "cell_type": "code",
   "execution_count": 8,
   "metadata": {},
   "outputs": [],
   "source": [
    "import os\n",
    "\n",
    "os.mkdir(\"recursion\")"
   ]
  },
  {
   "cell_type": "code",
   "execution_count": 9,
   "metadata": {},
   "outputs": [],
   "source": [
    "os.chdir(\"recursion\")"
   ]
  },
  {
   "cell_type": "code",
   "execution_count": null,
   "metadata": {},
   "outputs": [],
   "source": []
  }
 ],
 "metadata": {
  "kernelspec": {
   "display_name": "Python 3",
   "language": "python",
   "name": "python3"
  },
  "language_info": {
   "codemirror_mode": {
    "name": "ipython",
    "version": 3
   },
   "file_extension": ".py",
   "mimetype": "text/x-python",
   "name": "python",
   "nbconvert_exporter": "python",
   "pygments_lexer": "ipython3",
   "version": "3.13.0"
  }
 },
 "nbformat": 4,
 "nbformat_minor": 2
}
