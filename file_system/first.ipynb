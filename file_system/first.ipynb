{
 "cells": [
  {
   "cell_type": "code",
   "execution_count": null,
   "metadata": {},
   "outputs": [
    {
     "name": "stdout",
     "output_type": "stream",
     "text": [
      "This is the MacOS Machine where we are creating the file and pefroming some manupulation with it\n",
      "<class 'str'>\n"
     ]
    }
   ],
   "source": [
    "file = open(\"demo.txt\", \"r\")\n",
    "data = file.read() # It will read the content !!\n",
    "print(data)\n",
    "print(type(data))\n",
    "file.close()"
   ]
  },
  {
   "cell_type": "code",
   "execution_count": null,
   "metadata": {},
   "outputs": [
    {
     "name": "stdout",
     "output_type": "stream",
     "text": [
      "This \n",
      "<class 'str'>\n"
     ]
    }
   ],
   "source": [
    "file = open(\"demo.txt\", \"r\")\n",
    "data = file.read(5) # It will only print till 5 !!\n",
    "print(data)\n",
    "print(type(data))\n",
    "file.close()"
   ]
  },
  {
   "cell_type": "code",
   "execution_count": 6,
   "metadata": {},
   "outputs": [
    {
     "name": "stdout",
     "output_type": "stream",
     "text": [
      "This is the MacOS Machine \n",
      "\n",
      "where we are creating the file and \n",
      "\n",
      "<class 'str'>\n"
     ]
    }
   ],
   "source": [
    "file = open(\"demo.txt\", \"r\")\n",
    "data = file.readline()\n",
    "print(data) # It reads line be line !!\n",
    "data = file.readline() # This is the second line reading !!\n",
    "print(data)\n",
    "print(type(data))\n",
    "file.close()"
   ]
  },
  {
   "cell_type": "code",
   "execution_count": null,
   "metadata": {},
   "outputs": [],
   "source": [
    "# Writing to a file in python file handling !!\n",
    "file = open(\"demo.txt\", \"w\") # Data override to the main file as well\n",
    "file.write(\"I am the darkest hacker python will ever get !!\")\n",
    "file.close()"
   ]
  },
  {
   "cell_type": "code",
   "execution_count": 8,
   "metadata": {},
   "outputs": [],
   "source": [
    "# This is the append system !!\n",
    "file = open(\"demo.txt\", \"a\") # Append the text to the last\n",
    "file.write(\"This is the message from the other hacker in the hacking team !!\")\n",
    "file.close()"
   ]
  },
  {
   "cell_type": "code",
   "execution_count": 11,
   "metadata": {},
   "outputs": [],
   "source": [
    "# creating the file when ther is no file in the space !!\n",
    "f = open(\"bigHack.txt\", \"w\")\n",
    "f.write(\"This is the anonymous hacker group \\n that is dangourous for the backing blockchane systems\")\n",
    "f.close()"
   ]
  },
  {
   "cell_type": "code",
   "execution_count": 12,
   "metadata": {},
   "outputs": [
    {
     "data": {
      "text/plain": [
       "' {r+} This is for reading and writing both !! '"
      ]
     },
     "execution_count": 12,
     "metadata": {},
     "output_type": "execute_result"
    }
   ],
   "source": [
    "\"\"\" {r+} This is for reading and writing both !! \"\"\""
   ]
  },
  {
   "cell_type": "code",
   "execution_count": null,
   "metadata": {},
   "outputs": [
    {
     "name": "stdout",
     "output_type": "stream",
     "text": [
      "e backing blockchane systems\n"
     ]
    }
   ],
   "source": [
    "fi = open(\"bigHack.txt\",\"r+\")\n",
    "fi.write(\"This is the server message from the black hacker team $/@$5# \")\n",
    "file = fi.read()\n",
    "print(file); fi.close() ## Override from the starting !!"
   ]
  },
  {
   "cell_type": "code",
   "execution_count": 23,
   "metadata": {},
   "outputs": [
    {
     "name": "stdout",
     "output_type": "stream",
     "text": [
      "Haha your are in the hacker's terminal , be aware of green commands <?>\n"
     ]
    }
   ],
   "source": [
    "with open(\"demo.txt\",\"r\") as f:\n",
    "    data = f.read()\n",
    "    print(data)"
   ]
  },
  {
   "cell_type": "code",
   "execution_count": 22,
   "metadata": {},
   "outputs": [],
   "source": [
    "with open(\"demo.txt\", \"w\") as f:\n",
    "    f.write(\"Haha your are in the hacker's terminal , be aware of green commands <?>\")"
   ]
  },
  {
   "cell_type": "code",
   "execution_count": 24,
   "metadata": {},
   "outputs": [],
   "source": [
    "import os\n",
    "os.remove(\"demo.txt\")"
   ]
  },
  {
   "cell_type": "code",
   "execution_count": 26,
   "metadata": {},
   "outputs": [],
   "source": [
    "with open(\"practise.txt\", \"w\") as file:\n",
    "    file.write(\"Hi everyone \\nwe are learning file I/O \\nusing python \\nI love programming in python\")"
   ]
  },
  {
   "cell_type": "code",
   "execution_count": 29,
   "metadata": {},
   "outputs": [
    {
     "name": "stdout",
     "output_type": "stream",
     "text": [
      "Hi everyone \n",
      "we are learning file I/O \n",
      "using python \n",
      "I love programming in python\n"
     ]
    }
   ],
   "source": [
    "with open(\"practise.txt\", \"r\") as f:\n",
    "    hack = f.read()\n",
    "    print(hack)"
   ]
  },
  {
   "cell_type": "code",
   "execution_count": 31,
   "metadata": {},
   "outputs": [
    {
     "name": "stdout",
     "output_type": "stream",
     "text": [
      "Hi everyone \n",
      "we are learning file I/O \n",
      "using dark_python \n",
      "I love programming in dark_python\n"
     ]
    }
   ],
   "source": [
    "with open(\"practise.txt\") as file:\n",
    "    data = file.read()\n",
    "\n",
    "new_data = data.replace(\"python\",\"dark_python\"); print(new_data)\n",
    "\n",
    "with open(\"practise.txt\", \"w\") as file:\n",
    "    file.write(new_data)"
   ]
  },
  {
   "cell_type": "code",
   "execution_count": null,
   "metadata": {},
   "outputs": [
    {
     "name": "stdout",
     "output_type": "stream",
     "text": [
      "Found !\n"
     ]
    }
   ],
   "source": [
    "# count = 0\n",
    "def check_work(word): # Function Defination !!\n",
    "    with open(\"practise.txt\" , \"r\") as file:\n",
    "        data = file.read()\n",
    "        if(data.find(word) != -1):\n",
    "            print(\"Found !\")\n",
    "        else:\n",
    "            print(\"Not Found !\")\n",
    "check_work(\"learning\") # Function Calling !!\n",
    "\n",
    "#     for i in data.split():\n",
    "#         if \"learning\" in i:\n",
    "#             count += 1\n",
    "# if count > 0:\n",
    "#     print(\"yes\")"
   ]
  },
  {
   "cell_type": "code",
   "execution_count": 41,
   "metadata": {},
   "outputs": [
    {
     "name": "stdout",
     "output_type": "stream",
     "text": [
      "Found in line_number -> 4\n"
     ]
    }
   ],
   "source": [
    "def check_for_line(): # Function Defination !!\n",
    "    word = \"programming\"\n",
    "    data = True\n",
    "    line_no = 1\n",
    "    with open(\"practise.txt\" , \"r\") as file:\n",
    "        while data:\n",
    "            data = file.readline()\n",
    "            if(word in data):\n",
    "                print(f\"Found in line_number -> {line_no}\")\n",
    "                return\n",
    "            line_no += 1\n",
    "\n",
    "    return -1\n",
    "check_for_line()"
   ]
  },
  {
   "cell_type": "code",
   "execution_count": null,
   "metadata": {},
   "outputs": [
    {
     "name": "stdout",
     "output_type": "stream",
     "text": [
      "1, 2, 76, 84, 90, 101, 104, 99, 108\n"
     ]
    }
   ],
   "source": [
    "with open(\"practise1.txt\") as f:\n",
    "    data = f.read()\n",
    "    print(data)"
   ]
  },
  {
   "cell_type": "code",
   "execution_count": 47,
   "metadata": {},
   "outputs": [
    {
     "name": "stdout",
     "output_type": "stream",
     "text": [
      "The count is 6\n"
     ]
    }
   ],
   "source": [
    "count = 0\n",
    "num = data.split(\",\")\n",
    "for i in num:\n",
    "    if(int(i) % 2 == 0):\n",
    "        count += 1\n",
    "print(f\"The count is {count}\")"
   ]
  },
  {
   "cell_type": "code",
   "execution_count": null,
   "metadata": {},
   "outputs": [],
   "source": []
  }
 ],
 "metadata": {
  "kernelspec": {
   "display_name": "Python 3",
   "language": "python",
   "name": "python3"
  },
  "language_info": {
   "codemirror_mode": {
    "name": "ipython",
    "version": 3
   },
   "file_extension": ".py",
   "mimetype": "text/x-python",
   "name": "python",
   "nbconvert_exporter": "python",
   "pygments_lexer": "ipython3",
   "version": "3.13.0"
  }
 },
 "nbformat": 4,
 "nbformat_minor": 2
}
