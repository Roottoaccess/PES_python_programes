{
 "cells": [
  {
   "cell_type": "markdown",
   "metadata": {},
   "source": [
    "# My object oriented programming concepts"
   ]
  },
  {
   "cell_type": "code",
   "execution_count": 8,
   "metadata": {},
   "outputs": [
    {
     "name": "stdout",
     "output_type": "stream",
     "text": [
      "BMW\n",
      "M4sport\n",
      "BMW M4sport\n"
     ]
    }
   ],
   "source": [
    "class Car:\n",
    "    def __init__(self, brand, model):\n",
    "        self.brand = brand\n",
    "        self.model = model\n",
    "\n",
    "    def full_name(self):\n",
    "        return f\"{self.brand} {self.model}\"\n",
    "\n",
    "my_car = Car(\"BMW\", \"M4sport\")\n",
    "print(my_car.brand)\n",
    "print(my_car.model)\n",
    "print(my_car.full_name())"
   ]
  },
  {
   "cell_type": "code",
   "execution_count": null,
   "metadata": {},
   "outputs": [
    {
     "name": "stdout",
     "output_type": "stream",
     "text": [
      "The student name is Danil and the department he is belongs here is Philosophi\n"
     ]
    }
   ],
   "source": [
    "# Experimenting with my own class\n",
    "class Student:\n",
    "    # This is a constructor of the class\n",
    "\n",
    "    def __init__(self, name, department):\n",
    "        self.name = name\n",
    "        self.department = department\n",
    "\n",
    "# Creating the object and taking the value from the user input\n",
    "\n",
    "\n",
    "name = input(\"What's your name? \")\n",
    "department = input(\"What's your department? \")\n",
    "obj = Student(name, department)\n",
    "\n",
    "print(f\"The student name is {obj.name} and the department he is belongs here is {obj.department}\")"
   ]
  },
  {
   "cell_type": "code",
   "execution_count": 6,
   "metadata": {},
   "outputs": [
    {
     "name": "stdout",
     "output_type": "stream",
     "text": [
      "Safari\n",
      "Tata\n"
     ]
    }
   ],
   "source": [
    "my_new_car = Car(\"Tata\", \"Safari\")\n",
    "print(my_new_car.model); print(my_new_car.brand)"
   ]
  },
  {
   "cell_type": "code",
   "execution_count": 11,
   "metadata": {},
   "outputs": [
    {
     "name": "stdout",
     "output_type": "stream",
     "text": [
      "area = 41.208\n",
      "<class 'str'>\n"
     ]
    }
   ],
   "source": [
    "# Calculate the area\n",
    "class defination:\n",
    "    def __init__(self, length, breadth):\n",
    "        self.length = length\n",
    "        self.breadth = breadth\n",
    "\n",
    "    def calculate(self):\n",
    "        return f\"area = {self.length * self.breadth}\"\n",
    "\n",
    "# Creating the object\n",
    "length = float(input(\"What's length? \"))\n",
    "breadth = float(input(\"What's breadth? \"))\n",
    "obj = defination(length, breadth)\n",
    "print(obj.calculate())\n",
    "print(type(obj.calculate()))"
   ]
  },
  {
   "cell_type": "code",
   "execution_count": 12,
   "metadata": {},
   "outputs": [
    {
     "name": "stdout",
     "output_type": "stream",
     "text": [
      "Brand: Tesla Model: Cybertruck with batterySize: 44khm\n"
     ]
    }
   ],
   "source": [
    "class Car:\n",
    "    def __init__(self, brand, model):\n",
    "        self.brand = brand\n",
    "        self.model = model\n",
    "\n",
    "    def full_name(self):\n",
    "        return f\"{self.brand} {self.model}\"\n",
    "\n",
    "\n",
    "class Electric_car(Car):\n",
    "    def __init__(self, brand, model, batterysize):\n",
    "        super().__init__(brand, model)\n",
    "        self.batterysize = batterysize\n",
    "\n",
    "    def definition(self):\n",
    "        return f\"Brand: {self.brand} Model: {self.model} with batterySize: {self.batterysize}\"\n",
    "\n",
    "# Creating the object\n",
    "brand = input(\"Brand? \"); model = input(\"Model? \"); batterysize = input(\"BatterySize? \")\n",
    "obj = Electric_car(brand, model, batterysize)\n",
    "\n",
    "print(obj.definition())"
   ]
  },
  {
   "cell_type": "code",
   "execution_count": 17,
   "metadata": {},
   "outputs": [
    {
     "name": "stdout",
     "output_type": "stream",
     "text": [
      "Tesla !\n"
     ]
    }
   ],
   "source": [
    "# Encapsulation\n",
    "class Car:\n",
    "    def __init__(self, brand, model):\n",
    "        self.__brand = brand\n",
    "        self.model = model\n",
    "\n",
    "    def chai_brand(self):\n",
    "        return self.__brand + \" !\"\n",
    "\n",
    "    def full_name(self):\n",
    "        return f\"{self.__brand} {self.model}\"\n",
    "\n",
    "\n",
    "class Electric_car(Car):\n",
    "    def __init__(self, __brand, model, batterysize):\n",
    "        super().__init__(__brand, model)\n",
    "        self.batterysize = batterysize\n",
    "\n",
    "    def definition(self):\n",
    "        return f\"Brand: {self.__brand} Model: {self.model} with batterySize: {self.batterysize}\"\n",
    "\n",
    "# Creating the object\n",
    "# brand = input(\"Brand? \"); model = input(\"Model? \"); batterysize = input(\"BatterySize? \")\n",
    "# obj = Electric_car(brand, model, batterysize)\n",
    "\n",
    "# print(obj.definition())\n",
    "obj = Electric_car(\"Tesla\", \"CyberTruck\", \"84kWh\")\n",
    "\n",
    "# print(obj.__brand)\n",
    "print(obj.chai_brand())"
   ]
  },
  {
   "cell_type": "code",
   "execution_count": 18,
   "metadata": {},
   "outputs": [
    {
     "name": "stdout",
     "output_type": "stream",
     "text": [
      "electric charge\n",
      "Petrol or Diesel\n"
     ]
    }
   ],
   "source": [
    "# Polymorphism\n",
    "class Car:\n",
    "    def __init__(self, brand, model):\n",
    "        self.__brand = brand\n",
    "        self.model = model\n",
    "\n",
    "    def chai_brand(self):\n",
    "        return self.__brand + \" !\"\n",
    "\n",
    "    def full_name(self):\n",
    "        return f\"{self.__brand} {self.model}\"\n",
    "\n",
    "    def fuel_type(self):\n",
    "        return \"Petrol or Diesel\"\n",
    "\n",
    "class Electric_car(Car):\n",
    "    def __init__(self, __brand, model, batterysize):\n",
    "        super().__init__(__brand, model)\n",
    "        self.batterysize = batterysize\n",
    "\n",
    "    def fuel_type(self):\n",
    "        return \"electric charge\"\n",
    "\n",
    "    def definition(self):\n",
    "        return f\"Brand: {self.__brand} Model: {self.model} with batterySize: {self.batterysize}\"\n",
    "\n",
    "# Creating the object\n",
    "# brand = input(\"Brand? \"); model = input(\"Model? \"); batterysize = input(\"BatterySize? \")\n",
    "# obj = Electric_car(brand, model, batterysize)\n",
    "\n",
    "# print(obj.definition())\n",
    "obj = Electric_car(\"Tesla\", \"CyberTruck\", \"84kWh\")\n",
    "\n",
    "# print(obj.__brand)\n",
    "print(obj.fuel_type())\n",
    "\n",
    "obj1 = Car(\"Tata\", \"safari\")\n",
    "\n",
    "print(obj1.fuel_type())"
   ]
  },
  {
   "cell_type": "code",
   "execution_count": null,
   "metadata": {},
   "outputs": [
    {
     "name": "stdout",
     "output_type": "stream",
     "text": [
      "electric charge\n",
      "Cars are means of transport\n"
     ]
    }
   ],
   "source": [
    "# Class Variable\n",
    "class Car:\n",
    "    total_car = 0\n",
    "    def __init__(self, brand, model):\n",
    "        self.__brand = brand\n",
    "        self.model = model\n",
    "        Car.total_car += 1\n",
    "\n",
    "    def chai_brand(self):\n",
    "        return self.__brand + \" !\"\n",
    "\n",
    "    def full_name(self):\n",
    "        return f\"{self.__brand} {self.model}\"\n",
    "\n",
    "    def fuel_type(self):\n",
    "        return \"Petrol or Diesel\"\n",
    "    @staticmethod # decorators..\n",
    "    def general_description():\n",
    "        return \"Cars are means of transport\"\n",
    "\n",
    "class Electric_car(Car):\n",
    "    def __init__(self, __brand, model, batterysize):\n",
    "        super().__init__(__brand, model)\n",
    "        self.batterysize = batterysize\n",
    "\n",
    "    def fuel_type(self):\n",
    "        return \"electric charge\"\n",
    "\n",
    "    def definition(self):\n",
    "        return f\"Brand: {self.__brand} Model: {self.model} with batterySize: {self.batterysize}\"\n",
    "\n",
    "# Creating the object\n",
    "# brand = input(\"Brand? \"); model = input(\"Model? \"); batterysize = input(\"BatterySize? \")\n",
    "# obj = Electric_car(brand, model, batterysize)\n",
    "\n",
    "# print(obj.definition())\n",
    "obj = Electric_car(\"Tesla\", \"CyberTruck\", \"84kWh\")\n",
    "\n",
    "# print(obj.__brand)\n",
    "print(obj.fuel_type())\n",
    "\n",
    "obj1 = Car(\"Tata\", \"safari\")\n",
    "# print(obj1.general_description())\n",
    "print(Car.general_description())"
   ]
  },
  {
   "cell_type": "code",
   "execution_count": null,
   "metadata": {},
   "outputs": [],
   "source": [
    " "
   ]
  }
 ],
 "metadata": {
  "kernelspec": {
   "display_name": "Python 3",
   "language": "python",
   "name": "python3"
  },
  "language_info": {
   "codemirror_mode": {
    "name": "ipython",
    "version": 3
   },
   "file_extension": ".py",
   "mimetype": "text/x-python",
   "name": "python",
   "nbconvert_exporter": "python",
   "pygments_lexer": "ipython3",
   "version": "3.13.0"
  }
 },
 "nbformat": 4,
 "nbformat_minor": 2
}
