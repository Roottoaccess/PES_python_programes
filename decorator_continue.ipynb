{
 "cells": [
  {
   "cell_type": "code",
   "execution_count": 1,
   "metadata": {},
   "outputs": [
    {
     "name": "stdout",
     "output_type": "stream",
     "text": [
      "This is the python interpreter\n"
     ]
    }
   ],
   "source": [
    "print(f\"This is the python interpreter\")"
   ]
  },
  {
   "cell_type": "code",
   "execution_count": 2,
   "metadata": {},
   "outputs": [
    {
     "name": "stdout",
     "output_type": "stream",
     "text": [
      "2.0\n",
      "None\n"
     ]
    }
   ],
   "source": [
    "def divide(x,y):\n",
    "    print(x/y)\n",
    "\n",
    "def outer_div(func):\n",
    "    def inner(x, y):\n",
    "        if(x < y):\n",
    "            x,y = y,x\n",
    "            return func(x,y)\n",
    "    return inner\n",
    "\n",
    "divide1 = outer_div(divide)\n",
    "\n",
    "print(divide(4, 2))"
   ]
  },
  {
   "cell_type": "code",
   "execution_count": 2,
   "metadata": {},
   "outputs": [],
   "source": [
    "def split_string(function):\n",
    "    def wrapper():\n",
    "        func = function()\n",
    "        splitted_string = func.split()\n",
    "        return splitted_string\n",
    "    return wrapper"
   ]
  },
  {
   "cell_type": "code",
   "execution_count": 3,
   "metadata": {},
   "outputs": [],
   "source": [
    "def uppercase_decorator(function):\n",
    "    def wrapper():\n",
    "        func = function()\n",
    "        make_uppercase = func.upper()\n",
    "        return make_uppercase\n",
    "    \n",
    "    return wrapper"
   ]
  },
  {
   "cell_type": "code",
   "execution_count": 4,
   "metadata": {},
   "outputs": [],
   "source": [
    "def say_hi():\n",
    "    return 'hello there'"
   ]
  },
  {
   "cell_type": "code",
   "execution_count": 5,
   "metadata": {},
   "outputs": [
    {
     "data": {
      "text/plain": [
       "'hello there'"
      ]
     },
     "execution_count": 5,
     "metadata": {},
     "output_type": "execute_result"
    }
   ],
   "source": [
    "say_hi()"
   ]
  },
  {
   "cell_type": "code",
   "execution_count": 6,
   "metadata": {},
   "outputs": [],
   "source": [
    "@split_string\n",
    "@uppercase_decorator\n",
    "def say_hi():\n",
    "    return 'hello there'"
   ]
  },
  {
   "cell_type": "code",
   "execution_count": 8,
   "metadata": {},
   "outputs": [
    {
     "data": {
      "text/plain": [
       "['HELLO', 'THERE']"
      ]
     },
     "execution_count": 8,
     "metadata": {},
     "output_type": "execute_result"
    }
   ],
   "source": [
    "say_hi()"
   ]
  },
  {
   "cell_type": "code",
   "execution_count": 9,
   "metadata": {},
   "outputs": [
    {
     "data": {
      "text/plain": [
       "'Create a calculator, addition decorator, substraction function, multiplecation function decorators'"
      ]
     },
     "execution_count": 9,
     "metadata": {},
     "output_type": "execute_result"
    }
   ],
   "source": [
    "\"\"\"Create a calculator, addition decorator, substraction function, multiplecation function decorators\"\"\""
   ]
  },
  {
   "cell_type": "code",
   "execution_count": null,
   "metadata": {},
   "outputs": [
    {
     "name": "stdout",
     "output_type": "stream",
     "text": [
      "Select operation:\n",
      "1. Add\n",
      "2. Subtract\n",
      "3. Multiply\n"
     ]
    }
   ],
   "source": [
    "# Addition decorator\n",
    "def addition_decorator(func):\n",
    "    def wrapper(*args, **kwargs):\n",
    "        print(\"Performing addition...\")\n",
    "        result = func(*args, **kwargs)\n",
    "        return result\n",
    "    return wrapper\n",
    "\n",
    "# Subtraction function\n",
    "def subtract(a, b):\n",
    "    return a - b\n",
    "\n",
    "# Multiplication decorator\n",
    "def multiplication_decorator(func):\n",
    "    def wrapper(*args, **kwargs):\n",
    "        print(\"Performing multiplication...\")\n",
    "        result = func(*args, **kwargs)\n",
    "        return result\n",
    "    return wrapper\n",
    "\n",
    "# Function to add numbers (decorated with addition_decorator)\n",
    "@addition_decorator\n",
    "def add(a, b):\n",
    "    return a + b\n",
    "\n",
    "# Function to multiply numbers (decorated with multiplication_decorator)\n",
    "@multiplication_decorator\n",
    "def multiply(a, b):\n",
    "    return a * b\n",
    "\n",
    "# Calculator function\n",
    "def calculator():\n",
    "    print(\"Select operation:\")\n",
    "    print(\"1. Add\")\n",
    "    print(\"2. Subtract\")\n",
    "    print(\"3. Multiply\")\n",
    "    \n",
    "    choice = input(\"Enter choice (1/2/3): \")\n",
    "    \n",
    "    if choice not in ['1', '2', '3']:\n",
    "        print(\"Invalid choice\")\n",
    "        return\n",
    "    \n",
    "    num1 = float(input(\"Enter first number: \"))\n",
    "    num2 = float(input(\"Enter second number: \"))\n",
    "    \n",
    "    if choice == '1':\n",
    "        print(f\"The result of addition is: {add(num1, num2)}\")\n",
    "    elif choice == '2':\n",
    "        print(f\"The result of subtraction is: {subtract(num1, num2)}\")\n",
    "    elif choice == '3':\n",
    "        print(f\"The result of multiplication is: {multiply(num1, num2)}\")\n",
    "\n",
    "# Run the calculator\n",
    "if __name__ == \"__main__\":\n",
    "    calculator()"
   ]
  },
  {
   "cell_type": "code",
   "execution_count": 1,
   "metadata": {},
   "outputs": [],
   "source": [
    "def a_decorator_passing_arbitary_arguiments(function_to_decorate):\n",
    "    def a_wrapper_accepting_arbitary_arguiment(*args, **kwargs):\n",
    "        print('The positional arguments are', args)\n",
    "        print('The keyword arguiments are', kwargs)\n",
    "\n",
    "        function_to_decorate(*args)\n",
    "    return a_wrapper_accepting_arbitary_arguiment"
   ]
  },
  {
   "cell_type": "code",
   "execution_count": null,
   "metadata": {},
   "outputs": [],
   "source": []
  },
  {
   "cell_type": "code",
   "execution_count": 2,
   "metadata": {},
   "outputs": [],
   "source": [
    "@a_decorator_passing_arbitary_arguiments\n",
    "def function_with_no_arguiment():\n",
    "    print(\"No arguiments here\")"
   ]
  },
  {
   "cell_type": "code",
   "execution_count": 3,
   "metadata": {},
   "outputs": [
    {
     "name": "stdout",
     "output_type": "stream",
     "text": [
      "The positional arguments are ()\n",
      "The keyword arguiments are {}\n",
      "No arguiments here\n"
     ]
    }
   ],
   "source": [
    "function_with_no_arguiment()"
   ]
  },
  {
   "cell_type": "code",
   "execution_count": 4,
   "metadata": {},
   "outputs": [],
   "source": [
    "@a_decorator_passing_arbitary_arguiments\n",
    "def function_with_arguiment(a,b,c):\n",
    "    print(a,b,c)"
   ]
  },
  {
   "cell_type": "code",
   "execution_count": 5,
   "metadata": {},
   "outputs": [
    {
     "name": "stdout",
     "output_type": "stream",
     "text": [
      "The positional arguments are (1, 2, 3)\n",
      "The keyword arguiments are {}\n",
      "1 2 3\n"
     ]
    }
   ],
   "source": [
    "function_with_arguiment(1,2,3)"
   ]
  },
  {
   "cell_type": "code",
   "execution_count": null,
   "metadata": {},
   "outputs": [],
   "source": []
  }
 ],
 "metadata": {
  "kernelspec": {
   "display_name": "Python 3",
   "language": "python",
   "name": "python3"
  },
  "language_info": {
   "codemirror_mode": {
    "name": "ipython",
    "version": 3
   },
   "file_extension": ".py",
   "mimetype": "text/x-python",
   "name": "python",
   "nbconvert_exporter": "python",
   "pygments_lexer": "ipython3",
   "version": "3.13.0"
  }
 },
 "nbformat": 4,
 "nbformat_minor": 2
}
