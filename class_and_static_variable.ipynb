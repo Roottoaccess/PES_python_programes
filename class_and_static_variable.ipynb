{
 "cells": [
  {
   "cell_type": "markdown",
   "metadata": {},
   "source": [
    "# Class Variables"
   ]
  },
  {
   "cell_type": "code",
   "execution_count": 1,
   "metadata": {},
   "outputs": [],
   "source": [
    "class Student:\n",
    "    school_name = 'Hogwarts'\n",
    "    def __init__(self, name, roll_no):\n",
    "        self.name = name\n",
    "        self.roll_no = roll_no"
   ]
  },
  {
   "cell_type": "code",
   "execution_count": 2,
   "metadata": {},
   "outputs": [],
   "source": [
    "s1 = Student(\"Draco\", 4)"
   ]
  },
  {
   "cell_type": "code",
   "execution_count": 3,
   "metadata": {},
   "outputs": [
    {
     "data": {
      "text/plain": [
       "('Draco', 4, 'Hogwarts', 'Hogwarts')"
      ]
     },
     "execution_count": 3,
     "metadata": {},
     "output_type": "execute_result"
    }
   ],
   "source": [
    "s1.name, s1.roll_no, s1.school_name, Student.school_name"
   ]
  },
  {
   "cell_type": "code",
   "execution_count": 6,
   "metadata": {},
   "outputs": [],
   "source": [
    "class Student:\n",
    "    school_name = 'Hogwarts'\n",
    "    def __init__(self, name, roll_no):\n",
    "        self.name = name\n",
    "        self.roll_no = roll_no        \n",
    "        print(f\"{self.school_name} and {Student.school_name}\")"
   ]
  },
  {
   "cell_type": "code",
   "execution_count": 7,
   "metadata": {},
   "outputs": [
    {
     "name": "stdout",
     "output_type": "stream",
     "text": [
      "Hogwarts and Hogwarts\n"
     ]
    }
   ],
   "source": [
    "s2 = Student(\"Crabb\", 3)"
   ]
  },
  {
   "cell_type": "markdown",
   "metadata": {},
   "source": [
    "Accessing class variables inside instance method"
   ]
  },
  {
   "cell_type": "code",
   "execution_count": 8,
   "metadata": {},
   "outputs": [],
   "source": [
    "# Create a class called as vehical that takes an attribute make n numbers of wheels and the class variable called as numbersof variable create a child class called as car which takes a parent attribute and its own attributes called as model. every time a car object is created the number of vahicals should get incremented + its own class veriables number of car should incremented"
   ]
  },
  {
   "cell_type": "code",
   "execution_count": 9,
   "metadata": {},
   "outputs": [],
   "source": [
    " #create another child class called as truck that takes the parent attribute and its own attribute called as chase numbers"
   ]
  },
  {
   "cell_type": "code",
   "execution_count": 10,
   "metadata": {},
   "outputs": [],
   "source": [
    "# Display the number of vehicals and number of cars"
   ]
  },
  {
   "cell_type": "code",
   "execution_count": 21,
   "metadata": {},
   "outputs": [],
   "source": [
    "class vehical:\n",
    "    # Creating the class variable\n",
    "    vehical_created = 0\n",
    "    def __init__(self, make, no_of_wheels):\n",
    "        self.make = make\n",
    "        self.no_of_wheels = no_of_wheels\n",
    "        vehical.vehical_created += 1\n",
    "class Car(vehical):\n",
    "    car_count = 0\n",
    "    def __init__(self, make, no_of_wheels, model):\n",
    "        super().__init__(make, no_of_wheels)\n",
    "        self.model = model\n",
    "        Car.car_count += 1\n",
    "class Truck(vehical):\n",
    "    truck_count = 0\n",
    "    def __init__(self, make, no_of_wheels, chessy):\n",
    "        super().__init__(self, make, no_of_wheels)\n",
    "        self.chessy=chessy\n",
    "        Truck.truck_count += 1"
   ]
  },
  {
   "cell_type": "code",
   "execution_count": null,
   "metadata": {},
   "outputs": [
    {
     "data": {
      "text/plain": [
       "<__main__.Car at 0x103e0d220>"
      ]
     },
     "execution_count": 22,
     "metadata": {},
     "output_type": "execute_result"
    }
   ],
   "source": []
  },
  {
   "cell_type": "code",
   "execution_count": null,
   "metadata": {},
   "outputs": [],
   "source": []
  }
 ],
 "metadata": {
  "kernelspec": {
   "display_name": "Python 3",
   "language": "python",
   "name": "python3"
  },
  "language_info": {
   "codemirror_mode": {
    "name": "ipython",
    "version": 3
   },
   "file_extension": ".py",
   "mimetype": "text/x-python",
   "name": "python",
   "nbconvert_exporter": "python",
   "pygments_lexer": "ipython3",
   "version": "3.13.0"
  }
 },
 "nbformat": 4,
 "nbformat_minor": 2
}
