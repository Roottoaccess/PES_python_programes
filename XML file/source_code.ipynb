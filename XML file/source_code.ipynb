{
 "cells": [
  {
   "cell_type": "markdown",
   "metadata": {},
   "source": [
    "# XML workings"
   ]
  },
  {
   "cell_type": "code",
   "execution_count": 1,
   "metadata": {},
   "outputs": [],
   "source": [
    "import xml.etree.ElementTree as xml"
   ]
  },
  {
   "cell_type": "markdown",
   "metadata": {},
   "source": [
    "Create the data"
   ]
  },
  {
   "cell_type": "code",
   "execution_count": 3,
   "metadata": {},
   "outputs": [],
   "source": [
    "books = [\n",
    "    {'title': 'Pride and Prejudice',\n",
    "     'author': 'Jane Austin',\n",
    "     'price': 240,\n",
    "     'category': 'fiction'},\n",
    "    {\n",
    "        'title': 'The diary of a Young Girl',\n",
    "        'author': 'Anne Frank',\n",
    "        'price': 550,\n",
    "        'category': 'non-fiction'\n",
    "    }\n",
    "]"
   ]
  },
  {
   "cell_type": "code",
   "execution_count": 4,
   "metadata": {},
   "outputs": [
    {
     "data": {
      "text/plain": [
       "list"
      ]
     },
     "execution_count": 4,
     "metadata": {},
     "output_type": "execute_result"
    }
   ],
   "source": [
    "type(books)"
   ]
  },
  {
   "cell_type": "markdown",
   "metadata": {},
   "source": [
    "# Creating the Root element"
   ]
  },
  {
   "cell_type": "code",
   "execution_count": null,
   "metadata": {},
   "outputs": [],
   "source": [
    "root = xml.Element('bookstore') # This is the root node in the XML format"
   ]
  },
  {
   "cell_type": "code",
   "execution_count": 6,
   "metadata": {},
   "outputs": [
    {
     "data": {
      "text/plain": [
       "xml.etree.ElementTree.Element"
      ]
     },
     "execution_count": 6,
     "metadata": {},
     "output_type": "execute_result"
    }
   ],
   "source": [
    "type(root)"
   ]
  },
  {
   "cell_type": "code",
   "execution_count": 7,
   "metadata": {},
   "outputs": [
    {
     "data": {
      "text/plain": [
       "<Element 'bookstore' at 0x1107b2430>"
      ]
     },
     "execution_count": 7,
     "metadata": {},
     "output_type": "execute_result"
    }
   ],
   "source": [
    "root"
   ]
  },
  {
   "cell_type": "markdown",
   "metadata": {},
   "source": [
    "Iterate over the list to create a tree structure"
   ]
  },
  {
   "cell_type": "code",
   "execution_count": null,
   "metadata": {},
   "outputs": [],
   "source": [
    "for book in books:\n",
    "    book_ele=xml.Element('book')\n",
    "    root.append(book_ele) ### Add a new book to the root\n",
    "    book_ele.set(\"category\",book['category']) ### Add attributes to the node\n",
    "    title=xml.SubElement(book_ele, \"title\") ## Create a child node\n",
    "    title.text = book['title'] ## get the value for the child node\n",
    "    author=xml.SubElement(book_ele, 'author')\n",
    "    author.text = book['author']\n",
    "    price = xml.SubElement(book_ele, 'price')\n",
    "    price.text = str(book['price'])"
   ]
  },
  {
   "cell_type": "code",
   "execution_count": 11,
   "metadata": {},
   "outputs": [
    {
     "data": {
      "text/plain": [
       "<Element 'book' at 0x1108d4ea0>"
      ]
     },
     "execution_count": 11,
     "metadata": {},
     "output_type": "execute_result"
    }
   ],
   "source": [
    "book_ele"
   ]
  },
  {
   "cell_type": "markdown",
   "metadata": {},
   "source": [
    "Create the xml tree"
   ]
  },
  {
   "cell_type": "code",
   "execution_count": null,
   "metadata": {},
   "outputs": [],
   "source": [
    "tree = xml.ElementTree(root) # Attaching the root node !!"
   ]
  },
  {
   "cell_type": "markdown",
   "metadata": {},
   "source": [
    "Create the XML document"
   ]
  },
  {
   "cell_type": "code",
   "execution_count": 13,
   "metadata": {},
   "outputs": [
    {
     "name": "stdout",
     "output_type": "stream",
     "text": [
      "books.xml created successfully\n"
     ]
    },
    {
     "data": {
      "text/plain": [
       "<function BufferedWriter.close()>"
      ]
     },
     "execution_count": 13,
     "metadata": {},
     "output_type": "execute_result"
    }
   ],
   "source": [
    "fx = open('books.xml','wb')\n",
    "tree.write(fx)\n",
    "print('books.xml created successfully')\n",
    "fx.close"
   ]
  },
  {
   "cell_type": "markdown",
   "metadata": {},
   "source": [
    "# Read from a xml document"
   ]
  },
  {
   "cell_type": "code",
   "execution_count": 14,
   "metadata": {},
   "outputs": [],
   "source": [
    "tree = xml.ElementTree(file = \"books.xml\")"
   ]
  },
  {
   "cell_type": "code",
   "execution_count": 15,
   "metadata": {},
   "outputs": [
    {
     "data": {
      "text/plain": [
       "xml.etree.ElementTree.ElementTree"
      ]
     },
     "execution_count": 15,
     "metadata": {},
     "output_type": "execute_result"
    }
   ],
   "source": [
    "type(tree)"
   ]
  },
  {
   "cell_type": "markdown",
   "metadata": {},
   "source": [
    "Get the root node"
   ]
  },
  {
   "cell_type": "code",
   "execution_count": 17,
   "metadata": {},
   "outputs": [],
   "source": [
    "root = tree.getroot()"
   ]
  },
  {
   "cell_type": "code",
   "execution_count": 18,
   "metadata": {},
   "outputs": [
    {
     "data": {
      "text/plain": [
       "xml.etree.ElementTree.Element"
      ]
     },
     "execution_count": 18,
     "metadata": {},
     "output_type": "execute_result"
    }
   ],
   "source": [
    "type(root)"
   ]
  },
  {
   "cell_type": "code",
   "execution_count": 19,
   "metadata": {},
   "outputs": [
    {
     "data": {
      "text/plain": [
       "<Element 'bookstore' at 0x110e24e50>"
      ]
     },
     "execution_count": 19,
     "metadata": {},
     "output_type": "execute_result"
    }
   ],
   "source": [
    "root"
   ]
  },
  {
   "cell_type": "code",
   "execution_count": 20,
   "metadata": {},
   "outputs": [],
   "source": [
    "B1 =[] # Creating a list ot store multiple data read from the XML document"
   ]
  },
  {
   "cell_type": "markdown",
   "metadata": {},
   "source": [
    "Iterate over the child node of each parent node"
   ]
  },
  {
   "cell_type": "code",
   "execution_count": 21,
   "metadata": {},
   "outputs": [
    {
     "name": "stdout",
     "output_type": "stream",
     "text": [
      "[{'category': 'fiction', 'title': 'Pride and Prejudice', 'author': 'Jane Austin', 'price': '240'}, {'category': 'non-fiction', 'title': 'The diary of a Young Girl', 'author': 'Anne Frank', 'price': '550'}]\n"
     ]
    }
   ],
   "source": [
    "for b in root.findall('book'): # Iteration over b\n",
    "    b_data = {} # Creating a dictionary\n",
    "    b_data['category'] = b.get('category')\n",
    "    for d in b:\n",
    "        b_data[d.tag] = d.text\n",
    "    B1.append(b_data)\n",
    "print(B1)"
   ]
  },
  {
   "cell_type": "markdown",
   "metadata": {},
   "source": [
    "# Modify an XML document"
   ]
  },
  {
   "cell_type": "code",
   "execution_count": 23,
   "metadata": {},
   "outputs": [],
   "source": [
    "tree = xml.ElementTree(file = 'books.xml') # Retrive the data\n",
    "root = tree.getroot()"
   ]
  },
  {
   "cell_type": "code",
   "execution_count": 24,
   "metadata": {},
   "outputs": [],
   "source": [
    "for price_element in root.iter('price'):\n",
    "    p = int(price_element.text)\n",
    "    p+=100\n",
    "    price_element.text = str(p)"
   ]
  },
  {
   "cell_type": "code",
   "execution_count": 25,
   "metadata": {},
   "outputs": [],
   "source": [
    "fx = open('book_1.xml','wb')\n",
    "tree.write(fx)\n",
    "fx.close()"
   ]
  },
  {
   "cell_type": "code",
   "execution_count": 26,
   "metadata": {},
   "outputs": [],
   "source": [
    "# Problem -> Create an XML file called emp.xml with name, age and salary as the attribute of every employee read it and modify the salary by increasing it by 5%"
   ]
  },
  {
   "cell_type": "code",
   "execution_count": 28,
   "metadata": {},
   "outputs": [],
   "source": [
    "Employee = [\n",
    "    {\n",
    "        \"name\": \"Biswarup Dutta\",\n",
    "        \"age\": 22,\n",
    "        \"salary\": 80000\n",
    "    },\n",
    "    {\n",
    "        \"name\": \"Bhavik Jain\",\n",
    "        \"age\": 23,\n",
    "        \"salary\": 85000\n",
    "    },\n",
    "    {\n",
    "        \"name\": \"Asif\",\n",
    "        \"age\": 24,\n",
    "        \"salary\": 90000\n",
    "    }\n",
    "]"
   ]
  },
  {
   "cell_type": "code",
   "execution_count": 29,
   "metadata": {},
   "outputs": [],
   "source": [
    "root = xml.Element('Employee_higher')"
   ]
  },
  {
   "cell_type": "code",
   "execution_count": 31,
   "metadata": {},
   "outputs": [],
   "source": [
    "for emp in Employee:\n",
    "    emp_ele=xml.Element('emp')\n",
    "    root.append(emp_ele) ### Add a new book to the root\n",
    "    emp_ele.set(\"name\",emp['name']) ### Add attributes to the node\n",
    "    age=xml.SubElement(emp_ele, 'age')\n",
    "    age.text = str(emp['age'])\n",
    "    salary = xml.SubElement(emp_ele, 'salary')\n",
    "    salary.text = str(emp['salary'])"
   ]
  },
  {
   "cell_type": "code",
   "execution_count": 33,
   "metadata": {},
   "outputs": [],
   "source": [
    "tree = xml.ElementTree(root)"
   ]
  },
  {
   "cell_type": "code",
   "execution_count": 34,
   "metadata": {},
   "outputs": [
    {
     "name": "stdout",
     "output_type": "stream",
     "text": [
      "employee.xml created successfully\n"
     ]
    },
    {
     "data": {
      "text/plain": [
       "<function BufferedWriter.close()>"
      ]
     },
     "execution_count": 34,
     "metadata": {},
     "output_type": "execute_result"
    }
   ],
   "source": [
    "fx1 = open('employee.xml','wb')\n",
    "tree.write(fx1)\n",
    "print('employee.xml created successfully')\n",
    "fx1.close"
   ]
  },
  {
   "cell_type": "code",
   "execution_count": 35,
   "metadata": {},
   "outputs": [],
   "source": [
    "tree = xml.ElementTree(file = \"employee.xml\")"
   ]
  },
  {
   "cell_type": "code",
   "execution_count": 36,
   "metadata": {},
   "outputs": [],
   "source": [
    "root = tree.getroot()"
   ]
  },
  {
   "cell_type": "code",
   "execution_count": 37,
   "metadata": {},
   "outputs": [],
   "source": [
    "E1 = []"
   ]
  },
  {
   "cell_type": "code",
   "execution_count": 38,
   "metadata": {},
   "outputs": [
    {
     "name": "stdout",
     "output_type": "stream",
     "text": [
      "[{'name': None}, {'name': 'Biswarup Dutta', 'age': '22', 'salary': '80000'}, {'name': 'Bhavik Jain', 'age': '23', 'salary': '85000'}, {'name': 'Asif', 'age': '24', 'salary': '90000'}]\n"
     ]
    }
   ],
   "source": [
    "for e in root.findall('emp'): # Iteration over b\n",
    "    e_data = {} # Creating a dictionary\n",
    "    e_data['name'] = e.get('name')\n",
    "    for d in e:\n",
    "        e_data[d.tag] = d.text\n",
    "    E1.append(e_data)\n",
    "print(E1)"
   ]
  },
  {
   "cell_type": "code",
   "execution_count": 39,
   "metadata": {},
   "outputs": [],
   "source": [
    "tree = xml.ElementTree(file = 'employee.xml') # Retrive the data\n",
    "root = tree.getroot()"
   ]
  },
  {
   "cell_type": "code",
   "execution_count": null,
   "metadata": {},
   "outputs": [],
   "source": []
  },
  {
   "cell_type": "code",
   "execution_count": null,
   "metadata": {},
   "outputs": [],
   "source": []
  },
  {
   "cell_type": "code",
   "execution_count": null,
   "metadata": {},
   "outputs": [],
   "source": []
  },
  {
   "cell_type": "code",
   "execution_count": null,
   "metadata": {},
   "outputs": [],
   "source": []
  },
  {
   "cell_type": "code",
   "execution_count": null,
   "metadata": {},
   "outputs": [],
   "source": []
  },
  {
   "cell_type": "code",
   "execution_count": 40,
   "metadata": {},
   "outputs": [],
   "source": [
    "import xml.dom.minidom as md"
   ]
  },
  {
   "cell_type": "code",
   "execution_count": 56,
   "metadata": {},
   "outputs": [],
   "source": [
    "Student_info = [\n",
    "    {'name': 'Alpha', 'sem':1, 'Prog':'MCA'},\n",
    "    {'name': 'Beta', 'sem': 2, 'Prog':'BCA'}\n",
    "]"
   ]
  },
  {
   "cell_type": "code",
   "execution_count": 57,
   "metadata": {},
   "outputs": [],
   "source": [
    "doc=md.Document()"
   ]
  },
  {
   "cell_type": "code",
   "execution_count": 58,
   "metadata": {},
   "outputs": [],
   "source": [
    "# Create the root structure"
   ]
  },
  {
   "cell_type": "code",
   "execution_count": 59,
   "metadata": {},
   "outputs": [
    {
     "data": {
      "text/plain": [
       "<DOM Element: Student at 0x111136a80>"
      ]
     },
     "execution_count": 59,
     "metadata": {},
     "output_type": "execute_result"
    }
   ],
   "source": [
    "student_info=doc.createElement('Student')\n",
    "doc.appendChild(student_info)"
   ]
  },
  {
   "cell_type": "code",
   "execution_count": 60,
   "metadata": {},
   "outputs": [
    {
     "data": {
      "text/plain": [
       "<xml.dom.minidom.Document at 0x111472270>"
      ]
     },
     "execution_count": 60,
     "metadata": {},
     "output_type": "execute_result"
    }
   ],
   "source": [
    "doc"
   ]
  },
  {
   "cell_type": "code",
   "execution_count": 61,
   "metadata": {},
   "outputs": [
    {
     "data": {
      "text/plain": [
       "(xml.dom.minidom.Document, xml.dom.minidom.Element)"
      ]
     },
     "execution_count": 61,
     "metadata": {},
     "output_type": "execute_result"
    }
   ],
   "source": [
    "type(doc), type(student_info)"
   ]
  },
  {
   "cell_type": "code",
   "execution_count": 62,
   "metadata": {},
   "outputs": [],
   "source": [
    "# Iterate through every student and create elements"
   ]
  },
  {
   "cell_type": "code",
   "execution_count": 64,
   "metadata": {},
   "outputs": [],
   "source": [
    "for s in Student_info:\n",
    "    s_ele = doc.createElement('stud')\n",
    "    name_ele = doc.createElement('name')\n",
    "    name_text = doc.createTextNode(s['name'])\n",
    "    name_ele.appendChild(name_text)\n",
    "    sem = doc.createElement('sem')\n",
    "    sem_text = doc.createTextNode(str(s['sem']))\n",
    "    sem.appendChild(sem_text)\n",
    "    p = doc.createElement('Prog')\n",
    "    p_t = doc.createTextNode(s['Prog'])\n",
    "    s_ele.appendChild(name_ele)\n",
    "    s_ele.appendChild(sem)\n",
    "    s_ele.appendChild(p)\n",
    "    student_info.appendChild(s_ele)\n",
    "fm=open('Stl.xml','w')\n",
    "fm.write(doc.toprettyxml(indent=\" \"))\n",
    "fm.close()"
   ]
  },
  {
   "cell_type": "code",
   "execution_count": null,
   "metadata": {},
   "outputs": [],
   "source": []
  }
 ],
 "metadata": {
  "kernelspec": {
   "display_name": "Python 3",
   "language": "python",
   "name": "python3"
  },
  "language_info": {
   "codemirror_mode": {
    "name": "ipython",
    "version": 3
   },
   "file_extension": ".py",
   "mimetype": "text/x-python",
   "name": "python",
   "nbconvert_exporter": "python",
   "pygments_lexer": "ipython3",
   "version": "3.13.0"
  }
 },
 "nbformat": 4,
 "nbformat_minor": 2
}
