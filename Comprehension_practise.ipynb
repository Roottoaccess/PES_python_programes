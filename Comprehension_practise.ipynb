{
 "cells": [
  {
   "cell_type": "code",
   "execution_count": 3,
   "metadata": {},
   "outputs": [
    {
     "name": "stdout",
     "output_type": "stream",
     "text": [
      "[1, 4, 9, 16, 25, 36, 49, 64, 81, 100]\n"
     ]
    }
   ],
   "source": [
    "# Create a list of square of numbers from 1 - 10 using the list comprehension\n",
    "\n",
    "demo = [1,2,3,4,5,6,7,8,9,10]\n",
    "my_list = [n ** 2 for n in demo]\n",
    "print(my_list)"
   ]
  },
  {
   "cell_type": "code",
   "execution_count": 6,
   "metadata": {},
   "outputs": [
    {
     "name": "stdout",
     "output_type": "stream",
     "text": [
      "[2, 4, 6, 8, 10, 12, 14, 16, 18, 20]\n"
     ]
    }
   ],
   "source": [
    "# List of even number from 1 to 20 using the list comprehension\n",
    "demo = [n for n in range(1,21) if n % 2 == 0]\n",
    "print(demo)"
   ]
  },
  {
   "cell_type": "code",
   "execution_count": 9,
   "metadata": {},
   "outputs": [
    {
     "name": "stdout",
     "output_type": "stream",
     "text": [
      "[5, 6, 6, 4]\n"
     ]
    }
   ],
   "source": [
    "# Given a list of words, create a new list containing the length of each word.\n",
    "words = [\"apple\", \"banana\", \"cherry\", \"date\"]\n",
    "# Output: [5, 6, 6, 4]\n",
    "word_length = [len(_) for _ in words]\n",
    "print(word_length)"
   ]
  },
  {
   "cell_type": "code",
   "execution_count": 10,
   "metadata": {},
   "outputs": [
    {
     "data": {
      "text/plain": [
       "20"
      ]
     },
     "execution_count": 10,
     "metadata": {},
     "output_type": "execute_result"
    }
   ],
   "source": [
    "str = \"There is something !\"\n",
    "len(str)"
   ]
  },
  {
   "cell_type": "code",
   "execution_count": 12,
   "metadata": {},
   "outputs": [
    {
     "name": "stdout",
     "output_type": "stream",
     "text": [
      "['e', 'o', 'o']\n"
     ]
    }
   ],
   "source": [
    "# Create a list of only vowels from a given string.\n",
    "string = \"hello world\"\n",
    "# Output: ['e', 'o', 'o']\n",
    "\n",
    "vowel_extract = [i for i in string if i == 'a' or i == 'e' or i == 'i' or i == 'o' or i == 'u']\n",
    "print(vowel_extract)"
   ]
  },
  {
   "cell_type": "code",
   "execution_count": 13,
   "metadata": {},
   "outputs": [
    {
     "name": "stdout",
     "output_type": "stream",
     "text": [
      "[15, 30, 45]\n"
     ]
    }
   ],
   "source": [
    "# Numbers Divisible by Both 3 and 5:\n",
    "# Generate a list of numbers from 1 to 50 that are divisible by both 3 and 5.\n",
    "# Output: [15, 30, 45]\n",
    "\n",
    "my_list = [n for n in range(1,51) if n % 3 == 0 and n % 5 == 0]\n",
    "print(my_list)"
   ]
  },
  {
   "cell_type": "code",
   "execution_count": 14,
   "metadata": {},
   "outputs": [],
   "source": [
    "# Composition\n",
    "class Component:\n",
    "    def __init__(self):\n",
    "        print('Component class object created')\n",
    "    def ml(self):\n",
    "        print('Component class m1() method is executed')"
   ]
  },
  {
   "cell_type": "code",
   "execution_count": 19,
   "metadata": {},
   "outputs": [],
   "source": [
    "class Composite:\n",
    "    def __init__(self):\n",
    "        self.obj = Component()\n",
    "\n",
    "        print(\"Composite class object also created\")\n",
    "    def m2(self):\n",
    "        print('Composite class m2 method executed')\n",
    "        self.obj.m1"
   ]
  },
  {
   "cell_type": "code",
   "execution_count": 20,
   "metadata": {},
   "outputs": [
    {
     "name": "stdout",
     "output_type": "stream",
     "text": [
      "Component class object created\n",
      "Composite class object also created\n"
     ]
    }
   ],
   "source": [
    "o=Composite()"
   ]
  },
  {
   "cell_type": "code",
   "execution_count": 22,
   "metadata": {},
   "outputs": [],
   "source": [
    "# o.m2()"
   ]
  },
  {
   "cell_type": "code",
   "execution_count": 23,
   "metadata": {},
   "outputs": [],
   "source": [
    "# A car has one engine for wheels and the body that is painted in a a color the engine start and the wheel rools and the body is painted wuth the color"
   ]
  },
  {
   "cell_type": "code",
   "execution_count": null,
   "metadata": {},
   "outputs": [],
   "source": []
  }
 ],
 "metadata": {
  "kernelspec": {
   "display_name": "Python 3",
   "language": "python",
   "name": "python3"
  },
  "language_info": {
   "codemirror_mode": {
    "name": "ipython",
    "version": 3
   },
   "file_extension": ".py",
   "mimetype": "text/x-python",
   "name": "python",
   "nbconvert_exporter": "python",
   "pygments_lexer": "ipython3",
   "version": "3.13.0"
  }
 },
 "nbformat": 4,
 "nbformat_minor": 2
}
