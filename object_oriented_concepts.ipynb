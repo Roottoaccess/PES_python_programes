{
 "cells": [
  {
   "cell_type": "markdown",
   "metadata": {},
   "source": [
    "# Learning about the object oriented concepts for the exam tommorow ...."
   ]
  },
  {
   "cell_type": "code",
   "execution_count": 4,
   "metadata": {},
   "outputs": [
    {
     "name": "stdout",
     "output_type": "stream",
     "text": [
      "10\n"
     ]
    }
   ],
   "source": [
    "# Classes and objects in Python\n",
    "# Class\n",
    "class DemoClass():\n",
    "    a = 10\n",
    "\n",
    "# Creating the object for the class\n",
    "demoObject = DemoClass()\n",
    "print(demoObject.a)"
   ]
  },
  {
   "cell_type": "code",
   "execution_count": 6,
   "metadata": {},
   "outputs": [
    {
     "name": "stdout",
     "output_type": "stream",
     "text": [
      "10\n",
      "30\n"
     ]
    }
   ],
   "source": [
    "# Creating the class\n",
    "class DemoClass():\n",
    "    a = 10\n",
    "    def sum(self):\n",
    "        print(10 + 20)\n",
    "\n",
    "# Creating the objects to call the class\n",
    "demoObject = DemoClass()\n",
    "print(demoObject.a)\n",
    "\n",
    "# Calling the function or method inside the class\n",
    "demoObject.sum()"
   ]
  },
  {
   "cell_type": "markdown",
   "metadata": {},
   "source": [
    "Understanding the methods and constructors"
   ]
  },
  {
   "cell_type": "code",
   "execution_count": 9,
   "metadata": {},
   "outputs": [
    {
     "name": "stdout",
     "output_type": "stream",
     "text": [
      "10\n"
     ]
    }
   ],
   "source": [
    "class DemoClass():\n",
    "    a = 10\n",
    "    def showValues(self):\n",
    "        print(self.a)\n",
    "# Creating the object for the class\n",
    "demoObj = DemoClass()\n",
    "demoObj.showValues()"
   ]
  },
  {
   "cell_type": "code",
   "execution_count": null,
   "metadata": {},
   "outputs": [
    {
     "name": "stdout",
     "output_type": "stream",
     "text": [
      "Welcome to the world of Jarvis\n",
      "3600\n",
      "I love you 3600 times\n"
     ]
    }
   ],
   "source": [
    "class Demo():\n",
    "    def __init__(self, name = \"Jarvis\"): # Here __init__ is the constructor calles itself\n",
    "        self.name = name\n",
    "        print(f\"Welcome to the world of {self.name}\")\n",
    "    a = 60\n",
    "    def multiple(self):\n",
    "        self.c = self.a * self.a\n",
    "        print(self.c)\n",
    "    def welcome(self):\n",
    "        print(f\"I love you {self.c} times\")\n",
    "# Creating the object\n",
    "obj = Demo()\n",
    "obj.multiple()\n",
    "obj.welcome()"
   ]
  },
  {
   "cell_type": "markdown",
   "metadata": {},
   "source": [
    "Concepts of Inheritance"
   ]
  },
  {
   "cell_type": "code",
   "execution_count": null,
   "metadata": {},
   "outputs": [
    {
     "name": "stdout",
     "output_type": "stream",
     "text": [
      "Welcome to the World of Jarvis A\n",
      "Welcome to the world of Jarvis B\n"
     ]
    }
   ],
   "source": [
    "# Single Inheritance\n",
    "class A:\n",
    "    def displayA(self):\n",
    "        print(\"Welcome to the World of Jarvis A\")\n",
    "\n",
    "class B(A):\n",
    "    def displayB(self):\n",
    "        print(\"Welcome to the world of Jarvis B\")\n",
    "# Creating the object of the class B\n",
    "obj = B()\n",
    "obj.displayA()\n",
    "obj.displayB()"
   ]
  },
  {
   "cell_type": "code",
   "execution_count": 26,
   "metadata": {},
   "outputs": [
    {
     "name": "stdout",
     "output_type": "stream",
     "text": [
      "Welcome to the World of Jarvis A\n",
      "Welcome to the world of Jarvis B\n",
      "Welcome to the world of Jarvis C\n"
     ]
    }
   ],
   "source": [
    "# Multilevel Inheritance\n",
    "class A:\n",
    "    def displayA(self):\n",
    "        print(\"Welcome to the World of Jarvis A\")\n",
    "\n",
    "class B(A):\n",
    "    def displayB(self):\n",
    "        print(\"Welcome to the world of Jarvis B\")\n",
    "\n",
    "class C(B):\n",
    "    def displayC(self):\n",
    "        print(\"Welcome to the world of Jarvis C\")\n",
    "# Creating the object of the class B\n",
    "obj = C()\n",
    "obj.displayA()\n",
    "obj.displayB()\n",
    "obj.displayC()"
   ]
  },
  {
   "cell_type": "code",
   "execution_count": 31,
   "metadata": {},
   "outputs": [
    {
     "name": "stdout",
     "output_type": "stream",
     "text": [
      "The salary for Bob Delan is 30,000\n",
      "Bob Delan will work for 6 years in this company !\n"
     ]
    }
   ],
   "source": [
    "# Multiple Inheritance (only support in python)\n",
    "class Employee():\n",
    "    def __init__(self, name, joining_year):\n",
    "        self.name = name; self.joining_year = joining_year\n",
    "\n",
    "class Salary():\n",
    "    def salary(self):\n",
    "        print(f\"The salary for {self.name} is 30,000\")\n",
    "\n",
    "class Age(Employee, Salary):\n",
    "    def Age(self):\n",
    "        self.cal_working_years = 2030 - self.joining_year\n",
    "        print(f\"{self.name} will work for {self.cal_working_years} years in this company !\")\n",
    "\n",
    "# Creating the object....\n",
    "obj = Age('Bob Delan', 2024)\n",
    "obj.salary()\n",
    "obj.Age()"
   ]
  },
  {
   "cell_type": "markdown",
   "metadata": {},
   "source": [
    "Learning about the getter and setter concept in python"
   ]
  },
  {
   "cell_type": "code",
   "execution_count": 34,
   "metadata": {},
   "outputs": [
    {
     "data": {
      "text/plain": [
       "'Tonny Stark'"
      ]
     },
     "execution_count": 34,
     "metadata": {},
     "output_type": "execute_result"
    }
   ],
   "source": [
    "class Student:\n",
    "    def __init__(self):\n",
    "        self.__name = \"\"  # This __name is the private method\n",
    "\n",
    "    def getname(self):\n",
    "        return self.__name\n",
    "    \n",
    "    def setname(self,name):\n",
    "        self.__name = name\n",
    "\n",
    "# Creating the object....\n",
    "obj = Student()\n",
    "obj.setname('Tonny Stark')\n",
    "obj.getname()"
   ]
  },
  {
   "cell_type": "markdown",
   "metadata": {},
   "source": [
    "Encapsulation -> An object variable should not always be directly accessible The methods can ensure the correct values are set. If an incorrect value is set, the\n",
    "method can return an error."
   ]
  },
  {
   "cell_type": "code",
   "execution_count": 39,
   "metadata": {},
   "outputs": [
    {
     "name": "stdout",
     "output_type": "stream",
     "text": [
      "Steve\n",
      "Welcome to the concept of Data Hiding Mechanism !\n"
     ]
    }
   ],
   "source": [
    "# We cant use the private variable in a class outside\n",
    "class Student:\n",
    "    __name = \"Steve\"\n",
    "    def __init__(self):\n",
    "        print(self.__name)\n",
    "        self.__displayinfo()\n",
    "    def __displayinfo(self): # Creating a private function\n",
    "        print(\"Welcome to the concept of Data Hiding Mechanism !\")\n",
    "\n",
    "obj = Student()"
   ]
  },
  {
   "cell_type": "markdown",
   "metadata": {},
   "source": [
    "Polymorphism consist of method overloading and method overridding"
   ]
  },
  {
   "cell_type": "code",
   "execution_count": 40,
   "metadata": {},
   "outputs": [
    {
     "name": "stdout",
     "output_type": "stream",
     "text": [
      "5\n",
      "16\n"
     ]
    }
   ],
   "source": [
    "l = [1,2,3,4,5]\n",
    "print(len(l))\n",
    "str = \"Jarvis Activated\"\n",
    "print(len(str))"
   ]
  },
  {
   "cell_type": "code",
   "execution_count": 41,
   "metadata": {},
   "outputs": [
    {
     "name": "stdout",
     "output_type": "stream",
     "text": [
      "Welcome to Jarvis \n",
      "Welcome to Jarvis Tonny\n"
     ]
    }
   ],
   "source": [
    "# Concept of method overloading\n",
    "class ws:\n",
    "    def displayinfo(self, name = ''):\n",
    "        print(\"Welcome to Jarvis \"+name)\n",
    "\n",
    "# Creating the object\n",
    "obj = ws()\n",
    "obj.displayinfo()\n",
    "obj.displayinfo('Tonny')"
   ]
  },
  {
   "cell_type": "code",
   "execution_count": 43,
   "metadata": {},
   "outputs": [
    {
     "name": "stdout",
     "output_type": "stream",
     "text": [
      "Welcome to Jarvis \n",
      "Welcome to Jarvis iip \n"
     ]
    }
   ],
   "source": [
    "# Concept of method overridding\n",
    "class ws:\n",
    "    def displayinfo(self):\n",
    "        print(\"Welcome to Jarvis \")\n",
    "\n",
    "class iip(ws):\n",
    "    def displayinfo(self):\n",
    "        # return super().displayinfo()\n",
    "        # For calling the same functiom from the super class I will use super keyword\n",
    "        super().displayinfo()\n",
    "        print(\"Welcome to Jarvis iip \")\n",
    "\n",
    "obj = iip()\n",
    "obj.displayinfo()"
   ]
  },
  {
   "cell_type": "code",
   "execution_count": null,
   "metadata": {},
   "outputs": [],
   "source": []
  }
 ],
 "metadata": {
  "kernelspec": {
   "display_name": "Python 3",
   "language": "python",
   "name": "python3"
  },
  "language_info": {
   "codemirror_mode": {
    "name": "ipython",
    "version": 3
   },
   "file_extension": ".py",
   "mimetype": "text/x-python",
   "name": "python",
   "nbconvert_exporter": "python",
   "pygments_lexer": "ipython3",
   "version": "3.13.0"
  }
 },
 "nbformat": 4,
 "nbformat_minor": 2
}
