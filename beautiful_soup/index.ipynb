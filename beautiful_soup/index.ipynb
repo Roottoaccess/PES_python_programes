{
 "cells": [
  {
   "cell_type": "code",
   "execution_count": 1,
   "metadata": {},
   "outputs": [],
   "source": [
    "from bs4 import BeautifulSoup as bs # type: ignore\n",
    "books=[\n",
    "]\n",
    "# initialise a beautifulsoup object with 'xml' pauser\n",
    "s = bs(features='xml')\n",
    "# Create root element\n",
    "book_store = s.new_tag('books')\n",
    "s.append(book_store)\n",
    "# Iterate over the data and create XML structure\n",
    "for b in books:\n",
    "    b_s = s.new_tag('books')\n",
    "    book_store.append(b_s)\n",
    "    t = s.new_tag('title')\n",
    "    t.string = b['title']\n",
    "    b_s.append(t)\n",
    "\n",
    "    p = s.new_tag('price')\n",
    "    p.string = str(s['price'])\n",
    "    b_s.append(p)"
   ]
  },
  {
   "cell_type": "code",
   "execution_count": 2,
   "metadata": {},
   "outputs": [],
   "source": [
    "with open('book_store','w') as file:\n",
    "    file.write(s.prettify())"
   ]
  },
  {
   "cell_type": "markdown",
   "metadata": {},
   "source": [
    "# Parse the XML file using BeautifulSoup"
   ]
  },
  {
   "cell_type": "code",
   "execution_count": 3,
   "metadata": {},
   "outputs": [],
   "source": [
    "with open('book_store',\"r\") as file:\n",
    "    data = file.read()"
   ]
  },
  {
   "cell_type": "code",
   "execution_count": 4,
   "metadata": {},
   "outputs": [
    {
     "data": {
      "text/plain": [
       "str"
      ]
     },
     "execution_count": 4,
     "metadata": {},
     "output_type": "execute_result"
    }
   ],
   "source": [
    "type(data)"
   ]
  },
  {
   "cell_type": "code",
   "execution_count": 5,
   "metadata": {},
   "outputs": [
    {
     "data": {
      "text/plain": [
       "'<?xml version=\"1.0\" encoding=\"utf-8\"?>\\n<books/>\\n'"
      ]
     },
     "execution_count": 5,
     "metadata": {},
     "output_type": "execute_result"
    }
   ],
   "source": [
    "data"
   ]
  },
  {
   "cell_type": "code",
   "execution_count": 6,
   "metadata": {},
   "outputs": [],
   "source": [
    "# Parse the XML element\n",
    "s = bs(data, 'xml')"
   ]
  },
  {
   "cell_type": "code",
   "execution_count": 7,
   "metadata": {},
   "outputs": [
    {
     "data": {
      "text/plain": [
       "bs4.BeautifulSoup"
      ]
     },
     "execution_count": 7,
     "metadata": {},
     "output_type": "execute_result"
    }
   ],
   "source": [
    "type(s)"
   ]
  },
  {
   "cell_type": "code",
   "execution_count": 8,
   "metadata": {},
   "outputs": [
    {
     "data": {
      "text/plain": [
       "<?xml version=\"1.0\" encoding=\"utf-8\"?>\n",
       "<books/>"
      ]
     },
     "execution_count": 8,
     "metadata": {},
     "output_type": "execute_result"
    }
   ],
   "source": [
    "s"
   ]
  },
  {
   "cell_type": "code",
   "execution_count": 9,
   "metadata": {},
   "outputs": [],
   "source": [
    "# Find all books elements"
   ]
  },
  {
   "cell_type": "code",
   "execution_count": 10,
   "metadata": {},
   "outputs": [],
   "source": [
    "bs = s.find_all('book')"
   ]
  },
  {
   "cell_type": "code",
   "execution_count": 11,
   "metadata": {},
   "outputs": [
    {
     "name": "stdout",
     "output_type": "stream",
     "text": [
      "<class 'bs4.element.ResultSet'>\n",
      "[]\n"
     ]
    }
   ],
   "source": [
    "print(type(bs)); print(bs)"
   ]
  },
  {
   "cell_type": "code",
   "execution_count": 12,
   "metadata": {},
   "outputs": [],
   "source": [
    "# Iterate over bs and extract each book's details"
   ]
  },
  {
   "cell_type": "code",
   "execution_count": 13,
   "metadata": {},
   "outputs": [],
   "source": [
    "for b in bs:\n",
    "    t = b.find('title').text\n",
    "    a = b.find('author').text\n",
    "    c = b.find('category').text\n",
    "    p = b.find('price').text\n",
    "\n",
    "    print(f\"Title: {t}\")\n",
    "    print(f\"Author: {a}\")\n",
    "    print(f\"Category: {c}\")\n",
    "    print(f\"price: {p}\")"
   ]
  },
  {
   "cell_type": "code",
   "execution_count": null,
   "metadata": {},
   "outputs": [],
   "source": [
    "# Modification of xml file\n",
    "\"\"\"\n",
    "1. Read the file and store it in content\n",
    "2. Parse the context into xml\n",
    "3. Find all price p = s.find_all('price')\n",
    "4. Iterate over each price\n",
    "5. Write the modified data.\n",
    "\"\"\""
   ]
  },
  {
   "cell_type": "code",
   "execution_count": 14,
   "metadata": {},
   "outputs": [
    {
     "ename": "NameError",
     "evalue": "name 'p' is not defined",
     "output_type": "error",
     "traceback": [
      "\u001b[0;31m---------------------------------------------------------------------------\u001b[0m",
      "\u001b[0;31mNameError\u001b[0m                                 Traceback (most recent call last)",
      "Cell \u001b[0;32mIn[14], line 1\u001b[0m\n\u001b[0;32m----> 1\u001b[0m \u001b[38;5;28;01mfor\u001b[39;00m pr \u001b[38;5;129;01min\u001b[39;00m \u001b[43mp\u001b[49m:\n\u001b[1;32m      2\u001b[0m     cp \u001b[38;5;241m=\u001b[39m \u001b[38;5;28mfloat\u001b[39m(pr\u001b[38;5;241m.\u001b[39mtext)\n\u001b[1;32m      3\u001b[0m     np \u001b[38;5;241m=\u001b[39m \u001b[38;5;28mround\u001b[39m(cp\u001b[38;5;241m*\u001b[39m\u001b[38;5;241m1.1\u001b[39m)\n",
      "\u001b[0;31mNameError\u001b[0m: name 'p' is not defined"
     ]
    }
   ],
   "source": [
    "for pr in p:\n",
    "    cp = float(pr.text)\n",
    "    np = round(cp*1.1)\n",
    "    pr.string = str(np)"
   ]
  },
  {
   "cell_type": "markdown",
   "metadata": {},
   "source": [
    "Create a list of account that have acc_no, name, type of acc, amount store it in a xml file and if the type of the account is current account then add a interest of 2% if the current account is saving then add 5% and store it in xml"
   ]
  },
  {
   "cell_type": "code",
   "execution_count": null,
   "metadata": {},
   "outputs": [],
   "source": []
  }
 ],
 "metadata": {
  "kernelspec": {
   "display_name": "Python 3",
   "language": "python",
   "name": "python3"
  },
  "language_info": {
   "codemirror_mode": {
    "name": "ipython",
    "version": 3
   },
   "file_extension": ".py",
   "mimetype": "text/x-python",
   "name": "python",
   "nbconvert_exporter": "python",
   "pygments_lexer": "ipython3",
   "version": "3.13.0"
  }
 },
 "nbformat": 4,
 "nbformat_minor": 2
}
