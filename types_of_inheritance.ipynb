{
 "cells": [
  {
   "cell_type": "markdown",
   "metadata": {},
   "source": [
    "# Learning about MRO stands for Method Resolution Order in python , python uses the c3 Linearization Algorithm(also called c3 superclass linearization)"
   ]
  },
  {
   "cell_type": "code",
   "execution_count": 1,
   "metadata": {},
   "outputs": [],
   "source": [
    "class A:\n",
    "    def method(self):\n",
    "        print(\"Method in A\")"
   ]
  },
  {
   "cell_type": "code",
   "execution_count": 2,
   "metadata": {},
   "outputs": [],
   "source": [
    "class B(A):\n",
    "    pass"
   ]
  },
  {
   "cell_type": "code",
   "execution_count": 3,
   "metadata": {},
   "outputs": [
    {
     "name": "stdout",
     "output_type": "stream",
     "text": [
      "[<class '__main__.B'>, <class '__main__.A'>, <class 'object'>]\n"
     ]
    }
   ],
   "source": [
    "print(B.mro())"
   ]
  },
  {
   "cell_type": "code",
   "execution_count": 6,
   "metadata": {},
   "outputs": [
    {
     "name": "stdout",
     "output_type": "stream",
     "text": [
      "Method in A\n",
      "Method in A\n",
      "B = None\n"
     ]
    }
   ],
   "source": [
    "b = B()\n",
    "b.method()\n",
    "print(f\"B = {b.method()}\")"
   ]
  },
  {
   "cell_type": "markdown",
   "metadata": {},
   "source": [
    "Multiple Inheritance"
   ]
  },
  {
   "cell_type": "code",
   "execution_count": 7,
   "metadata": {},
   "outputs": [],
   "source": [
    "class A:\n",
    "    def method(self):\n",
    "        print(\"Method in A\")"
   ]
  },
  {
   "cell_type": "code",
   "execution_count": 9,
   "metadata": {},
   "outputs": [],
   "source": [
    "class B:\n",
    "    def method(self):\n",
    "        print(\"Method in B\")"
   ]
  },
  {
   "cell_type": "code",
   "execution_count": 10,
   "metadata": {},
   "outputs": [],
   "source": [
    "class C(B, A):\n",
    "    pass"
   ]
  },
  {
   "cell_type": "code",
   "execution_count": 11,
   "metadata": {},
   "outputs": [],
   "source": [
    "class D(A, B):\n",
    "    pass"
   ]
  },
  {
   "cell_type": "code",
   "execution_count": 12,
   "metadata": {},
   "outputs": [
    {
     "name": "stdout",
     "output_type": "stream",
     "text": [
      "[<class '__main__.C'>, <class '__main__.B'>, <class '__main__.A'>, <class 'object'>]\n"
     ]
    }
   ],
   "source": [
    "print(C.mro())"
   ]
  },
  {
   "cell_type": "code",
   "execution_count": 13,
   "metadata": {},
   "outputs": [
    {
     "name": "stdout",
     "output_type": "stream",
     "text": [
      "[<class '__main__.D'>, <class '__main__.A'>, <class '__main__.B'>, <class 'object'>]\n"
     ]
    }
   ],
   "source": [
    "print(D.mro())"
   ]
  },
  {
   "cell_type": "code",
   "execution_count": 14,
   "metadata": {},
   "outputs": [],
   "source": [
    "c = C()\n",
    "d = D()"
   ]
  },
  {
   "cell_type": "code",
   "execution_count": 15,
   "metadata": {},
   "outputs": [
    {
     "name": "stdout",
     "output_type": "stream",
     "text": [
      "Method in B\n"
     ]
    }
   ],
   "source": [
    "c.method()"
   ]
  },
  {
   "cell_type": "code",
   "execution_count": 16,
   "metadata": {},
   "outputs": [
    {
     "name": "stdout",
     "output_type": "stream",
     "text": [
      "Method in A\n"
     ]
    }
   ],
   "source": [
    "d.method()"
   ]
  },
  {
   "cell_type": "markdown",
   "metadata": {},
   "source": [
    "# Diamond Problem"
   ]
  },
  {
   "cell_type": "code",
   "execution_count": 18,
   "metadata": {},
   "outputs": [],
   "source": [
    "class A:\n",
    "    def method(self):\n",
    "        print(\"Method in A\")\n",
    "class B(A):\n",
    "    def method(self):\n",
    "        print(\"Method in B\")\n",
    "class C(A):\n",
    "    def method(self):\n",
    "        print(\"Method in C\")\n",
    "class D(B, C):\n",
    "    pass\n",
    "class E(C, B):\n",
    "    pass"
   ]
  },
  {
   "cell_type": "code",
   "execution_count": 19,
   "metadata": {},
   "outputs": [
    {
     "data": {
      "text/plain": [
       "(__main__.D, __main__.B, __main__.C, __main__.A, object)"
      ]
     },
     "execution_count": 19,
     "metadata": {},
     "output_type": "execute_result"
    }
   ],
   "source": [
    "D.__mro__"
   ]
  },
  {
   "cell_type": "code",
   "execution_count": 20,
   "metadata": {},
   "outputs": [
    {
     "data": {
      "text/plain": [
       "(__main__.E, __main__.C, __main__.B, __main__.A, object)"
      ]
     },
     "execution_count": 20,
     "metadata": {},
     "output_type": "execute_result"
    }
   ],
   "source": [
    "E.__mro__"
   ]
  },
  {
   "cell_type": "code",
   "execution_count": 21,
   "metadata": {},
   "outputs": [
    {
     "name": "stdout",
     "output_type": "stream",
     "text": [
      "Method in B\n"
     ]
    }
   ],
   "source": [
    "d=D()\n",
    "d.method()"
   ]
  },
  {
   "cell_type": "code",
   "execution_count": 22,
   "metadata": {},
   "outputs": [
    {
     "name": "stdout",
     "output_type": "stream",
     "text": [
      "Method in C\n"
     ]
    }
   ],
   "source": [
    "e=E()\n",
    "e.method()"
   ]
  },
  {
   "cell_type": "code",
   "execution_count": 23,
   "metadata": {},
   "outputs": [
    {
     "name": "stdout",
     "output_type": "stream",
     "text": [
      "Help on class D in module __main__:\n",
      "\n",
      "class D(B, C)\n",
      " |  Method resolution order:\n",
      " |      D\n",
      " |      B\n",
      " |      C\n",
      " |      A\n",
      " |      builtins.object\n",
      " |\n",
      " |  Methods inherited from B:\n",
      " |\n",
      " |  method(self)\n",
      " |\n",
      " |  ----------------------------------------------------------------------\n",
      " |  Data descriptors inherited from A:\n",
      " |\n",
      " |  __dict__\n",
      " |      dictionary for instance variables\n",
      " |\n",
      " |  __weakref__\n",
      " |      list of weak references to the object\n",
      "\n"
     ]
    }
   ],
   "source": [
    "help(D)"
   ]
  },
  {
   "cell_type": "code",
   "execution_count": 24,
   "metadata": {},
   "outputs": [
    {
     "name": "stdout",
     "output_type": "stream",
     "text": [
      "Help on class E in module __main__:\n",
      "\n",
      "class E(C, B)\n",
      " |  Method resolution order:\n",
      " |      E\n",
      " |      C\n",
      " |      B\n",
      " |      A\n",
      " |      builtins.object\n",
      " |\n",
      " |  Methods inherited from C:\n",
      " |\n",
      " |  method(self)\n",
      " |\n",
      " |  ----------------------------------------------------------------------\n",
      " |  Data descriptors inherited from A:\n",
      " |\n",
      " |  __dict__\n",
      " |      dictionary for instance variables\n",
      " |\n",
      " |  __weakref__\n",
      " |      list of weak references to the object\n",
      "\n"
     ]
    }
   ],
   "source": [
    "help(E)"
   ]
  },
  {
   "cell_type": "code",
   "execution_count": 25,
   "metadata": {},
   "outputs": [],
   "source": [
    "class A:\n",
    "    def method(self):\n",
    "        print(\"A method\")\n",
    "class B:\n",
    "    def method(self):\n",
    "        print(\"B method\")\n",
    "class C(A):\n",
    "    def method(self):\n",
    "        print(\"Method in C\")\n",
    "class D(A):\n",
    "    def method(self):\n",
    "        print(\"Method in D\")\n",
    "class E(B):\n",
    "    def method(self):\n",
    "        print(\"Method in E\")\n",
    "class F(B):\n",
    "    def method(self):\n",
    "        print(\"Method in F\")\n",
    "class H(C):\n",
    "    def method(self):\n",
    "        print(\"Method in H\")\n",
    "class G(D, E):\n",
    "    pass\n",
    "class I(F):\n",
    "    def method(self):\n",
    "        print(\"Method in I\")\n",
    "class J(H, G, I):\n",
    "    pass\n"
   ]
  },
  {
   "cell_type": "code",
   "execution_count": 26,
   "metadata": {},
   "outputs": [
    {
     "data": {
      "text/plain": [
       "(__main__.J,\n",
       " __main__.H,\n",
       " __main__.C,\n",
       " __main__.G,\n",
       " __main__.D,\n",
       " __main__.A,\n",
       " __main__.E,\n",
       " __main__.I,\n",
       " __main__.F,\n",
       " __main__.B,\n",
       " object)"
      ]
     },
     "execution_count": 26,
     "metadata": {},
     "output_type": "execute_result"
    }
   ],
   "source": [
    "J.__mro__"
   ]
  },
  {
   "cell_type": "code",
   "execution_count": 27,
   "metadata": {},
   "outputs": [
    {
     "name": "stdout",
     "output_type": "stream",
     "text": [
      "Help on class J in module __main__:\n",
      "\n",
      "class J(H, G, I)\n",
      " |  Method resolution order:\n",
      " |      J\n",
      " |      H\n",
      " |      C\n",
      " |      G\n",
      " |      D\n",
      " |      A\n",
      " |      E\n",
      " |      I\n",
      " |      F\n",
      " |      B\n",
      " |      builtins.object\n",
      " |\n",
      " |  Methods inherited from H:\n",
      " |\n",
      " |  method(self)\n",
      " |\n",
      " |  ----------------------------------------------------------------------\n",
      " |  Data descriptors inherited from A:\n",
      " |\n",
      " |  __dict__\n",
      " |      dictionary for instance variables\n",
      " |\n",
      " |  __weakref__\n",
      " |      list of weak references to the object\n",
      "\n"
     ]
    }
   ],
   "source": [
    "help(J)"
   ]
  },
  {
   "cell_type": "code",
   "execution_count": 30,
   "metadata": {},
   "outputs": [
    {
     "data": {
      "text/plain": [
       "(__main__.J,\n",
       " __main__.G,\n",
       " __main__.D,\n",
       " __main__.H,\n",
       " __main__.C,\n",
       " __main__.A,\n",
       " __main__.E,\n",
       " __main__.I,\n",
       " __main__.F,\n",
       " __main__.B,\n",
       " object)"
      ]
     },
     "execution_count": 30,
     "metadata": {},
     "output_type": "execute_result"
    }
   ],
   "source": [
    "class J(G, H, I):\n",
    "    pass\n",
    "J.__mro__"
   ]
  },
  {
   "cell_type": "code",
   "execution_count": 31,
   "metadata": {},
   "outputs": [
    {
     "data": {
      "text/plain": [
       "(__main__.J,\n",
       " __main__.G,\n",
       " __main__.D,\n",
       " __main__.I,\n",
       " __main__.F,\n",
       " __main__.H,\n",
       " __main__.C,\n",
       " __main__.A,\n",
       " __main__.E,\n",
       " __main__.B,\n",
       " object)"
      ]
     },
     "execution_count": 31,
     "metadata": {},
     "output_type": "execute_result"
    }
   ],
   "source": [
    "class J(G, I, H):\n",
    "    pass\n",
    "J.__mro__"
   ]
  },
  {
   "cell_type": "markdown",
   "metadata": {},
   "source": [
    "Avoids Ambiguity -> advantage"
   ]
  },
  {
   "cell_type": "markdown",
   "metadata": {},
   "source": [
    "# Polymorphimsm \n",
    "Opertator Polymorphism"
   ]
  },
  {
   "cell_type": "code",
   "execution_count": 32,
   "metadata": {},
   "outputs": [
    {
     "name": "stdout",
     "output_type": "stream",
     "text": [
      "HelloPolymorphism\n"
     ]
    }
   ],
   "source": [
    "str = \"Hello\"; str1 = \"Polymorphism\"\n",
    "print(str + str1)"
   ]
  },
  {
   "cell_type": "markdown",
   "metadata": {},
   "source": [
    "Class Polymorphism"
   ]
  },
  {
   "cell_type": "code",
   "execution_count": 33,
   "metadata": {},
   "outputs": [
    {
     "name": "stdout",
     "output_type": "stream",
     "text": [
      "15\n"
     ]
    }
   ],
   "source": [
    "# Operator polymorphism examples\n",
    "a = 10; b = 5; print(a+b)"
   ]
  },
  {
   "cell_type": "code",
   "execution_count": 34,
   "metadata": {},
   "outputs": [
    {
     "name": "stdout",
     "output_type": "stream",
     "text": [
      "(1, 2, 'a', 'b')\n"
     ]
    }
   ],
   "source": [
    "a = (1, 2); b = ('a', 'b'); print(a + b)"
   ]
  },
  {
   "cell_type": "code",
   "execution_count": 36,
   "metadata": {},
   "outputs": [],
   "source": [
    "# a = {1, 2}; b = {'x', 'y'}; print(a + b) # (Not working in set)"
   ]
  },
  {
   "cell_type": "code",
   "execution_count": 37,
   "metadata": {},
   "outputs": [
    {
     "name": "stdout",
     "output_type": "stream",
     "text": [
      "  ________________________________________\n",
      "| It is not working for set and dictionary |\n",
      "  ========================================\n",
      "                                        \\\n",
      "                                         \\\n",
      "                                           ^__^\n",
      "                                           (oo)\\_______\n",
      "                                           (__)\\       )\\/\\\n",
      "                                               ||----w |\n",
      "                                               ||     ||\n"
     ]
    }
   ],
   "source": [
    "import cowsay\n",
    "cowsay.cow(\"It is not working for set and dictionary\")"
   ]
  },
  {
   "cell_type": "code",
   "execution_count": 38,
   "metadata": {},
   "outputs": [
    {
     "name": "stdout",
     "output_type": "stream",
     "text": [
      "(11+10j)\n"
     ]
    }
   ],
   "source": [
    "a=2+3j; b = 9+7j; print(a+b)"
   ]
  },
  {
   "cell_type": "markdown",
   "metadata": {},
   "source": [
    "Function Polymorphism"
   ]
  },
  {
   "cell_type": "code",
   "execution_count": 39,
   "metadata": {},
   "outputs": [
    {
     "data": {
      "text/plain": [
       "10"
      ]
     },
     "execution_count": 39,
     "metadata": {},
     "output_type": "execute_result"
    }
   ],
   "source": [
    "len([1,2,3,4,5,6,7,8,9,10])"
   ]
  },
  {
   "cell_type": "code",
   "execution_count": 40,
   "metadata": {},
   "outputs": [],
   "source": [
    "def add(a, b, c = 10):\n",
    "    return a+b+c"
   ]
  },
  {
   "cell_type": "code",
   "execution_count": 41,
   "metadata": {},
   "outputs": [
    {
     "data": {
      "text/plain": [
       "18"
      ]
     },
     "execution_count": 41,
     "metadata": {},
     "output_type": "execute_result"
    }
   ],
   "source": [
    "add(4,4)"
   ]
  },
  {
   "cell_type": "code",
   "execution_count": 42,
   "metadata": {},
   "outputs": [
    {
     "name": "stdout",
     "output_type": "stream",
     "text": [
      "Help on package cowsay:\n",
      "\n",
      "NAME\n",
      "    cowsay\n",
      "\n",
      "PACKAGE CONTENTS\n",
      "    __main__\n",
      "    characters\n",
      "    main\n",
      "    tests (package)\n",
      "\n",
      "FUNCTIONS\n",
      "    beavis(\n",
      "        text: str,\n",
      "        char_lines=\"\\n     \\\\\\n      \\\\\\n       \\\\\\n             _------~~-,\\n          ,'            ,\\n          /               \\\\\\\\\\n         /                :\\n        |                  '\\n        |                  |\\n        |                  |\\n         |   _--           |\\n         _| =-.     .-.   ||\\n         o|/o/       _.   |\\n         /  ~          \\\\\\\\ |\\n       (____\\\\@)  ___~    |\\n          |_===~~~.`    |\\n       _______.--~     |\\n       \\\\\\\\________       |\\n                \\\\\\\\      |\\n              __/-___-- -__\\n             /            _ \\\\\\\\\\n\"\n",
      "    )\n",
      "\n",
      "    cheese(\n",
      "        text: str,\n",
      "        char_lines='\\n\\\\\\n \\\\\\n  \\\\\\n   \\\\\\n     /     \\\\_/         |\\n    |                 ||\\n    |                 ||\\n   |    ###\\\\  /###   | |\\n   |     0  \\\\/  0    | |\\n  /|                 | |\\n / |        <        |\\\\ \\\\\\n| /|                 | | |\\n| |     \\\\_______/   |  | |\\n| |                 | / /\\n/||                 /|||\\n   ----------------|\\n        | |    | |\\n        ***    ***\\n       /___\\\\  /___\\\\\\n'\n",
      "    )\n",
      "\n",
      "    cow(\n",
      "        text: str,\n",
      "        char_lines='\\n\\\\\\n \\\\\\n   ^__^\\n   (oo)\\\\_______\\n   (__)\\\\       )\\\\/\\\\\\n       ||----w |\\n       ||     ||\\n'\n",
      "    )\n",
      "\n",
      "    daemon(\n",
      "        text: str,\n",
      "        char_lines=\"\\n        \\\\\\n         \\\\\\n          \\\\\\n           \\\\\\n            /- _  `-/  '\\n           (/\\\\/ \\\\ \\\\   /\\\\\\n           / /   | `    \\\\\\n           O O   ) /    |\\n           `-^--'`<     '\\n          (_.)  _  )   /\\n           `.___/`    /\\n             `-----' /\\n<----.     __ / __   \\\\\\n<----|====O)))==) \\\\) /====\\n<----'    `--' `.__,' \\\\\\n             |        |\\n              \\\\       /\\n        ______( (_  / \\\\______\\n      ,'  ,-----'   |        \\\\\\n      `--{__________)        \\\\/\\n\"\n",
      "    )\n",
      "\n",
      "    dragon(\n",
      "        text: str,\n",
      "        char_lines=\"\\n  \\\\\\n   \\\\\\n    \\\\\\n     \\\\\\n                           / \\\\\\\\  //\\\\\\\\\\n            |\\\\\\\\___/|      /   \\\\\\\\//  \\\\\\\\\\\\\\\\\\n            /0  0  \\\\\\\\__  /    //  | \\\\\\\\ \\\\\\\\\\n           /     /  \\\\\\\\/_/    //   |  \\\\\\\\  \\\\\\\\\\n           \\\\@_^_\\\\@'/   \\\\\\\\/_   //    |   \\\\\\\\   \\\\\\\\\\n           //_^_/     \\\\\\\\/_ //     |    \\\\\\\\    \\\\\\\\\\n        ( //) |        \\\\\\\\///      |     \\\\\\\\     \\\\\\\\\\n      ( / /) _|_ /   )  //       |      \\\\\\\\     _\\\\\\\\\\n    ( // /) '/,_ _ _/  ( ; -.    |    _ _\\\\\\\\.-~        .-~~~^-.\\n  (( / / )) ,-{        _      `-.|.-~-.           .~         `.\\n (( // / ))  '/\\\\\\\\      /                 ~-. _ .-~      .-~^-.  \\\\\\\\\\n (( /// ))      `.   {            }                   /      \\\\\\\\  \\\\\\\\\\n  (( / ))     .----~-.\\\\\\\\        \\\\\\\\-'                 .~         \\\\\\\\  `. \\\\\\\\^-.\\n             ///.----..>        \\\\\\\\             _ -~             `.  ^-`  ^-_\\n               ///-._ _ _ _ _ _ _}^ - - - - ~                     ~-- ,.-~\\n                                                                  /.-~\\n\"\n",
      "    )\n",
      "\n",
      "    fox(\n",
      "        text: str,\n",
      "        char_lines='\\n \\\\\\n  \\\\\\n   \\\\\\n    |\\\\_/|,,_____,~~`\\n    (.\".)~~     )`~}}\\n     \\\\o/\\\\ /---~\\\\\\\\ ~}}\\n       _//    _// ~}\\n'\n",
      "    )\n",
      "\n",
      "    func = tux(\n",
      "        text: str,\n",
      "        char_lines=\"\\n     \\\\\\n      \\\\\\n       \\\\\\n        .--.\\n       |o_o |\\n       |:_/ |\\n      //   \\\\ \\\\\\n     (|     | )\\n    /'\\\\_   _/`\\\\\\n    \\\\___)=(___/\\n\"\n",
      "    )\n",
      "\n",
      "    ghostbusters(\n",
      "        text: str,\n",
      "        char_lines='\\n        \\\\\\n         \\\\\\n          \\\\\\n           \\\\\\n                       __---__\\n                    _-       /--______\\n               __--( /     \\\\ )XXXXXXXXXXX\\\\v.\\n             .-XXX(   O   O  )XXXXXXXXXXXXXXX-\\n            /XXX(       U     )        XXXXXXX\\\\\\n          /XXXXX(              )--_  XXXXXXXXXXX\\\\\\n         /XXXXX/ (      O     )   XXXXXX   \\\\XXXXX\\\\\\n         XXXXX/   /            XXXXXX   \\\\__ \\\\XXXXX\\n         XXXXXX__/          XXXXXX         \\\\__---->\\n ---___  XXX__/          XXXXXX      \\\\__         /\\n   \\\\-  --__/   ___/\\\\  XXXXXX            /  ___--/=\\n    \\\\-\\\\    ___/    XXXXXX              \\'--- XXXXXX\\n       \\\\-\\\\/XXX\\\\ XXXXXX                      /XXXXX\\n         \\\\XXXXXXXXX   \\\\                    /XXXXX/\\n          \\\\XXXXXX      >                 _/XXXXX/\\n            \\\\XXXXX--__/              __-- XXXX/\\n             -XXXXXXXX---------------  XXXXXX-\\n                \\\\XXXXXXXXXXXXXXXXXXXXXXXXXX/\\n                  \"\"VXXXXXXXXXXXXXXXXXXV\"\"\\n'\n",
      "    )\n",
      "\n",
      "    kitty(\n",
      "        text: str,\n",
      "        char_lines='\\n   \\\\\\n    \\\\\\n     \\\\\\n      \\\\\\n\\n       (\"`-\\'  \\'-/\") .___..--\\' \\' \"`-._\\n        ` *_ *  )    `-.   (      ) .`-.__. `)\\n         (_Y_.) \\' ._   )   `._` ;  `` -. .-\\'\\n      _.. `--\\'_..-_/   /--\\' _ .\\' ,4\\n     ( i l ),-\\'\\'  ( l i),\\'  ( ( ! .-\\'\\n'\n",
      "    )\n",
      "\n",
      "    meow(\n",
      "        text: str,\n",
      "        char_lines='\\n\\\\\\n \\\\\\n  \\\\\\n   \\\\\\n                  _ ___.--\\'\\'\\'`--\\'\\'//-,-_--_.\\n      \\\\\\\\`\"\\' ` || \\\\\\\\\\\\\\\\ \\\\\\\\ \\\\\\\\\\\\\\\\/ / // / ,-\\\\\\\\\\\\\\\\`,_\\n     /\\'`  \\\\\\\\ \\\\\\\\ || Y  | \\\\\\\\|/ / // / - |__ `-,\\n    /\\\\@\"\\\\\\\\  ` \\\\\\\\ `\\\\\\\\ |  | ||/ // | \\\\\\\\/  \\\\\\\\  `-._`-,_.,\\n   /  _.-. `.-\\\\\\\\,___/\\\\\\\\ _/|_/_\\\\\\\\_\\\\\\\\/|_/ |     `-._._)\\n   `-\\'``/  /  |  // \\\\\\\\__/\\\\\\\\__  /  \\\\\\\\__/ \\\\\\\\\\n        `-\\'  /-\\\\\\\\/  | -|   \\\\\\\\__ \\\\\\\\   |-\\' |\\n          __/\\\\\\\\ / _/ \\\\\\\\/ __,-\\'   ) ,\\' _|\\'\\n         (((__/(((_.\\' ((___..-\\'((__,\\'\\n'\n",
      "    )\n",
      "\n",
      "    miki(\n",
      "        text: str,\n",
      "        char_lines='\\n\\\\\\n \\\\                  &************************&\\n  \\\\             &******************************&\\n   \\\\          &**********************************&\\n            &**************************************&\\n          &*****************************************&\\n         &*******************************************&\\n        &*********************************************&\\n       &***********************************************&\\n      &************************************************&\\n      &***#########********#########*******************&\\n      &*##       ##########          ##################&\\n      &*##   O   ##@**####   O       ##***************&\\n      &***#########@*******#########*****************&\\n      &***********@*********************************&\\n      &**********@*********************************&\\n      &*********@*********************************&\\n      &********@@*********************************&\\n       &*******@@@@@@****************************&\\n        &**************************************&\\n          &**************************************&\\n           &******@@@@@@@@@@@@*********************&\\n             &*************************************&\\n               &************************************&\\n                     &*******************************&\\n                       &*****************************&\\n'\n",
      "    )\n",
      "\n",
      "    milk(\n",
      "        text: str,\n",
      "        char_lines='\\n\\\\\\n \\\\\\n  \\\\\\n   \\\\\\n       ____________\\n       |__________|\\n      /           /\\\\\\n     /           /  \\\\\\n    /___________/___/|\\n    |          |     |\\n    |  ==\\\\ /== |     |\\n    |   O   O  | \\\\ \\\\ |\\n    |     <    |  \\\\ \\\\|\\n   /|          |   \\\\ \\\\\\n  / |  \\\\_____/ |   / /\\n / /|          |  / /|\\n/||\\\\|          | /||\\\\/\\n    -------------|\\n        | |    | |\\n       <__/    \\\\__>\\n'\n",
      "    )\n",
      "\n",
      "    octopus(\n",
      "        text: str,\n",
      "        char_lines='\\n     \\\\\\n      \\\\\\n       \\\\\\n                        . . .\\n                      .   ^   .\\n                     .  ^ ^ ^  .\\n                     .  ^ ^ ^  .\\n                      .   ^    .\\n                        . . .\\n          _ _ _ _ _ _ _|     |_ _ _ _ _ _\\n         /  _ _ _ _ _ _| o|o |_ _ _ _ _ _ \\\\\\n        / /  _ _ _  _ _|  |  |_ _ _ _    \\\\ \\\\\\n       / /  /  _ _ _ / /| |\\\\ \\\\ _ _ _  \\\\   \\\\ \\\\\\n      / /  /  /     / / | | \\\\ \\\\     \\\\  \\\\   \\\\ \\\\\\n     / /  /  /     / /  | |  \\\\ \\\\     \\\\  \\\\   \\\\ \\\\\\n    /_/  /  /     / /   | |   \\\\ \\\\     \\\\  \\\\   \\\\_\\\\\\n     |  /__/     /_/    |_|    \\\\_\\\\     \\\\__\\\\   |\\n          |      /       |       \\\\       |\\n'\n",
      "    )\n",
      "\n",
      "    pig(\n",
      "        text: str,\n",
      "        char_lines='\\n\\\\\\n \\\\\\n  \\\\\\n   \\\\\\n             ,.\\n            (_|,.\\n            ,\\' /, )_______   _\\n        __j o``-\\'        `.\\'-)\\'\\n        (\")                 \\\\\\'\\n        `-j                |\\n          `-._(           /\\n             |_\\\\  |--^.  /\\n            /_]\\'|_| /_)_/\\n                /_]\\'  /_]\\'\\n'\n",
      "    )\n",
      "\n",
      "    stegosaurus(\n",
      "        text: str,\n",
      "        char_lines='\\n      \\\\\\n       \\\\\\n        \\\\\\n         \\\\\\n                            .       .\\n                           / `.   .\\' \\\\\\n                   .---.  <    > <    >  .---.\\n                   |    \\\\  \\\\ - ~ ~ - /  /    |\\n       _____        ~-..-~             ~-..-~\\n      |     |   \\\\~~~\\\\.\\'                    `./~~~/\\n     ---------   \\\\__/                        \\\\__/\\n    .\\'  O    \\\\     /               /       \\\\  \"\\n   (_____,    `._.\\'               |         }  \\\\/~~~/\\n    `----.          /       }     |        /    \\\\__/\\n          `-.      |       /      |       /      `. ,~~|\\n              ~-.__|      /_ - ~ ^|      /- _      `..-\\'   f:  f:\\n                   |     /        |     /     ~-.     `-. _|| _||_\\n                   |_____|        |_____|         ~ - . _ _ _ _ __>\\n\\n'\n",
      "    )\n",
      "\n",
      "    stimpy(\n",
      "        text: str,\n",
      "        char_lines='\\n \\\\\\n  \\\\\\n   \\\\\\n    \\\\\\n        .    _  .\\n       |\\\\_|/__/|\\n       / / \\\\/ \\\\  \\\\\\n      /__|O||O|__ \\\\\\n     |/_ \\\\_/\\\\_/ _\\\\ |\\n     | | (____) | ||\\n     \\\\/\\\\___/\\\\__/  //\\n     (_/         ||\\n      |          ||\\n      |          ||\\\\\\n       \\\\        //_/\\n        \\\\______//\\n       __ || __||\\n      (____(____)\\n'\n",
      "    )\n",
      "\n",
      "    trex(\n",
      "        text: str,\n",
      "        char_lines='\\n       \\\\\\n        \\\\\\n         \\\\\\n          \\\\\\n             .-=-==--==--.\\n       ..-==\"  ,\\'o`)      `.\\n     ,\\'         `\"\\'         \\\\\\n    :  (                     `.__...._\\n    |                  )    /         `-=-.\\n    :       ,vv.-._   /    /               `---==-._\\n     \\\\/\\\\/\\\\/VV ^ d88`;\\'    /                         `.\\n         ``  ^/d88P!\\'    /             ,              `._\\n            ^/    !\\'   ,.      ,      /                  \"-,,__,,--\\'\"\"\"\"-.\\n           ^/    !\\'  ,\\'  \\\\ . .(      (         _           )  ) ) ) ))_,-.\\\\\\n          ^(__ ,!\\',\"\\'   ;:+.:%:a.     \\\\:.. . ,\\'          )  )  ) ) ,\"\\'    \\'\\n          \\',,,\\'\\',\\'     /o:::\":%:%a.    \\\\:.:.:         .    )  ) _,\\'\\n           \"\"\"\\'       ;\\':::\\'\\' `+%%%a._  \\\\%:%|         ;.). _,-\"\"\\n                  ,-=\\'_.-\\'      ``:%::)  )%:|        /:._,\"\\n                 (/(/\"           ,\" ,\\'_,\\'%%%:       (_,\\'\\n                                (  (//(`.___;        \\\\\\n                                 \\\\     \\\\    `         `\\n                                  `.    `.   `.        :\\n                                    \\\\. . .\\\\    : . . . :\\n                                     \\\\. . .:    `.. . .:\\n                                      `..:.:\\\\     \\\\:...\\\\\\n                                       ;:.:.;      ::...:\\n                                       ):%::       :::::;\\n                                   __,::%:(        :::::\\n                                ,;:%%%%%%%:        ;:%::\\n                                  ;,--\"\"-.`\\\\  ,=--\\':%:%:\\\\\\n                                 /\"       \"| /-\".:%%%%%%%\\\\\\n                                                 ;,-\"\\'`)%%)\\n                                                /\"      \"|\\n'\n",
      "    )\n",
      "\n",
      "    turkey(\n",
      "        text: str,\n",
      "        char_lines='\\n        \\\\\\n         \\\\\\n          \\\\\\n           \\\\\\n                                             ,+*^^*+___+++_\\n                                       ,*^^^^              )\\n                                    _+*                     ^**+_\\n                                  +^       _ _++*+_+++_,         )\\n              _+^^*+_    (     ,+*^ ^          \\\\\\\\+_        )\\n             {       )  (    ,(    ,_+--+--,      ^)      ^\\\\\\\\\\n            { (\\\\@)    } f   ,(  ,+-^ __*_*_  ^^\\\\\\\\_   ^\\\\\\\\       )\\n           {:;-/    (_+*-+^^^^^+*+*<_ _++_)_    )    )      /\\n          ( /  (    (        ,___    ^*+_+* )   <    <      \\\\\\\\\\n           U _/     )    *--<  ) ^\\\\\\\\-----++__)   )    )       )\\n            (      )  _(^)^^))  )  )\\\\\\\\^^^^^))^*+/    /       /\\n          (      /  (_))_^)) )  )  ))^^^^^))^^^)__/     +^^\\n         (     ,/    (^))^))  )  ) ))^^^^^^^))^^)       _)\\n          *+__+*       (_))^)  ) ) ))^^^^^^))^^^^^)____*^\\n          \\\\\\\\             \\\\\\\\_)^)_)) ))^^^^^^^^^^))^^^^)\\n           (_             ^\\\\\\\\__^^^^^^^^^^^^))^^^^^^^)\\n             ^\\\\\\\\___            ^\\\\\\\\__^^^^^^))^^^^^^^^)\\\\\\\\\\\\\\\\\\n                  ^^^^^\\\\\\\\uuu/^^\\\\\\\\uuu/^^^^\\\\\\\\^\\\\\\\\^\\\\\\\\^\\\\\\\\^\\\\\\\\^\\\\\\\\^\\\\\\\\^\\\\\\\\\\n                     ___) >____) >___   ^\\\\\\\\_\\\\\\\\_\\\\\\\\_\\\\\\\\_\\\\\\\\_\\\\\\\\_\\\\\\\\)\\n                    ^^^//\\\\\\\\\\\\\\\\_^^//\\\\\\\\\\\\\\\\_^       ^(\\\\\\\\_\\\\\\\\_\\\\\\\\_\\\\\\\\)\\n                     ^^^ ^^ ^^^ ^\\n'\n",
      "    )\n",
      "\n",
      "    turtle(\n",
      "        text: str,\n",
      "        char_lines='\\n  \\\\\\n   \\\\\\n    \\\\\\n     \\\\\\n                                ___-------___\\n                            _-~~             ~~-_\\n                         _-~                    /~-_\\n       /^\\\\__/^\\\\         /~  \\\\                   /    \\\\\\n     /|  O|| O|        /      \\\\_______________/        \\\\\\n    | |___||__|      /       /                \\\\          \\\\\\n    |          \\\\    /      /                    \\\\          \\\\\\n    |   (_______) /______/                        \\\\_________ \\\\\\n    |         / /         \\\\                      /            \\\\\\n     \\\\         \\\\^\\\\\\\\         \\\\                  /               \\\\     /\\n       \\\\         ||           \\\\______________/      _-_       //\\\\__//\\n         \\\\       ||------_-~~-_ ------------- \\\\ --/~   ~\\\\    || __/\\n           ~-----||====/~     |==================|       |/~~~~~\\n            (_(__/  ./     /                    \\\\_\\\\      \\\\.\\n                   (_(___/                         \\\\_____)_)\\n'\n",
      "    )\n",
      "\n",
      "    tux(\n",
      "        text: str,\n",
      "        char_lines=\"\\n     \\\\\\n      \\\\\\n       \\\\\\n        .--.\\n       |o_o |\\n       |:_/ |\\n      //   \\\\ \\\\\\n     (|     | )\\n    /'\\\\_   _/`\\\\\\n    \\\\___)=(___/\\n\"\n",
      "    )\n",
      "\n",
      "DATA\n",
      "    CHARS = {'beavis': '\\n     \\\\\\n      \\\\\\n       \\\\\\n             _----...\n",
      "    ch_lines = \"\\n     \\\\\\n      \\\\\\n       \\\\\\n        .--.\\n       |o_.....\n",
      "    ch_name = 'tux'\n",
      "    char_funcs = {'beavis': <function func>, 'cheese': <function func>, 'c...\n",
      "    char_names = ['beavis', 'cheese', 'cow', 'daemon', 'dragon', 'fox', 'g...\n",
      "\n",
      "VERSION\n",
      "    6.1\n",
      "\n",
      "FILE\n",
      "    /Library/Frameworks/Python.framework/Versions/3.13/lib/python3.13/site-packages/cowsay/__init__.py\n",
      "\n",
      "\n"
     ]
    }
   ],
   "source": [
    "help(cowsay)"
   ]
  },
  {
   "cell_type": "markdown",
   "metadata": {},
   "source": [
    "Class Polymorphism"
   ]
  },
  {
   "cell_type": "code",
   "execution_count": 43,
   "metadata": {},
   "outputs": [],
   "source": [
    "class Cat:\n",
    "    def __init__(self, name, age):\n",
    "        self.name = name\n",
    "        self.age = age\n",
    "    def info(self):\n",
    "        print(f\"I am a cat. My name is {self.name}. I am {self.age} years old\")\n",
    "    def make_sound(self):\n",
    "        print(\"Meow\")"
   ]
  },
  {
   "cell_type": "code",
   "execution_count": 44,
   "metadata": {},
   "outputs": [],
   "source": [
    "class Dog:\n",
    "    def __init__(self, name, age):\n",
    "        self.name = name\n",
    "        self.age = age\n",
    "    def info(self):\n",
    "        print(f\"I am a dog. My name is {self.name}. I am {self.age} years old\")\n",
    "    def make_sound(self):\n",
    "        print(\"bhow\")"
   ]
  },
  {
   "cell_type": "code",
   "execution_count": 46,
   "metadata": {},
   "outputs": [
    {
     "name": "stdout",
     "output_type": "stream",
     "text": [
      "Meow\n"
     ]
    }
   ],
   "source": [
    "cat = Cat(\"Kitti\", 5)\n",
    "cat.make_sound()"
   ]
  },
  {
   "cell_type": "code",
   "execution_count": 47,
   "metadata": {},
   "outputs": [
    {
     "name": "stdout",
     "output_type": "stream",
     "text": [
      "bhow\n"
     ]
    }
   ],
   "source": [
    "dog = Dog(\"Bob\", 10)\n",
    "dog.make_sound()"
   ]
  },
  {
   "cell_type": "code",
   "execution_count": 49,
   "metadata": {},
   "outputs": [
    {
     "name": "stdout",
     "output_type": "stream",
     "text": [
      "I am a cat. My name is Kitti. I am 5 years old\n",
      "Meow\n",
      "I am a dog. My name is Bob. I am 10 years old\n",
      "bhow\n"
     ]
    }
   ],
   "source": [
    "for a in(cat, dog):\n",
    "    a.info()\n",
    "    a.make_sound()"
   ]
  },
  {
   "cell_type": "markdown",
   "metadata": {},
   "source": [
    "Polymorphism and inheritance\n",
    "(Method Overloading)"
   ]
  },
  {
   "cell_type": "code",
   "execution_count": 50,
   "metadata": {},
   "outputs": [],
   "source": [
    "class Shape:\n",
    "    def area(self):\n",
    "        print(\"Method to calculate area\")\n",
    "class Square(Shape):\n",
    "    def __init__(self, side):\n",
    "        self.side = side\n",
    "    def area(self):\n",
    "        return self.side * self.side\n",
    "class Circle(Shape):\n",
    "    def __init__(self, radius):\n",
    "        self.radius = radius\n",
    "    def area(self):\n",
    "        return 3.14*self.radius*self.radius"
   ]
  },
  {
   "cell_type": "code",
   "execution_count": 51,
   "metadata": {},
   "outputs": [
    {
     "name": "stdout",
     "output_type": "stream",
     "text": [
      "Method to calculate area\n"
     ]
    }
   ],
   "source": [
    "s = Shape()\n",
    "c = Circle(5)\n",
    "sq = Square(5)\n",
    "s.area()"
   ]
  },
  {
   "cell_type": "code",
   "execution_count": 52,
   "metadata": {},
   "outputs": [
    {
     "data": {
      "text/plain": [
       "78.5"
      ]
     },
     "execution_count": 52,
     "metadata": {},
     "output_type": "execute_result"
    }
   ],
   "source": [
    "c.area()"
   ]
  },
  {
   "cell_type": "code",
   "execution_count": 53,
   "metadata": {},
   "outputs": [
    {
     "data": {
      "text/plain": [
       "25"
      ]
     },
     "execution_count": 53,
     "metadata": {},
     "output_type": "execute_result"
    }
   ],
   "source": [
    "sq.area()"
   ]
  },
  {
   "cell_type": "code",
   "execution_count": null,
   "metadata": {},
   "outputs": [],
   "source": []
  }
 ],
 "metadata": {
  "kernelspec": {
   "display_name": "Python 3",
   "language": "python",
   "name": "python3"
  },
  "language_info": {
   "codemirror_mode": {
    "name": "ipython",
    "version": 3
   },
   "file_extension": ".py",
   "mimetype": "text/x-python",
   "name": "python",
   "nbconvert_exporter": "python",
   "pygments_lexer": "ipython3",
   "version": "3.13.0"
  }
 },
 "nbformat": 4,
 "nbformat_minor": 2
}
