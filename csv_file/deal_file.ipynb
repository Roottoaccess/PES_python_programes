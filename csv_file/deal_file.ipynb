{
 "cells": [
  {
   "cell_type": "markdown",
   "metadata": {},
   "source": [
    "# Dealing with the CSV file"
   ]
  },
  {
   "cell_type": "markdown",
   "metadata": {},
   "source": [
    "Read a csv file"
   ]
  },
  {
   "cell_type": "code",
   "execution_count": 1,
   "metadata": {},
   "outputs": [],
   "source": [
    "import csv"
   ]
  },
  {
   "cell_type": "code",
   "execution_count": null,
   "metadata": {},
   "outputs": [
    {
     "name": "stdout",
     "output_type": "stream",
     "text": [
      "['Name', ' Age', ' Profession']\n",
      "['Alpha', ' 23', ' Gamer']\n",
      "['Beta', ' 34', ' Doctor']\n",
      "['Gamma', ' 25', ' Scientist']\n",
      "['Delta', ' 30', ' computer science']\n"
     ]
    }
   ],
   "source": [
    "with open(\"file.csv\") as file: # This is with the defaule reader function in csv !!\n",
    "    reader = csv.reader(file)\n",
    "    for _ in reader:\n",
    "        print(_)"
   ]
  },
  {
   "cell_type": "code",
   "execution_count": null,
   "metadata": {},
   "outputs": [
    {
     "name": "stdout",
     "output_type": "stream",
     "text": [
      "['Name', 'Age', 'Profession']\n",
      "['Alpha', '23', 'Gamer']\n",
      "['Beta', '34', 'Doctor']\n",
      "['Gamma', '25', 'Scientist']\n",
      "['Delta', '30', 'computer science']\n"
     ]
    }
   ],
   "source": [
    "with open(\"file.csv\") as file: # This is with using the skipintialspace = True !!\n",
    "    reader = csv.reader(file, skipinitialspace=True)\n",
    "    for _ in reader:\n",
    "        print(_)"
   ]
  },
  {
   "cell_type": "code",
   "execution_count": 6,
   "metadata": {},
   "outputs": [
    {
     "name": "stdout",
     "output_type": "stream",
     "text": [
      "['Name; Age; Profession']\n",
      "['Alpha; 23; Gamer']\n",
      "['Beta; 34; Doctor']\n",
      "['Gamma; 25; Scientist']\n",
      "['Delta; 30; computer science']\n"
     ]
    }
   ],
   "source": [
    "with open(\"file1.csv\") as file:\n",
    "    reader = csv.reader(file)\n",
    "    for i in reader:\n",
    "        print(i)"
   ]
  },
  {
   "cell_type": "code",
   "execution_count": 7,
   "metadata": {},
   "outputs": [
    {
     "name": "stdout",
     "output_type": "stream",
     "text": [
      "['Name', 'Age', 'Profession']\n",
      "['Alpha', '23', 'Gamer']\n",
      "['Beta', '34', 'Doctor']\n",
      "['Gamma', '25', 'Scientist']\n",
      "['Delta', '30', 'computer science']\n"
     ]
    }
   ],
   "source": [
    "with open(\"file1.csv\") as file:\n",
    "    reader = csv.reader(file, delimiter=\";\",skipinitialspace=True)\n",
    "    for i in reader:\n",
    "        print(i)"
   ]
  },
  {
   "cell_type": "code",
   "execution_count": null,
   "metadata": {},
   "outputs": [
    {
     "ename": "TypeError",
     "evalue": "'_csv.reader' object is not subscriptable",
     "output_type": "error",
     "traceback": [
      "\u001b[0;31m---------------------------------------------------------------------------\u001b[0m",
      "\u001b[0;31mTypeError\u001b[0m                                 Traceback (most recent call last)",
      "Cell \u001b[0;32mIn[46], line 7\u001b[0m\n\u001b[1;32m      5\u001b[0m \u001b[38;5;28;01mwith\u001b[39;00m \u001b[38;5;28mopen\u001b[39m(\u001b[38;5;124m\"\u001b[39m\u001b[38;5;124mfile1.csv\u001b[39m\u001b[38;5;124m\"\u001b[39m) \u001b[38;5;28;01mas\u001b[39;00m file:\n\u001b[1;32m      6\u001b[0m     reader \u001b[38;5;241m=\u001b[39m csv\u001b[38;5;241m.\u001b[39mreader(file, delimiter\u001b[38;5;241m=\u001b[39m\u001b[38;5;124m\"\u001b[39m\u001b[38;5;124m;\u001b[39m\u001b[38;5;124m\"\u001b[39m, skipinitialspace\u001b[38;5;241m=\u001b[39m\u001b[38;5;28;01mTrue\u001b[39;00m)\n\u001b[0;32m----> 7\u001b[0m     \u001b[38;5;28;01mfor\u001b[39;00m i \u001b[38;5;129;01min\u001b[39;00m \u001b[43mreader\u001b[49m\u001b[43m[\u001b[49m\u001b[38;5;241;43m1\u001b[39;49m\u001b[43m]\u001b[49m:\n\u001b[1;32m      8\u001b[0m         \u001b[38;5;28mprint\u001b[39m(i)\n\u001b[1;32m      9\u001b[0m \u001b[38;5;66;03m#         if i != \"Age\":\u001b[39;00m\n\u001b[1;32m     10\u001b[0m \u001b[38;5;66;03m#             a.append(i)\u001b[39;00m\n\u001b[1;32m     11\u001b[0m \n\u001b[1;32m     12\u001b[0m \u001b[38;5;66;03m# for i in a:\u001b[39;00m\n\u001b[1;32m     13\u001b[0m \u001b[38;5;66;03m#     print(int(i))\u001b[39;00m\n",
      "\u001b[0;31mTypeError\u001b[0m: '_csv.reader' object is not subscriptable"
     ]
    }
   ],
   "source": [
    "# Find the average age of the peoples\n",
    "import csv\n",
    "a = []\n",
    "add = 0\n",
    "with open(\"file1.csv\") as file:\n",
    "    reader = csv.reader(file, delimiter=\";\", skipinitialspace=True)\n",
    "    for i in reader:\n",
    "        a = i[1]\n",
    "        if a != \"Age\":\n",
    "            a.append(i)\n",
    "\n",
    "# for i in a:\n",
    "#     print(int(i))"
   ]
  },
  {
   "cell_type": "code",
   "execution_count": 26,
   "metadata": {},
   "outputs": [
    {
     "name": "stdout",
     "output_type": "stream",
     "text": [
      "['Name', 'Age', 'Profession']\n",
      "['Alpha', '23', 'Gamer']\n",
      "['Beta', '34', 'Doctor']\n",
      "['Gamma', '25', 'Scientist']\n",
      "['Delta', '30', 'computer science']\n"
     ]
    }
   ],
   "source": [
    "with open(\"f_data.txt\") as file:\n",
    "    reader = csv.reader(file, skipinitialspace=True)\n",
    "    for i in reader:\n",
    "        print(i)"
   ]
  },
  {
   "cell_type": "code",
   "execution_count": 27,
   "metadata": {},
   "outputs": [
    {
     "name": "stdout",
     "output_type": "stream",
     "text": [
      "['Name', 'Age', 'Profession']\n",
      "['Alpha', '23', 'Gamer']\n",
      "['Beta', '34', 'Doctor']\n",
      "['Gamma', '25', 'Scientist']\n",
      "['Delta', '30', 'computer science']\n"
     ]
    }
   ],
   "source": [
    "with open(\"f_data.txt\") as file:\n",
    "    reader = csv.reader(file, delimiter=';', skipinitialspace=True)\n",
    "    for i in reader:\n",
    "        print(i)"
   ]
  },
  {
   "cell_type": "code",
   "execution_count": 28,
   "metadata": {},
   "outputs": [
    {
     "name": "stdout",
     "output_type": "stream",
     "text": [
      "{'Name': 'Alpha', ' Age': ' 23', ' Profession': ' Gamer'}\n",
      "{'Name': 'Beta', ' Age': ' 34', ' Profession': ' Doctor'}\n",
      "{'Name': 'Gamma', ' Age': ' 25', ' Profession': ' Scientist'}\n",
      "{'Name': 'Delta', ' Age': ' 30', ' Profession': ' computer science'}\n"
     ]
    }
   ],
   "source": [
    "with open(\"file.csv\") as file:\n",
    "    reader = csv.DictReader(file)\n",
    "    for i in reader:\n",
    "        print(i)"
   ]
  },
  {
   "cell_type": "code",
   "execution_count": 30,
   "metadata": {},
   "outputs": [
    {
     "name": "stdout",
     "output_type": "stream",
     "text": [
      "{'Name': 'Alpha', 'Age': '23', 'Profession': 'Gamer'}\n",
      "{'Name': 'Beta', 'Age': '34', 'Profession': 'Doctor'}\n",
      "{'Name': 'Gamma', 'Age': '25', 'Profession': 'Scientist'}\n",
      "{'Name': 'Delta', 'Age': '30', 'Profession': 'computer science'}\n"
     ]
    }
   ],
   "source": [
    "with open(\"file.csv\") as file:\n",
    "    reader = csv.DictReader(file, skipinitialspace=True)\n",
    "    for i in reader:\n",
    "        print(i)"
   ]
  },
  {
   "cell_type": "code",
   "execution_count": 35,
   "metadata": {},
   "outputs": [
    {
     "name": "stdout",
     "output_type": "stream",
     "text": [
      "{'Name; Age; Profession': 'Alpha;23; Gamer'}\n",
      "{'Name; Age; Profession': 'Beta; 34; Doctor'}\n",
      "{'Name; Age; Profession': 'Gamma; 25; Scientist'}\n",
      "{'Name; Age; Profession': 'Delta; 30; computer science'}\n"
     ]
    }
   ],
   "source": [
    "# Read your text file\n",
    "with open(\"f_data.txt\") as file:\n",
    "    reader = csv.DictReader(file, skipinitialspace=True)\n",
    "    for i in reader:\n",
    "        print(i)"
   ]
  },
  {
   "cell_type": "code",
   "execution_count": 47,
   "metadata": {},
   "outputs": [],
   "source": [
    "# Creating a list of list of numbers\n",
    "data = [\n",
    "\n",
    "    ['Name', 'Age', 'Hobby'],\n",
    "    ['Alpha', 23, 'Cooking'],\n",
    "    ['Beta', 24, 'Music'],\n",
    "    ['Gamma', 23, 'Dance']\n",
    "]"
   ]
  },
  {
   "cell_type": "code",
   "execution_count": null,
   "metadata": {},
   "outputs": [],
   "source": []
  }
 ],
 "metadata": {
  "kernelspec": {
   "display_name": "Python 3",
   "language": "python",
   "name": "python3"
  },
  "language_info": {
   "codemirror_mode": {
    "name": "ipython",
    "version": 3
   },
   "file_extension": ".py",
   "mimetype": "text/x-python",
   "name": "python",
   "nbconvert_exporter": "python",
   "pygments_lexer": "ipython3",
   "version": "3.13.0"
  }
 },
 "nbformat": 4,
 "nbformat_minor": 2
}
