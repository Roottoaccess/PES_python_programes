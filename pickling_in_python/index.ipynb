{
 "cells": [
  {
   "cell_type": "code",
   "execution_count": 1,
   "metadata": {},
   "outputs": [],
   "source": [
    "# Pickle"
   ]
  },
  {
   "cell_type": "code",
   "execution_count": 2,
   "metadata": {},
   "outputs": [],
   "source": [
    "# List"
   ]
  },
  {
   "cell_type": "code",
   "execution_count": 3,
   "metadata": {},
   "outputs": [
    {
     "name": "stdout",
     "output_type": "stream",
     "text": [
      "['apple', 'mango', 'papaya', 'banana']\n"
     ]
    }
   ],
   "source": [
    "l = ['apple','mango','papaya','banana']\n",
    "print(l)"
   ]
  },
  {
   "cell_type": "code",
   "execution_count": 4,
   "metadata": {},
   "outputs": [],
   "source": [
    "import pickle"
   ]
  },
  {
   "cell_type": "code",
   "execution_count": 5,
   "metadata": {},
   "outputs": [],
   "source": [
    "with open('list.pkl', 'wb') as file:\n",
    "    pickle.dump(l, file)"
   ]
  },
  {
   "cell_type": "code",
   "execution_count": 6,
   "metadata": {},
   "outputs": [],
   "source": [
    "with open('list.pkl', 'rb') as file:\n",
    "    data = pickle.load(file)"
   ]
  },
  {
   "cell_type": "code",
   "execution_count": 7,
   "metadata": {},
   "outputs": [
    {
     "name": "stdout",
     "output_type": "stream",
     "text": [
      "['apple', 'mango', 'papaya', 'banana']\n"
     ]
    }
   ],
   "source": [
    "print(data)"
   ]
  },
  {
   "cell_type": "code",
   "execution_count": 8,
   "metadata": {},
   "outputs": [],
   "source": [
    "# Dictionary"
   ]
  },
  {
   "cell_type": "code",
   "execution_count": 9,
   "metadata": {},
   "outputs": [],
   "source": [
    "d = {\n",
    "    'name': 'bhavik',\n",
    "    'age': 24,\n",
    "    'akar': 'motapa',\n",
    "    'city': 'bangalore'\n",
    "}"
   ]
  },
  {
   "cell_type": "code",
   "execution_count": 11,
   "metadata": {},
   "outputs": [],
   "source": [
    "with open('dict.pkl','wb') as file:\n",
    "    pickle.dump(d, file)"
   ]
  },
  {
   "cell_type": "code",
   "execution_count": null,
   "metadata": {},
   "outputs": [
    {
     "name": "stdout",
     "output_type": "stream",
     "text": [
      "{'name': 'bhavik', 'age': 24, 'akar': 'motapa', 'city': 'bangalore'}\n"
     ]
    }
   ],
   "source": [
    "with open('dict.pkl', 'rb') as file: # Unpickling \n",
    "    data = pickle.load(file)\n",
    "print(data)"
   ]
  },
  {
   "cell_type": "code",
   "execution_count": 13,
   "metadata": {},
   "outputs": [],
   "source": [
    "# Custom Object\n",
    "class Person:\n",
    "    def __init__(self, name, age):\n",
    "        self.name = name\n",
    "        self.age = age\n",
    "    def __repr__(self): # Return the string value !!\n",
    "        return f\"Person(name = {self.name}, age = {self.age})\"\n",
    "p = Person(\"Beta\", 54)"
   ]
  },
  {
   "cell_type": "code",
   "execution_count": 15,
   "metadata": {},
   "outputs": [
    {
     "name": "stdout",
     "output_type": "stream",
     "text": [
      "Person(name = Beta, age = 54)\n"
     ]
    }
   ],
   "source": [
    "with open('p.pkl','wb') as file:\n",
    "    pickle.dump(p, file) # Calling the object !!\n",
    "with open('p.pkl','rb') as file:\n",
    "    lo = pickle.load(file)\n",
    "print(lo)"
   ]
  },
  {
   "cell_type": "code",
   "execution_count": 16,
   "metadata": {},
   "outputs": [],
   "source": [
    "# Multiple Objects\n",
    "l = [1,2,3,4]\n",
    "d={'a':1, 'b':2}\n",
    "c = \"Hello Hacker\"\n",
    "t = {1,2,3,4,5}\n",
    "se = (1,2,3,4,5,66,88)\n",
    "with open('m.pkl','wb') as file:\n",
    "    pickle.dump(l, file)\n",
    "    pickle.dump(d, file)\n",
    "    pickle.dump(c, file)\n",
    "    pickle.dump(t, file)\n",
    "    pickle.dump(se, file)"
   ]
  },
  {
   "cell_type": "code",
   "execution_count": 21,
   "metadata": {},
   "outputs": [
    {
     "name": "stdout",
     "output_type": "stream",
     "text": [
      "[1, 2, 3, 4]\n",
      "{'a': 1, 'b': 2}\n",
      "Hello Hacker\n",
      "{1, 2, 3, 4, 5}\n",
      "(1, 2, 3, 4, 5, 66, 88)\n"
     ]
    }
   ],
   "source": [
    "with open('m.pkl','rb')as file:\n",
    "    data = pickle.load(file)\n",
    "    data1 = pickle.load(file)\n",
    "    data2 = pickle.load(file)\n",
    "    data3 = pickle.load(file)\n",
    "    data4 = pickle.load(file)\n",
    "print(data); print(data1); print(data2); print(data3); print(data4)"
   ]
  },
  {
   "cell_type": "code",
   "execution_count": 23,
   "metadata": {},
   "outputs": [],
   "source": [
    "# Pickel and unpickel a function!!"
   ]
  },
  {
   "cell_type": "code",
   "execution_count": 26,
   "metadata": {},
   "outputs": [],
   "source": [
    "def greet(name):\n",
    "    return f\"Hello MR, {name} welcome to the hacking world !!\"\n",
    "with open('f.pkl','wb') as file:\n",
    "    pickle.dump(greet,file)"
   ]
  },
  {
   "cell_type": "code",
   "execution_count": 27,
   "metadata": {},
   "outputs": [
    {
     "name": "stdout",
     "output_type": "stream",
     "text": [
      "Hello MR, Robot welcome to the hacking world !!\n"
     ]
    }
   ],
   "source": [
    "with open('f.pkl', 'rb') as file:\n",
    "    lf = pickle.load(file)\n",
    "print(lf('Robot'))"
   ]
  },
  {
   "cell_type": "code",
   "execution_count": 28,
   "metadata": {},
   "outputs": [],
   "source": [
    "# DataFrames"
   ]
  },
  {
   "cell_type": "code",
   "execution_count": 29,
   "metadata": {},
   "outputs": [],
   "source": [
    "import pandas as pd"
   ]
  },
  {
   "cell_type": "code",
   "execution_count": 30,
   "metadata": {},
   "outputs": [],
   "source": [
    "d = {\n",
    "        'name': ['Alpha','Beta','Gamma','Lambda'],\n",
    "        'age': [22, 24, 26, 28],\n",
    "        'city': ['Bangalore','Mumbai','kolkata','delhi']\n",
    "    }\n",
    "df = pd.DataFrame(d)"
   ]
  },
  {
   "cell_type": "code",
   "execution_count": 31,
   "metadata": {},
   "outputs": [
    {
     "name": "stdout",
     "output_type": "stream",
     "text": [
      "     name  age       city\n",
      "0   Alpha   22  Bangalore\n",
      "1    Beta   24     Mumbai\n",
      "2   Gamma   26    kolkata\n",
      "3  Lambda   28      delhi\n"
     ]
    }
   ],
   "source": [
    "print(df)"
   ]
  },
  {
   "cell_type": "code",
   "execution_count": 32,
   "metadata": {},
   "outputs": [
    {
     "name": "stdout",
     "output_type": "stream",
     "text": [
      "     name  age       city\n",
      "0   Alpha   22  Bangalore\n",
      "1    Beta   24     Mumbai\n",
      "2   Gamma   26    kolkata\n",
      "3  Lambda   28      delhi\n"
     ]
    }
   ],
   "source": [
    "df.to_pickle('df.pkl')\n",
    "ldf = pd.read_pickle('df.pkl')\n",
    "print(ldf)"
   ]
  },
  {
   "cell_type": "code",
   "execution_count": 33,
   "metadata": {},
   "outputs": [
    {
     "name": "stdout",
     "output_type": "stream",
     "text": [
      "['ADDITEMS', 'APPEND', 'APPENDS', 'BINBYTES', 'BINBYTES8', 'BINFLOAT', 'BINGET', 'BININT', 'BININT1', 'BININT2', 'BINPERSID', 'BINPUT', 'BINSTRING', 'BINUNICODE', 'BINUNICODE8', 'BUILD', 'BYTEARRAY8', 'DEFAULT_PROTOCOL', 'DICT', 'DUP', 'EMPTY_DICT', 'EMPTY_LIST', 'EMPTY_SET', 'EMPTY_TUPLE', 'EXT1', 'EXT2', 'EXT4', 'FALSE', 'FLOAT', 'FRAME', 'FROZENSET', 'FunctionType', 'GET', 'GLOBAL', 'HIGHEST_PROTOCOL', 'INST', 'INT', 'LIST', 'LONG', 'LONG1', 'LONG4', 'LONG_BINGET', 'LONG_BINPUT', 'MARK', 'MEMOIZE', 'NEWFALSE', 'NEWOBJ', 'NEWOBJ_EX', 'NEWTRUE', 'NEXT_BUFFER', 'NONE', 'OBJ', 'PERSID', 'POP', 'POP_MARK', 'PROTO', 'PUT', 'PickleBuffer', 'PickleError', 'Pickler', 'PicklingError', 'READONLY_BUFFER', 'REDUCE', 'SETITEM', 'SETITEMS', 'SHORT_BINBYTES', 'SHORT_BINSTRING', 'SHORT_BINUNICODE', 'STACK_GLOBAL', 'STOP', 'STRING', 'TRUE', 'TUPLE', 'TUPLE1', 'TUPLE2', 'TUPLE3', 'UNICODE', 'Unpickler', 'UnpicklingError', '_Framer', '_HAVE_PICKLE_BUFFER', '_NoValue', '_Pickler', '_Stop', '_Unframer', '_Unpickler', '__all__', '__builtins__', '__cached__', '__doc__', '__file__', '__loader__', '__name__', '__package__', '__spec__', '_compat_pickle', '_dump', '_dumps', '_extension_cache', '_extension_registry', '_getattribute', '_inverted_registry', '_load', '_loads', '_test', '_tuplesize2code', 'bytes_types', 'codecs', 'compatible_formats', 'decode_long', 'dispatch_table', 'dump', 'dumps', 'encode_long', 'format_version', 'io', 'islice', 'load', 'loads', 'maxsize', 'pack', 'partial', 're', 'sys', 'unpack', 'whichmodule']\n"
     ]
    }
   ],
   "source": [
    "print(dir(pickle))"
   ]
  },
  {
   "cell_type": "code",
   "execution_count": 34,
   "metadata": {},
   "outputs": [
    {
     "data": {
      "text/plain": [
       "'\\nos\\ndate and time\\njson\\nre\\ncolletion\\nsockets\\nhttp\\nsqlite3\\n'"
      ]
     },
     "execution_count": 34,
     "metadata": {},
     "output_type": "execute_result"
    }
   ],
   "source": [
    "\"\"\"\n",
    "os\n",
    "date and time\n",
    "json\n",
    "re\n",
    "colletion\n",
    "sockets\n",
    "http\n",
    "sqlite3\n",
    "\"\"\""
   ]
  },
  {
   "cell_type": "markdown",
   "metadata": {},
   "source": [
    "# OS Library"
   ]
  },
  {
   "cell_type": "code",
   "execution_count": 36,
   "metadata": {},
   "outputs": [],
   "source": [
    "import os"
   ]
  },
  {
   "cell_type": "code",
   "execution_count": 39,
   "metadata": {},
   "outputs": [
    {
     "data": {
      "text/plain": [
       "'os - interactive with the Operating System'"
      ]
     },
     "execution_count": 39,
     "metadata": {},
     "output_type": "execute_result"
    }
   ],
   "source": [
    "\"\"\"os - interactive with the Operating System\"\"\""
   ]
  },
  {
   "cell_type": "code",
   "execution_count": 40,
   "metadata": {},
   "outputs": [
    {
     "name": "stdout",
     "output_type": "stream",
     "text": [
      "/Users/biswarupdutta/Library/CloudStorage/OneDrive-MSFT/programming_PES/Python Programming/pickling_in_python\n"
     ]
    }
   ],
   "source": [
    "# Get the current working Directory\n",
    "cur = os.getcwd()\n",
    "print(cur)"
   ]
  },
  {
   "cell_type": "code",
   "execution_count": 43,
   "metadata": {},
   "outputs": [
    {
     "name": "stdout",
     "output_type": "stream",
     "text": [
      "Directory new_directory is created successfully\n"
     ]
    }
   ],
   "source": [
    "# Create a new directory\n",
    "n_d = 'new_directory'\n",
    "os.mkdir(n_d)\n",
    "if os.path.exists(n_d): # Checking if the dir created or not ?\n",
    "    print(f'Directory {n_d} is created successfully')"
   ]
  },
  {
   "cell_type": "code",
   "execution_count": 44,
   "metadata": {},
   "outputs": [
    {
     "name": "stdout",
     "output_type": "stream",
     "text": [
      "Current working directory is -> /Users/biswarupdutta/Library/CloudStorage/OneDrive-MSFT/programming_PES/Python Programming/pickling_in_python\n",
      "Updated working directory is -> /Users/biswarupdutta/Library/CloudStorage/OneDrive-MSFT/programming_PES/Python Programming/pickling_in_python/new_directory\n"
     ]
    }
   ],
   "source": [
    "# Changing the current working Directory\n",
    "cur = os.getcwd()\n",
    "print(f\"Current working directory is -> {cur}\")\n",
    "os.chdir(n_d)\n",
    "cur = os.getcwd()\n",
    "print(f\"Updated working directory is -> {cur}\")"
   ]
  },
  {
   "cell_type": "code",
   "execution_count": 47,
   "metadata": {},
   "outputs": [
    {
     "name": "stdout",
     "output_type": "stream",
     "text": [
      "Contents of the current directory is -> []\n"
     ]
    }
   ],
   "source": [
    "# Get the contents of a current working directory\n",
    "c = os.listdir(cur)\n",
    "print(f\"Contents of the current directory is -> {c}\")"
   ]
  },
  {
   "cell_type": "code",
   "execution_count": 49,
   "metadata": {},
   "outputs": [
    {
     "name": "stdout",
     "output_type": "stream",
     "text": [
      "Directory new_directory does not exists\n"
     ]
    }
   ],
   "source": [
    "# Remove a directory\n",
    "d_r = 'new_directory'\n",
    "if os.path.exists(d_r):\n",
    "    os.rmdir(d_r)\n",
    "    print(f\"successfully removed the directory -> {d_r}\")\n",
    "else:\n",
    "    print(f\"Directory {d_r} does not exists\")"
   ]
  },
  {
   "cell_type": "code",
   "execution_count": 57,
   "metadata": {},
   "outputs": [
    {
     "name": "stdout",
     "output_type": "stream",
     "text": [
      "Joined Path /Users/biswarupdutta\n"
     ]
    }
   ],
   "source": [
    "# Join paths intelligently\n",
    "path1 = '/Users'\n",
    "path2 = 'biswarupdutta'\n",
    "jp = os.path.join(path1, path2)\n",
    "print(f'Joined Path {jp}') "
   ]
  },
  {
   "cell_type": "code",
   "execution_count": 58,
   "metadata": {},
   "outputs": [
    {
     "name": "stdout",
     "output_type": "stream",
     "text": [
      "Path /Users/biswarupdutta exists\n"
     ]
    }
   ],
   "source": [
    "# Checking is the path exists or not\n",
    "if os.path.exists(jp):\n",
    "    print(f\"Path {jp} exists\")\n",
    "else:\n",
    "    print(f\"{jp} not exists\")"
   ]
  },
  {
   "cell_type": "code",
   "execution_count": 59,
   "metadata": {},
   "outputs": [
    {
     "name": "stdout",
     "output_type": "stream",
     "text": [
      "Parent PID is: 68026\n"
     ]
    }
   ],
   "source": [
    "# Get the parent process is (PID) of the current process\n",
    "try:\n",
    "    pid = os.getppid()\n",
    "    print(f\"Parent PID is: {pid}\")\n",
    "except AttributeError as e:\n",
    "    print(f\"AttributeError: {e}\")"
   ]
  },
  {
   "cell_type": "code",
   "execution_count": 61,
   "metadata": {},
   "outputs": [
    {
     "name": "stdout",
     "output_type": "stream",
     "text": [
      "Path /Users/biswarupdutta/Library/CloudStorage/OneDrive-MSFT/programming_PES/Python Programming/pickling_in_python/list.pkl points to a file\n"
     ]
    }
   ],
   "source": [
    "# Checking if a path points to a file\n",
    "fp = \"/Users/biswarupdutta/Library/CloudStorage/OneDrive-MSFT/programming_PES/Python Programming/pickling_in_python/list.pkl\"\n",
    "if os.path.isfile(fp):\n",
    "    print(f\"Path {fp} points to a file\")\n",
    "else:\n",
    "    print(f\"Path {fp} is not in file or it doesn't exists\")"
   ]
  },
  {
   "cell_type": "code",
   "execution_count": 62,
   "metadata": {},
   "outputs": [
    {
     "name": "stdout",
     "output_type": "stream",
     "text": [
      "Path /Users/biswarupdutta points to a directory\n"
     ]
    }
   ],
   "source": [
    "# Check if a path points to a Directory\n",
    "dp = \"/Users/biswarupdutta\"\n",
    "if os.path.isdir(dp):\n",
    "    print(f'Path {dp} points to a directory')\n",
    "else:\n",
    "    print(f\"Path {dp} is not pointing to a directory\")"
   ]
  },
  {
   "cell_type": "code",
   "execution_count": 63,
   "metadata": {},
   "outputs": [],
   "source": [
    "# Get statistic of a file\n",
    "fp = '/Users/biswarupdutta/Library/CloudStorage/OneDrive-MSFT/programming_PES/Python Programming/pickling_in_python/list.pkl'\n",
    "fs = os.stat(fp)"
   ]
  },
  {
   "cell_type": "code",
   "execution_count": 65,
   "metadata": {},
   "outputs": [
    {
     "name": "stdout",
     "output_type": "stream",
     "text": [
      "os.stat_result(st_mode=33188, st_ino=20661018, st_dev=16777232, st_nlink=1, st_uid=501, st_gid=20, st_size=50, st_atime=1739427513, st_mtime=1739425301, st_ctime=1739425301)\n",
      "<class 'os.stat_result'>\n"
     ]
    },
    {
     "data": {
      "text/plain": [
       "(None, None)"
      ]
     },
     "execution_count": 65,
     "metadata": {},
     "output_type": "execute_result"
    }
   ],
   "source": [
    "print(fs), print(type(fs))"
   ]
  },
  {
   "cell_type": "code",
   "execution_count": 66,
   "metadata": {},
   "outputs": [
    {
     "name": "stdout",
     "output_type": "stream",
     "text": [
      "File size in Bytes: 50\n",
      "File Size in KiloBytes: 0.048828125\n",
      "File size in megaBytes: 4.76837158203125e-05\n",
      "File Creation Time: 1739425301.8275456\n",
      "File Modification Time: 1739425301.518422\n",
      "File Access Time: 1739427513.0403001\n"
     ]
    }
   ],
   "source": [
    "print(f'File size in Bytes: {fs.st_size}')\n",
    "print(f'File Size in KiloBytes: {fs.st_size/1024}')\n",
    "print(f'File size in megaBytes: {fs.st_size/(1024*1024)}')\n",
    "print(f'File Creation Time: {fs.st_ctime}')\n",
    "print(f'File Modification Time: {fs.st_mtime}')\n",
    "print(f'File Access Time: {fs.st_atime}')"
   ]
  },
  {
   "cell_type": "code",
   "execution_count": null,
   "metadata": {},
   "outputs": [
    {
     "name": "stdout",
     "output_type": "stream",
     "text": [
      "The home Directory is /Users/biswarupdutta\n"
     ]
    }
   ],
   "source": [
    "# Get the current user's home directory from the environment variable\n",
    "# For Mac HOME is the environment variable\n",
    "if 'HOME' in os.environ:\n",
    "    hd = os.environ[\"HOME\"]\n",
    "    print(f'The home Directory is {hd}')\n",
    "else:\n",
    "    print(f\"Environment Variable 'USERPROFILE' does not exist\")"
   ]
  },
  {
   "cell_type": "code",
   "execution_count": 68,
   "metadata": {},
   "outputs": [],
   "source": [
    "# Executes a shell command and check its exit code"
   ]
  },
  {
   "cell_type": "code",
   "execution_count": 70,
   "metadata": {},
   "outputs": [
    {
     "name": "stdout",
     "output_type": "stream",
     "text": [
      "PING google.com (142.250.196.14): 56 data bytes\n",
      "64 bytes from 142.250.196.14: icmp_seq=0 ttl=58 time=19.947 ms\n",
      "64 bytes from 142.250.196.14: icmp_seq=1 ttl=58 time=18.880 ms\n",
      "64 bytes from 142.250.196.14: icmp_seq=2 ttl=58 time=10.954 ms\n",
      "64 bytes from 142.250.196.14: icmp_seq=3 ttl=58 time=10.352 ms\n",
      "64 bytes from 142.250.196.14: icmp_seq=4 ttl=58 time=179.166 ms\n",
      "\n",
      "--- google.com ping statistics ---\n",
      "5 packets transmitted, 5 packets received, 0.0% packet loss\n",
      "round-trip min/avg/max/stddev = 10.352/47.860/179.166/65.771 ms\n",
      "Ping Succesful\n"
     ]
    }
   ],
   "source": [
    "# Unix operating system command\n",
    "res = os.system('ping -c 5 google.com')\n",
    "if res == 0:\n",
    "    print(\"Ping Succesful\")\n",
    "else:\n",
    "    print(\"Ping Unsuccessful\")"
   ]
  },
  {
   "cell_type": "code",
   "execution_count": 73,
   "metadata": {},
   "outputs": [
    {
     "name": "stdout",
     "output_type": "stream",
     "text": [
      "Process Output \n",
      ":total 0\n",
      "drwxr-xr-x@  2 biswarupdutta  staff   64 Feb 13 11:57 \u001b[34m.\u001b[m\u001b[m\n",
      "drwxr-xr-x@ 10 biswarupdutta  staff  320 Feb 13 11:57 \u001b[34m..\u001b[m\u001b[m\n",
      "\n"
     ]
    }
   ],
   "source": [
    "# Run a command and capture its output using a pipe\n",
    "p = os.popen('ls -la')\n",
    "o=p.read()\n",
    "print(f'Process Output \\n:{o}')\n",
    "p.close()"
   ]
  },
  {
   "cell_type": "code",
   "execution_count": 75,
   "metadata": {},
   "outputs": [
    {
     "name": "stdout",
     "output_type": "stream",
     "text": [
      "Environment Variables\n",
      "COMMAND_MODE:unix2003\n",
      "HOME:/Users/biswarupdutta\n",
      "HOMEBREW_CELLAR:/opt/homebrew/Cellar\n",
      "HOMEBREW_PREFIX:/opt/homebrew\n",
      "HOMEBREW_REPOSITORY:/opt/homebrew\n",
      "INFOPATH:/opt/homebrew/share/info:\n",
      "LOGNAME:biswarupdutta\n",
      "MallocNanoZone:0\n",
      "OLDPWD:/\n",
      "ORIGINAL_XDG_CURRENT_DESKTOP:undefined\n",
      "PATH:/usr/local/bin:/Users/biswarupdutta/Library/Python/3.13/bin:/Library/Frameworks/Python.framework/Versions/3.13/bin:/opt/homebrew/bin:/opt/homebrew/sbin:/usr/local/bin:/System/Cryptexes/App/usr/bin:/usr/bin:/bin:/usr/sbin:/sbin:/var/run/com.apple.security.cryptexd/codex.system/bootstrap/usr/local/bin:/var/run/com.apple.security.cryptexd/codex.system/bootstrap/usr/bin:/var/run/com.apple.security.cryptexd/codex.system/bootstrap/usr/appleinternal/bin:/Applications/VMware Fusion.app/Contents/Public:/usr/local/mysql-9.1.0-macos14-arm64/bin:/Library/Frameworks/Python.framework/Versions/3.13/bin:/opt/homebrew/bin:/opt/homebrew/sbin:/usr/local/bin:/System/Cryptexes/App/usr/bin:/usr/bin:/bin:/usr/sbin:/sbin:/var/run/com.apple.security.cryptexd/codex.system/bootstrap/usr/local/bin:/var/run/com.apple.security.cryptexd/codex.system/bootstrap/usr/bin:/var/run/com.apple.security.cryptexd/codex.system/bootstrap/usr/appleinternal/bin:/Applications/VMware Fusion.app/Contents/Public:/usr/local/mysql-9.1.0-macos14-arm64/bin\n",
      "PWD:/\n",
      "SHELL:/bin/zsh\n",
      "SHLVL:0\n",
      "SSH_AUTH_SOCK:/private/tmp/com.apple.launchd.HYowoMXZbI/Listeners\n",
      "TMPDIR:/var/folders/fh/knfvlly12f53mfr4d69dnwhw0000gn/T/\n",
      "USER:biswarupdutta\n",
      "VSCODE_CODE_CACHE_PATH:/Users/biswarupdutta/Library/Application Support/Code/CachedData/912bb683695358a54ae0c670461738984cbb5b95\n",
      "VSCODE_CRASH_REPORTER_PROCESS_TYPE:extensionHost\n",
      "VSCODE_CWD:/\n",
      "VSCODE_ESM_ENTRYPOINT:vs/workbench/api/node/extensionHostProcess\n",
      "VSCODE_HANDLES_UNCAUGHT_ERRORS:true\n",
      "VSCODE_IPC_HOOK:/Users/biswarupdutta/Library/Application Support/Code/1.95-main.sock\n",
      "VSCODE_NLS_CONFIG:{\"userLocale\":\"en-gb\",\"osLocale\":\"en-in\",\"resolvedLanguage\":\"en\",\"defaultMessagesFile\":\"/private/var/folders/fh/knfvlly12f53mfr4d69dnwhw0000gn/T/AppTranslocation/4FC84CFD-C591-4590-BBEB-19DE3AB4F40F/d/Visual Studio Code.app/Contents/Resources/app/out/nls.messages.json\",\"locale\":\"en-gb\",\"availableLanguages\":{}}\n",
      "VSCODE_PID:67613\n",
      "XPC_FLAGS:0x0\n",
      "XPC_SERVICE_NAME:application.com.microsoft.VSCode.345097.345103\n",
      "_:/private/var/folders/fh/knfvlly12f53mfr4d69dnwhw0000gn/T/AppTranslocation/4FC84CFD-C591-4590-BBEB-19DE3AB4F40F/d/Visual Studio Code.app/Contents/MacOS/Electron\n",
      "__CFBundleIdentifier:com.microsoft.VSCode\n",
      "__CF_USER_TEXT_ENCODING:0x1F5:0x0:0x0\n",
      "ELECTRON_RUN_AS_NODE:1\n",
      "PYDEVD_IPYTHON_COMPATIBLE_DEBUGGING:1\n",
      "PYTHONUNBUFFERED:1\n",
      "PYTHONIOENCODING:utf-8\n",
      "PYTHON_FROZEN_MODULES:on\n",
      "LC_CTYPE:UTF-8\n",
      "PYDEVD_USE_FRAME_EVAL:NO\n",
      "TERM:xterm-color\n",
      "CLICOLOR:1\n",
      "FORCE_COLOR:1\n",
      "CLICOLOR_FORCE:1\n",
      "PAGER:cat\n",
      "GIT_PAGER:cat\n",
      "MPLBACKEND:module://matplotlib_inline.backend_inline\n"
     ]
    }
   ],
   "source": [
    "ev = os.environ\n",
    "print(\"Environment Variables\")\n",
    "for key,value in ev.items():\n",
    "    print(f'{key}:{value}')"
   ]
  },
  {
   "cell_type": "code",
   "execution_count": 76,
   "metadata": {},
   "outputs": [
    {
     "name": "stdout",
     "output_type": "stream",
     "text": [
      "Value of PATH is /usr/local/bin:/Users/biswarupdutta/Library/Python/3.13/bin:/Library/Frameworks/Python.framework/Versions/3.13/bin:/opt/homebrew/bin:/opt/homebrew/sbin:/usr/local/bin:/System/Cryptexes/App/usr/bin:/usr/bin:/bin:/usr/sbin:/sbin:/var/run/com.apple.security.cryptexd/codex.system/bootstrap/usr/local/bin:/var/run/com.apple.security.cryptexd/codex.system/bootstrap/usr/bin:/var/run/com.apple.security.cryptexd/codex.system/bootstrap/usr/appleinternal/bin:/Applications/VMware Fusion.app/Contents/Public:/usr/local/mysql-9.1.0-macos14-arm64/bin:/Library/Frameworks/Python.framework/Versions/3.13/bin:/opt/homebrew/bin:/opt/homebrew/sbin:/usr/local/bin:/System/Cryptexes/App/usr/bin:/usr/bin:/bin:/usr/sbin:/sbin:/var/run/com.apple.security.cryptexd/codex.system/bootstrap/usr/local/bin:/var/run/com.apple.security.cryptexd/codex.system/bootstrap/usr/bin:/var/run/com.apple.security.cryptexd/codex.system/bootstrap/usr/appleinternal/bin:/Applications/VMware Fusion.app/Contents/Public:/usr/local/mysql-9.1.0-macos14-arm64/bin\n"
     ]
    }
   ],
   "source": [
    "# Get a specific Environment Variable\n",
    "sv = 'PATH'\n",
    "vv = os.getenv(sv)\n",
    "print(f\"Value of {sv} is {vv}\")"
   ]
  },
  {
   "cell_type": "code",
   "execution_count": 78,
   "metadata": {},
   "outputs": [
    {
     "name": "stdout",
     "output_type": "stream",
     "text": [
      "lo0: flags=8049<UP,LOOPBACK,RUNNING,MULTICAST> mtu 16384\n",
      "\toptions=1203<RXCSUM,TXCSUM,TXSTATUS,SW_TIMESTAMP>\n",
      "\tinet 127.0.0.1 netmask 0xff000000\n",
      "\tinet6 ::1 prefixlen 128 \n",
      "\tinet6 fe80::1%lo0 prefixlen 64 scopeid 0x1 \n",
      "\tnd6 options=201<PERFORMNUD,DAD>\n",
      "gif0: flags=8010<POINTOPOINT,MULTICAST> mtu 1280\n",
      "stf0: flags=0<> mtu 1280\n",
      "anpi1: flags=8863<UP,BROADCAST,SMART,RUNNING,SIMPLEX,MULTICAST> mtu 1500\n",
      "\toptions=400<CHANNEL_IO>\n",
      "\tether 9a:b6:d7:ee:8e:80\n",
      "\tmedia: none\n",
      "\tstatus: inactive\n",
      "anpi0: flags=8863<UP,BROADCAST,SMART,RUNNING,SIMPLEX,MULTICAST> mtu 1500\n",
      "\toptions=400<CHANNEL_IO>\n",
      "\tether 9a:b6:d7:ee:8e:7f\n",
      "\tmedia: none\n",
      "\tstatus: inactive\n",
      "en3: flags=8863<UP,BROADCAST,SMART,RUNNING,SIMPLEX,MULTICAST> mtu 1500\n",
      "\toptions=400<CHANNEL_IO>\n",
      "\tether 9a:b6:d7:ee:8e:5f\n",
      "\tnd6 options=201<PERFORMNUD,DAD>\n",
      "\tmedia: none\n",
      "\tstatus: inactive\n",
      "en4: flags=8863<UP,BROADCAST,SMART,RUNNING,SIMPLEX,MULTICAST> mtu 1500\n",
      "\toptions=400<CHANNEL_IO>\n",
      "\tether 9a:b6:d7:ee:8e:60\n",
      "\tnd6 options=201<PERFORMNUD,DAD>\n",
      "\tmedia: none\n",
      "\tstatus: inactive\n",
      "en1: flags=8963<UP,BROADCAST,SMART,RUNNING,PROMISC,SIMPLEX,MULTICAST> mtu 1500\n",
      "\toptions=460<TSO4,TSO6,CHANNEL_IO>\n",
      "\tether 36:e7:7c:85:c3:80\n",
      "\tmedia: autoselect <full-duplex>\n",
      "\tstatus: inactive\n",
      "en2: flags=8963<UP,BROADCAST,SMART,RUNNING,PROMISC,SIMPLEX,MULTICAST> mtu 1500\n",
      "\toptions=460<TSO4,TSO6,CHANNEL_IO>\n",
      "\tether 36:e7:7c:85:c3:84\n",
      "\tmedia: autoselect <full-duplex>\n",
      "\tstatus: inactive\n",
      "bridge0: flags=8863<UP,BROADCAST,SMART,RUNNING,SIMPLEX,MULTICAST> mtu 1500\n",
      "\toptions=63<RXCSUM,TXCSUM,TSO4,TSO6>\n",
      "\tether 36:e7:7c:85:c3:80\n",
      "\tConfiguration:\n",
      "\t\tid 0:0:0:0:0:0 priority 0 hellotime 0 fwddelay 0\n",
      "\t\tmaxage 0 holdcnt 0 proto stp maxaddr 100 timeout 1200\n",
      "\t\troot id 0:0:0:0:0:0 priority 0 ifcost 0 port 0\n",
      "\t\tipfilter disabled flags 0x0\n",
      "\tmember: en1 flags=3<LEARNING,DISCOVER>\n",
      "\t        ifmaxaddr 0 port 8 priority 0 path cost 0\n",
      "\tmember: en2 flags=3<LEARNING,DISCOVER>\n",
      "\t        ifmaxaddr 0 port 9 priority 0 path cost 0\n",
      "\tnd6 options=201<PERFORMNUD,DAD>\n",
      "\tmedia: <unknown type>\n",
      "\tstatus: inactive\n",
      "ap1: flags=8863<UP,BROADCAST,SMART,RUNNING,SIMPLEX,MULTICAST> mtu 1500\n",
      "\toptions=6460<TSO4,TSO6,CHANNEL_IO,PARTIAL_CSUM,ZEROINVERT_CSUM>\n",
      "\tether 5a:7e:b1:f2:60:f6\n",
      "\tnd6 options=201<PERFORMNUD,DAD>\n",
      "\tmedia: autoselect (none)\n",
      "\tstatus: inactive\n",
      "en0: flags=8863<UP,BROADCAST,SMART,RUNNING,SIMPLEX,MULTICAST> mtu 1500\n",
      "\toptions=6460<TSO4,TSO6,CHANNEL_IO,PARTIAL_CSUM,ZEROINVERT_CSUM>\n",
      "\tether 9e:80:cb:3b:d4:b1\n",
      "\tinet6 fe80::18c8:7b1e:ea17:75c8%en0 prefixlen 64 secured scopeid 0xb \n",
      "\tinet 10.7.73.214 netmask 0xffffff00 broadcast 10.7.73.255\n",
      "\tnd6 options=201<PERFORMNUD,DAD>\n",
      "\tmedia: autoselect\n",
      "\tstatus: active\n",
      "awdl0: flags=8863<UP,BROADCAST,SMART,RUNNING,SIMPLEX,MULTICAST> mtu 1500\n",
      "\toptions=6460<TSO4,TSO6,CHANNEL_IO,PARTIAL_CSUM,ZEROINVERT_CSUM>\n",
      "\tether 12:88:ff:eb:c9:49\n",
      "\tinet6 fe80::1088:ffff:feeb:c949%awdl0 prefixlen 64 scopeid 0xd \n",
      "\tnd6 options=201<PERFORMNUD,DAD>\n",
      "\tmedia: autoselect\n",
      "\tstatus: active\n",
      "llw0: flags=8863<UP,BROADCAST,SMART,RUNNING,SIMPLEX,MULTICAST> mtu 1500\n",
      "\toptions=400<CHANNEL_IO>\n",
      "\tether 12:88:ff:eb:c9:49\n",
      "\tinet6 fe80::1088:ffff:feeb:c949%llw0 prefixlen 64 scopeid 0xe \n",
      "\tnd6 options=201<PERFORMNUD,DAD>\n",
      "\tmedia: autoselect (none)\n",
      "utun0: flags=8051<UP,POINTOPOINT,RUNNING,MULTICAST> mtu 1500\n",
      "\tinet6 fe80::39ac:16ac:4822:3994%utun0 prefixlen 64 scopeid 0xf \n",
      "\tnd6 options=201<PERFORMNUD,DAD>\n",
      "utun1: flags=8051<UP,POINTOPOINT,RUNNING,MULTICAST> mtu 1380\n",
      "\tinet6 fe80::fd00:dc75:b40e:8154%utun1 prefixlen 64 scopeid 0x10 \n",
      "\tnd6 options=201<PERFORMNUD,DAD>\n",
      "utun2: flags=8051<UP,POINTOPOINT,RUNNING,MULTICAST> mtu 2000\n",
      "\tinet6 fe80::7284:fc51:14cf:3aa%utun2 prefixlen 64 scopeid 0x11 \n",
      "\tnd6 options=201<PERFORMNUD,DAD>\n",
      "utun3: flags=8051<UP,POINTOPOINT,RUNNING,MULTICAST> mtu 1000\n",
      "\tinet6 fe80::ce81:b1c:bd2c:69e%utun3 prefixlen 64 scopeid 0x12 \n",
      "\tnd6 options=201<PERFORMNUD,DAD>\n",
      "utun4: flags=8051<UP,POINTOPOINT,RUNNING,MULTICAST> mtu 1380\n",
      "\tinet6 fe80::b369:a982:236c:1f9e%utun4 prefixlen 64 scopeid 0x13 \n",
      "\tnd6 options=201<PERFORMNUD,DAD>\n",
      "utun5: flags=8051<UP,POINTOPOINT,RUNNING,MULTICAST> mtu 1380\n",
      "\tinet6 fe80::1b6b:41ca:5ab2:daa4%utun5 prefixlen 64 scopeid 0x14 \n",
      "\tnd6 options=201<PERFORMNUD,DAD>\n",
      "utun6: flags=8051<UP,POINTOPOINT,RUNNING,MULTICAST> mtu 1380\n",
      "\tinet6 fe80::d75d:ab4d:3244:e4f5%utun6 prefixlen 64 scopeid 0x15 \n",
      "\tnd6 options=201<PERFORMNUD,DAD>\n",
      "utun7: flags=8051<UP,POINTOPOINT,RUNNING,MULTICAST> mtu 1380\n",
      "\tinet6 fe80::3c11:3a43:b4bb:1a3d%utun7 prefixlen 64 scopeid 0x16 \n",
      "\tnd6 options=201<PERFORMNUD,DAD>\n"
     ]
    },
    {
     "data": {
      "text/plain": [
       "0"
      ]
     },
     "execution_count": 78,
     "metadata": {},
     "output_type": "execute_result"
    }
   ],
   "source": [
    "# Run a command in the system's shell\n",
    "c ='ifconfig'\n",
    "os.system(c)"
   ]
  }
 ],
 "metadata": {
  "kernelspec": {
   "display_name": "Python 3",
   "language": "python",
   "name": "python3"
  },
  "language_info": {
   "codemirror_mode": {
    "name": "ipython",
    "version": 3
   },
   "file_extension": ".py",
   "mimetype": "text/x-python",
   "name": "python",
   "nbconvert_exporter": "python",
   "pygments_lexer": "ipython3",
   "version": "3.13.0"
  }
 },
 "nbformat": 4,
 "nbformat_minor": 2
}
