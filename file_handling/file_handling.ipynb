{
 "cells": [
  {
   "cell_type": "markdown",
   "metadata": {},
   "source": [
    "# This is the file handling program"
   ]
  },
  {
   "cell_type": "code",
   "execution_count": null,
   "metadata": {},
   "outputs": [],
   "source": [
    "# Open a file\n",
    "f = open('hack.txt')"
   ]
  },
  {
   "cell_type": "code",
   "execution_count": 3,
   "metadata": {},
   "outputs": [
    {
     "name": "stdout",
     "output_type": "stream",
     "text": [
      "The name of the file read is: hack.txt\n",
      "The file opened in 'r' mode\n"
     ]
    }
   ],
   "source": [
    "# File attributes\n",
    "print(f\"The name of the file read is: {f.name}\")\n",
    "print(f\"The file opened in '{f.mode}' mode\")"
   ]
  },
  {
   "cell_type": "markdown",
   "metadata": {},
   "source": [
    "Type of object"
   ]
  },
  {
   "cell_type": "code",
   "execution_count": null,
   "metadata": {},
   "outputs": [
    {
     "name": "stdout",
     "output_type": "stream",
     "text": [
      "<class '_io.TextIOWrapper'>\n"
     ]
    }
   ],
   "source": [
    "print(type(f)) # for the text file"
   ]
  },
  {
   "cell_type": "code",
   "execution_count": 5,
   "metadata": {},
   "outputs": [],
   "source": [
    "# Read a file\n",
    "str = f.read()"
   ]
  },
  {
   "cell_type": "code",
   "execution_count": null,
   "metadata": {},
   "outputs": [
    {
     "name": "stdout",
     "output_type": "stream",
     "text": [
      "This is the python file, where we are performing the file handling\n",
      "This is to know the technique of the python file handling\n",
      "and the content which will display from the above\n",
      "The operation we will work with is read(), write() in file\n",
      "The file should content multiple lines of code or texts\n",
      "In html there is <lorem> which will generate auto text in the website !! <class 'str'>\n"
     ]
    }
   ],
   "source": [
    "# Type of object\n",
    "print(str, type(str)) # And display the contents"
   ]
  },
  {
   "cell_type": "code",
   "execution_count": 9,
   "metadata": {},
   "outputs": [],
   "source": [
    "# to close the file we will use\n",
    "f.close()"
   ]
  },
  {
   "cell_type": "code",
   "execution_count": 10,
   "metadata": {},
   "outputs": [
    {
     "name": "stdout",
     "output_type": "stream",
     "text": [
      "<_io.TextIOWrapper name='hack.txt' mode='r' encoding='utf-8'>\n"
     ]
    }
   ],
   "source": [
    "print(f)"
   ]
  },
  {
   "cell_type": "code",
   "execution_count": 12,
   "metadata": {},
   "outputs": [],
   "source": [
    "# str = f.read() # Giving an error"
   ]
  },
  {
   "cell_type": "code",
   "execution_count": 14,
   "metadata": {},
   "outputs": [
    {
     "name": "stdout",
     "output_type": "stream",
     "text": [
      "The file is closed? True\n"
     ]
    }
   ],
   "source": [
    "print(f\"The file is closed? {f.closed}\")"
   ]
  },
  {
   "cell_type": "markdown",
   "metadata": {},
   "source": [
    "Read the line of the file"
   ]
  },
  {
   "cell_type": "code",
   "execution_count": 15,
   "metadata": {},
   "outputs": [],
   "source": [
    "f = open('hack.txt')"
   ]
  },
  {
   "cell_type": "code",
   "execution_count": 33,
   "metadata": {},
   "outputs": [
    {
     "name": "stdout",
     "output_type": "stream",
     "text": [
      "hon file h\n"
     ]
    }
   ],
   "source": [
    "str = f.readline(10) # Everytime its reading the 10 character from the file\n",
    "print(str) # Only read one line at a time"
   ]
  },
  {
   "cell_type": "code",
   "execution_count": null,
   "metadata": {},
   "outputs": [
    {
     "name": "stdout",
     "output_type": "stream",
     "text": [
      "h o n   f i l e   h "
     ]
    }
   ],
   "source": [
    "# for i in str:\n",
    "#     print(i, end = \" \")"
   ]
  },
  {
   "cell_type": "code",
   "execution_count": 35,
   "metadata": {},
   "outputs": [],
   "source": [
    "f.close()"
   ]
  },
  {
   "cell_type": "markdown",
   "metadata": {},
   "source": [
    "Read multiple lines of the file"
   ]
  },
  {
   "cell_type": "code",
   "execution_count": 43,
   "metadata": {},
   "outputs": [],
   "source": [
    "f = open('hack.txt')"
   ]
  },
  {
   "cell_type": "code",
   "execution_count": 42,
   "metadata": {},
   "outputs": [
    {
     "name": "stdout",
     "output_type": "stream",
     "text": [
      "['This is the python file, where we are performing the file handling\\n', 'This is to know the technique of the python file handling\\n', 'and the content which will display from the above\\n', 'The operation we will work with is read(), write() in file\\n', 'The file should content multiple lines of code or texts\\n', 'In html there is <lorem> which will generate auto text in the website !!']\n"
     ]
    }
   ],
   "source": [
    "str = f.readlines(-1)\n",
    "print(str)"
   ]
  },
  {
   "cell_type": "code",
   "execution_count": 46,
   "metadata": {},
   "outputs": [
    {
     "name": "stdout",
     "output_type": "stream",
     "text": [
      "['and the content which will display from the above\\n']\n"
     ]
    }
   ],
   "source": [
    "str = f.readlines(15); print(str)"
   ]
  },
  {
   "cell_type": "code",
   "execution_count": 47,
   "metadata": {},
   "outputs": [],
   "source": [
    "f.close()"
   ]
  },
  {
   "cell_type": "markdown",
   "metadata": {},
   "source": [
    "Write to a file"
   ]
  },
  {
   "cell_type": "code",
   "execution_count": 48,
   "metadata": {},
   "outputs": [
    {
     "name": "stdout",
     "output_type": "stream",
     "text": [
      "46\n"
     ]
    }
   ],
   "source": [
    "with open('whack.txt', 'w') as f:\n",
    "    text=f.write(\"Hello, this is from the writing system call ! \")\n",
    "    print(text)"
   ]
  },
  {
   "cell_type": "code",
   "execution_count": 49,
   "metadata": {},
   "outputs": [],
   "source": [
    "f.close()"
   ]
  },
  {
   "cell_type": "code",
   "execution_count": 51,
   "metadata": {},
   "outputs": [
    {
     "name": "stdout",
     "output_type": "stream",
     "text": [
      "Hello, this is from the writing system call ! \n"
     ]
    }
   ],
   "source": [
    "with open('whack.txt') as f: # with is use for executing in this indented block only\n",
    "    str = f.read()\n",
    "    print(str)\n",
    "    f.close()"
   ]
  },
  {
   "cell_type": "markdown",
   "metadata": {},
   "source": [
    "Write multiple lines into a file"
   ]
  },
  {
   "cell_type": "code",
   "execution_count": 52,
   "metadata": {},
   "outputs": [],
   "source": [
    "lines = ['First line', 'Second line', 'Third line']\n",
    "formattedlines = ['First line\\n', 'Second line\\n', 'Third line\\n']"
   ]
  },
  {
   "cell_type": "code",
   "execution_count": 53,
   "metadata": {},
   "outputs": [
    {
     "name": "stdout",
     "output_type": "stream",
     "text": [
      "None\n"
     ]
    }
   ],
   "source": [
    "with open('wlhack.txt', 'w') as f:\n",
    "    w=f.writelines(lines)\n",
    "    print(w)\n",
    "    f.close()"
   ]
  },
  {
   "cell_type": "code",
   "execution_count": 54,
   "metadata": {},
   "outputs": [
    {
     "name": "stdout",
     "output_type": "stream",
     "text": [
      "None\n"
     ]
    }
   ],
   "source": [
    "with open('wlhack1.txt', 'w') as f1:\n",
    "    w=f1.writelines(lines)\n",
    "    print(w)\n",
    "    f1.close()"
   ]
  },
  {
   "cell_type": "code",
   "execution_count": 55,
   "metadata": {},
   "outputs": [
    {
     "name": "stdout",
     "output_type": "stream",
     "text": [
      "First lineSecond lineThird line\n"
     ]
    }
   ],
   "source": [
    "with open('wlhack1.txt') as f:\n",
    "    str = f.read()\n",
    "    print(str)\n",
    "    f1.close()"
   ]
  },
  {
   "cell_type": "code",
   "execution_count": 57,
   "metadata": {},
   "outputs": [],
   "source": [
    "# Problem statements\n",
    "# Create a file that content multiple lines , process the file for the following operations, find the number of words, that have even length\n",
    "# Find the number of words that have more than 2 vowels\n",
    "# Third -> Find the number of words that start with a capital letter\n",
    "# Fourth -> append all the details back into the files"
   ]
  },
  {
   "cell_type": "code",
   "execution_count": 58,
   "metadata": {},
   "outputs": [],
   "source": [
    "# Doing the operations\n",
    "f = open(\"demo.txt\")"
   ]
  },
  {
   "cell_type": "code",
   "execution_count": 59,
   "metadata": {},
   "outputs": [
    {
     "name": "stdout",
     "output_type": "stream",
     "text": [
      "This is demo.txt which content multiple lines\n",
      "Here are the implementation of the following factors\n",
      "This is the file handeling part in python\n",
      "\n",
      "\n",
      "And we have to perform all the operations from the file\n"
     ]
    }
   ],
   "source": [
    "str = f.read(); print(str)"
   ]
  },
  {
   "cell_type": "code",
   "execution_count": 88,
   "metadata": {},
   "outputs": [
    {
     "name": "stdout",
     "output_type": "stream",
     "text": [
      "This is demo.txt which content multiple lines Here are the implementation of the following factors This is the file handeling part in python And we have to perform all the operations from the file "
     ]
    }
   ],
   "source": [
    "for i in str.split():\n",
    "    print(i, end=\" \")"
   ]
  },
  {
   "cell_type": "code",
   "execution_count": 89,
   "metadata": {},
   "outputs": [],
   "source": [
    "words = [word.strip('.,!?()') for line in lines for word in line.split()]"
   ]
  },
  {
   "cell_type": "code",
   "execution_count": 90,
   "metadata": {},
   "outputs": [
    {
     "name": "stdout",
     "output_type": "stream",
     "text": [
      "['First', 'line', 'Second', 'line', 'Third', 'line']\n"
     ]
    }
   ],
   "source": [
    "print(words)"
   ]
  }
 ],
 "metadata": {
  "kernelspec": {
   "display_name": "Python 3",
   "language": "python",
   "name": "python3"
  },
  "language_info": {
   "codemirror_mode": {
    "name": "ipython",
    "version": 3
   },
   "file_extension": ".py",
   "mimetype": "text/x-python",
   "name": "python",
   "nbconvert_exporter": "python",
   "pygments_lexer": "ipython3",
   "version": "3.13.0"
  }
 },
 "nbformat": 4,
 "nbformat_minor": 2
}
