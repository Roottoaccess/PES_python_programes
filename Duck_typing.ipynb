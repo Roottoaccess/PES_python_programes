{
 "cells": [
  {
   "cell_type": "markdown",
   "metadata": {},
   "source": [
    "# Duck Typing is a term commonly related to dynamically typed programming languages and polymorphism"
   ]
  },
  {
   "cell_type": "code",
   "execution_count": 1,
   "metadata": {},
   "outputs": [],
   "source": [
    "class Duck:\n",
    "    def quack(self):\n",
    "        print(\"I am a duck and I quack\")\n",
    "class Goose:\n",
    "    def quack(self):\n",
    "        print(\"I am a goose and I quack\")\n",
    "class Cat:\n",
    "    def meow(self):\n",
    "        print(\"I am a Cat and I meow\")"
   ]
  },
  {
   "cell_type": "code",
   "execution_count": 2,
   "metadata": {},
   "outputs": [],
   "source": [
    "def quack(animal):\n",
    "    animal.quack()"
   ]
  },
  {
   "cell_type": "code",
   "execution_count": 3,
   "metadata": {},
   "outputs": [
    {
     "name": "stdout",
     "output_type": "stream",
     "text": [
      "I am a duck and I quack\n"
     ]
    }
   ],
   "source": [
    "quack(Duck())"
   ]
  },
  {
   "cell_type": "code",
   "execution_count": 4,
   "metadata": {},
   "outputs": [
    {
     "name": "stdout",
     "output_type": "stream",
     "text": [
      "I am a goose and I quack\n"
     ]
    }
   ],
   "source": [
    "quack(Goose())"
   ]
  },
  {
   "cell_type": "markdown",
   "metadata": {},
   "source": [
    "# Encapsulation"
   ]
  },
  {
   "cell_type": "code",
   "execution_count": 14,
   "metadata": {},
   "outputs": [],
   "source": [
    "class Student:\n",
    "    def __init__(self, name, rank, marks):\n",
    "        self.name = name\n",
    "        self.rank = rank\n",
    "        self.marks = marks\n",
    "    def demofunc(self):\n",
    "        print(f\"I am {self.name}\")\n",
    "        print(f\"I am ranked {self.rank}\")"
   ]
  },
  {
   "cell_type": "code",
   "execution_count": 15,
   "metadata": {},
   "outputs": [],
   "source": [
    "s1 = Student('AAA', 1, 100)\n",
    "s2 = Student('BBB', 2, 89)"
   ]
  },
  {
   "cell_type": "code",
   "execution_count": 16,
   "metadata": {},
   "outputs": [
    {
     "name": "stdout",
     "output_type": "stream",
     "text": [
      "I am AAA\n",
      "I am ranked 1\n"
     ]
    }
   ],
   "source": [
    "s1.demofunc()"
   ]
  },
  {
   "cell_type": "code",
   "execution_count": 19,
   "metadata": {},
   "outputs": [],
   "source": [
    "def demo_func(self): # Accessing outside the class but its not giving any error\n",
    "        print(f\"I am {self.name}\")\n",
    "        print(f\"I am ranked {self.rank}\")"
   ]
  },
  {
   "cell_type": "code",
   "execution_count": 21,
   "metadata": {},
   "outputs": [],
   "source": [
    "# s1.demo_func()"
   ]
  },
  {
   "cell_type": "markdown",
   "metadata": {},
   "source": [
    "Access Modifiers (public, private, protected)\n",
    "The private designation only allow a variable or method to be accessed from within its own class and object.\n",
    "\n",
    "self.name = name (Public)\n",
    "self._project = project (Protected)\n",
    "self.__salary = salary (Private)"
   ]
  },
  {
   "cell_type": "code",
   "execution_count": 23,
   "metadata": {},
   "outputs": [],
   "source": [
    "class Employee:\n",
    "    def __init__(self, name, salary):\n",
    "        self.name = name\n",
    "        self.salary = salary\n",
    "    def show(self):\n",
    "        print(f\"Name: {self.name}, Salary: {self.salary}\")"
   ]
  },
  {
   "cell_type": "code",
   "execution_count": 24,
   "metadata": {},
   "outputs": [],
   "source": [
    "e = Employee(\"Jack\", 12000)"
   ]
  },
  {
   "cell_type": "markdown",
   "metadata": {},
   "source": [
    "Accessing the data through the method of the class"
   ]
  },
  {
   "cell_type": "code",
   "execution_count": 25,
   "metadata": {},
   "outputs": [
    {
     "name": "stdout",
     "output_type": "stream",
     "text": [
      "Name: Jack, Salary: 12000\n"
     ]
    }
   ],
   "source": [
    "e.show()"
   ]
  },
  {
   "cell_type": "markdown",
   "metadata": {},
   "source": [
    "Accessing the data directly"
   ]
  },
  {
   "cell_type": "code",
   "execution_count": 26,
   "metadata": {},
   "outputs": [
    {
     "name": "stdout",
     "output_type": "stream",
     "text": [
      "Name: Jack, Salary: 12000\n"
     ]
    }
   ],
   "source": [
    "print(f\"Name: {e.name}, Salary: {e.salary}\")"
   ]
  },
  {
   "cell_type": "markdown",
   "metadata": {},
   "source": [
    "# Private Access Specifier"
   ]
  },
  {
   "cell_type": "code",
   "execution_count": null,
   "metadata": {},
   "outputs": [],
   "source": [
    "class Employee:\n",
    "    def __init__(self, name, salary):\n",
    "        self.name = name\n",
    "        self.__salary = salary\n",
    "    def show(self):\n",
    "        print(f\"Name: {self.name}, Salary: {self.__salary}\")"
   ]
  },
  {
   "cell_type": "code",
   "execution_count": 28,
   "metadata": {},
   "outputs": [],
   "source": [
    "e = Employee(\"Babita\", 88000)"
   ]
  },
  {
   "cell_type": "markdown",
   "metadata": {},
   "source": [
    "Access through method"
   ]
  },
  {
   "cell_type": "code",
   "execution_count": 29,
   "metadata": {},
   "outputs": [
    {
     "name": "stdout",
     "output_type": "stream",
     "text": [
      "Name: Babita, Salary: 88000\n"
     ]
    }
   ],
   "source": [
    "e.show()"
   ]
  },
  {
   "cell_type": "markdown",
   "metadata": {},
   "source": [
    "Accessing directly"
   ]
  },
  {
   "cell_type": "code",
   "execution_count": 30,
   "metadata": {},
   "outputs": [
    {
     "ename": "AttributeError",
     "evalue": "'Employee' object has no attribute '__salary'",
     "output_type": "error",
     "traceback": [
      "\u001b[0;31m---------------------------------------------------------------------------\u001b[0m",
      "\u001b[0;31mAttributeError\u001b[0m                            Traceback (most recent call last)",
      "Cell \u001b[0;32mIn[30], line 1\u001b[0m\n\u001b[0;32m----> 1\u001b[0m \u001b[38;5;28mprint\u001b[39m(\u001b[38;5;124mf\u001b[39m\u001b[38;5;124m\"\u001b[39m\u001b[38;5;124mName: \u001b[39m\u001b[38;5;132;01m{\u001b[39;00me\u001b[38;5;241m.\u001b[39mname\u001b[38;5;132;01m}\u001b[39;00m\u001b[38;5;124m, Salary: \u001b[39m\u001b[38;5;132;01m{\u001b[39;00m\u001b[43me\u001b[49m\u001b[38;5;241;43m.\u001b[39;49m\u001b[43m__salary\u001b[49m\u001b[38;5;132;01m}\u001b[39;00m\u001b[38;5;124m\"\u001b[39m)\n",
      "\u001b[0;31mAttributeError\u001b[0m: 'Employee' object has no attribute '__salary'"
     ]
    }
   ],
   "source": [
    "print(f\"Name: {e.name}, Salary: {e.__salary}\")"
   ]
  },
  {
   "cell_type": "code",
   "execution_count": 34,
   "metadata": {},
   "outputs": [],
   "source": [
    "class Employee:\n",
    "    def __init__(self, name, salary):\n",
    "        self.name = name\n",
    "        self.__salary = salary\n",
    "    def __show(self):\n",
    "        print(f\"Name: {self.name}, Salary: {self.__salary}\")\n",
    "    def Show(self):\n",
    "        self.__show()"
   ]
  },
  {
   "cell_type": "code",
   "execution_count": 35,
   "metadata": {},
   "outputs": [],
   "source": [
    "e = Employee('Cathy', 90000)"
   ]
  },
  {
   "cell_type": "code",
   "execution_count": 38,
   "metadata": {},
   "outputs": [],
   "source": [
    "# e.__show() # can not use it give error"
   ]
  },
  {
   "cell_type": "code",
   "execution_count": 37,
   "metadata": {},
   "outputs": [
    {
     "name": "stdout",
     "output_type": "stream",
     "text": [
      "Name: Cathy, Salary: 90000\n"
     ]
    }
   ],
   "source": [
    "e.Show()"
   ]
  },
  {
   "cell_type": "markdown",
   "metadata": {},
   "source": [
    "Protected Access Specifiers"
   ]
  },
  {
   "cell_type": "code",
   "execution_count": 39,
   "metadata": {},
   "outputs": [],
   "source": [
    "class Employee:\n",
    "    def __init__(self, name, salary):\n",
    "        self.name = name\n",
    "        self._salary = salary\n",
    "    def show(self):\n",
    "        print(f\"Name: {self .name}, salary: {self._salary}\")"
   ]
  },
  {
   "cell_type": "code",
   "execution_count": 40,
   "metadata": {},
   "outputs": [],
   "source": [
    "e = Employee('Dave', 8888)"
   ]
  },
  {
   "cell_type": "code",
   "execution_count": 41,
   "metadata": {},
   "outputs": [
    {
     "name": "stdout",
     "output_type": "stream",
     "text": [
      "Name: Dave, salary: 8888\n"
     ]
    }
   ],
   "source": [
    "e.show()"
   ]
  },
  {
   "cell_type": "code",
   "execution_count": 1,
   "metadata": {},
   "outputs": [],
   "source": [
    "class Employee:\n",
    "    def __init__(self, name, salary):\n",
    "        self.name = name\n",
    "        self._salary = salary\n",
    "    def _show(self):\n",
    "        print(f\"Name: {self .name}, salary: {self._salary}\")"
   ]
  },
  {
   "cell_type": "code",
   "execution_count": 2,
   "metadata": {},
   "outputs": [],
   "source": [
    "e=Employee('Edger', 82222)"
   ]
  },
  {
   "cell_type": "code",
   "execution_count": 3,
   "metadata": {},
   "outputs": [
    {
     "name": "stdout",
     "output_type": "stream",
     "text": [
      "Name: Edger, salary: 82222\n"
     ]
    }
   ],
   "source": [
    "e._show()"
   ]
  },
  {
   "cell_type": "code",
   "execution_count": 6,
   "metadata": {},
   "outputs": [
    {
     "name": "stdout",
     "output_type": "stream",
     "text": [
      "Employee Bob gets Rs.12000\n"
     ]
    }
   ],
   "source": [
    "e1 = Employee(\"Bob\", 12000)\n",
    "print(f'Employee {e1.name} gets Rs.{e1._salary}')"
   ]
  },
  {
   "cell_type": "code",
   "execution_count": 8,
   "metadata": {},
   "outputs": [],
   "source": [
    "# print(f'Employee {e.name} gets Rs. {e_Employee_salary}')"
   ]
  },
  {
   "cell_type": "markdown",
   "metadata": {},
   "source": [
    "Public Access Inheritance"
   ]
  },
  {
   "cell_type": "code",
   "execution_count": 11,
   "metadata": {},
   "outputs": [],
   "source": [
    "class Vehical:\n",
    "    def __init__(self, make, model, wheels):\n",
    "        self.make = make\n",
    "        self.model = model\n",
    "        self._wheels = wheels"
   ]
  },
  {
   "cell_type": "code",
   "execution_count": 18,
   "metadata": {},
   "outputs": [],
   "source": [
    "class Car (Vehical):\n",
    "    def __init__(self, make , model, wheels):\n",
    "        super().__init__(make, model, wheels)\n",
    "    def show(self):\n",
    "        print(f\"{self.model} of {self.make} has {self.wheels} wheels\")"
   ]
  },
  {
   "cell_type": "code",
   "execution_count": 19,
   "metadata": {},
   "outputs": [
    {
     "ename": "AttributeError",
     "evalue": "'Car' object has no attribute 'wheels'",
     "output_type": "error",
     "traceback": [
      "\u001b[0;31m---------------------------------------------------------------------------\u001b[0m",
      "\u001b[0;31mAttributeError\u001b[0m                            Traceback (most recent call last)",
      "Cell \u001b[0;32mIn[19], line 2\u001b[0m\n\u001b[1;32m      1\u001b[0m c \u001b[38;5;241m=\u001b[39m Car(\u001b[38;5;124m'\u001b[39m\u001b[38;5;124mBMW\u001b[39m\u001b[38;5;124m'\u001b[39m, \u001b[38;5;124m'\u001b[39m\u001b[38;5;124mM4 Sport\u001b[39m\u001b[38;5;124m'\u001b[39m, \u001b[38;5;124m'\u001b[39m\u001b[38;5;124m4 Wheels\u001b[39m\u001b[38;5;124m'\u001b[39m)\n\u001b[0;32m----> 2\u001b[0m \u001b[43mc\u001b[49m\u001b[38;5;241;43m.\u001b[39;49m\u001b[43mshow\u001b[49m\u001b[43m(\u001b[49m\u001b[43m)\u001b[49m\n",
      "Cell \u001b[0;32mIn[18], line 5\u001b[0m, in \u001b[0;36mCar.show\u001b[0;34m(self)\u001b[0m\n\u001b[1;32m      4\u001b[0m \u001b[38;5;28;01mdef\u001b[39;00m \u001b[38;5;21mshow\u001b[39m(\u001b[38;5;28mself\u001b[39m):\n\u001b[0;32m----> 5\u001b[0m     \u001b[38;5;28mprint\u001b[39m(\u001b[38;5;124mf\u001b[39m\u001b[38;5;124m\"\u001b[39m\u001b[38;5;132;01m{\u001b[39;00m\u001b[38;5;28mself\u001b[39m\u001b[38;5;241m.\u001b[39mmodel\u001b[38;5;132;01m}\u001b[39;00m\u001b[38;5;124m of \u001b[39m\u001b[38;5;132;01m{\u001b[39;00m\u001b[38;5;28mself\u001b[39m\u001b[38;5;241m.\u001b[39mmake\u001b[38;5;132;01m}\u001b[39;00m\u001b[38;5;124m has \u001b[39m\u001b[38;5;132;01m{\u001b[39;00m\u001b[38;5;28;43mself\u001b[39;49m\u001b[38;5;241;43m.\u001b[39;49m\u001b[43mwheels\u001b[49m\u001b[38;5;132;01m}\u001b[39;00m\u001b[38;5;124m wheels\u001b[39m\u001b[38;5;124m\"\u001b[39m)\n",
      "\u001b[0;31mAttributeError\u001b[0m: 'Car' object has no attribute 'wheels'"
     ]
    }
   ],
   "source": [
    "c = Car('BMW', 'M4 Sport', '4 Wheels')\n",
    "c.show()"
   ]
  },
  {
   "cell_type": "code",
   "execution_count": 20,
   "metadata": {},
   "outputs": [
    {
     "name": "stdout",
     "output_type": "stream",
     "text": [
      "M4 Sport of BMW has 4 Wheels wheels\n"
     ]
    }
   ],
   "source": [
    "class Vehical:\n",
    "    def __init__(self, make, model, wheels):\n",
    "        self.make = make\n",
    "        self.model = model\n",
    "        self._wheels = wheels  # Protected attribute\n",
    "\n",
    "class Car(Vehical):\n",
    "    def __init__(self, make, model, wheels):\n",
    "        super().__init__(make, model, wheels)\n",
    "\n",
    "    def show(self):\n",
    "        # Corrected to access the _wheels attribute\n",
    "        print(f\"{self.model} of {self.make} has {self._wheels} wheels\")\n",
    "\n",
    "# Usage\n",
    "c = Car('BMW', 'M4 Sport', '4 Wheels')\n",
    "c.show()\n"
   ]
  },
  {
   "cell_type": "markdown",
   "metadata": {},
   "source": [
    "# Own practise"
   ]
  },
  {
   "cell_type": "code",
   "execution_count": 21,
   "metadata": {},
   "outputs": [
    {
     "name": "stdout",
     "output_type": "stream",
     "text": [
      "My name is Robot and my age is 12 !\n"
     ]
    }
   ],
   "source": [
    "class Person:\n",
    "    def __init__(self, name , age):\n",
    "        self.name = name\n",
    "        self.age = age\n",
    "\n",
    "    def welcome(self):\n",
    "        print(f\"My name is {self.name} and my age is {self.age} !\")\n",
    "\n",
    "# Creating the method\n",
    "P = Person('Robot', 12)\n",
    "P.welcome()"
   ]
  },
  {
   "cell_type": "code",
   "execution_count": 25,
   "metadata": {},
   "outputs": [
    {
     "name": "stdout",
     "output_type": "stream",
     "text": [
      " Area : 24.6\n",
      "Perimeters: 26.6\n"
     ]
    }
   ],
   "source": [
    "class Rectangle:\n",
    "    def __init__(self, length, width):\n",
    "        self.length = length\n",
    "        self.width = width\n",
    "\n",
    "    def area(self):\n",
    "        print(f\" Area : {self.length * self.width}\")\n",
    "\n",
    "    def perimeter(self):\n",
    "        print(f\"Perimeters: {2 * self.length + self.width}\")\n",
    "\n",
    "# Creating the object\n",
    "rec = Rectangle(12.3, 2)\n",
    "rec.area(); rec.perimeter()"
   ]
  },
  {
   "cell_type": "markdown",
   "metadata": {},
   "source": [
    "# Again studing"
   ]
  },
  {
   "cell_type": "code",
   "execution_count": 23,
   "metadata": {},
   "outputs": [],
   "source": [
    "# class vehicle:\n",
    "#     def __init__(self, make, model, year):\n",
    "#         self.make = make\n",
    "#         self._model = model\n",
    "#         self.__year = year\n",
    "#     def get_make(self):\n",
    "#         print(f\"Make of the vehicle is {self.make}\")\n",
    "#     def set_make(self,make):\n",
    "        \n"
   ]
  },
  {
   "cell_type": "markdown",
   "metadata": {},
   "source": [
    "Create a derived class called Car and create an object of Car\n",
    "Use the getters and setters on the object of Car\n",
    "1. Getters and Setters are in Base Class\n",
    "2. Getters and Setters are in Derived Class"
   ]
  },
  {
   "cell_type": "markdown",
   "metadata": {},
   "source": [
    "# Constructor and Destructor"
   ]
  },
  {
   "cell_type": "markdown",
   "metadata": {},
   "source": [
    "Default Constructor"
   ]
  },
  {
   "cell_type": "code",
   "execution_count": 26,
   "metadata": {},
   "outputs": [],
   "source": [
    "class Codes:\n",
    "    def __init__(self):\n",
    "        self.value = \"Program in Python\"\n",
    "        print(\"The Object got constructed\")\n",
    "    def print_value(self):\n",
    "        print(f\"The value is {self.value}\")"
   ]
  },
  {
   "cell_type": "code",
   "execution_count": 27,
   "metadata": {},
   "outputs": [
    {
     "name": "stdout",
     "output_type": "stream",
     "text": [
      "The Object got constructed\n"
     ]
    }
   ],
   "source": [
    "c = Codes()"
   ]
  },
  {
   "cell_type": "code",
   "execution_count": 28,
   "metadata": {},
   "outputs": [
    {
     "name": "stdout",
     "output_type": "stream",
     "text": [
      "The value is Program in Python\n"
     ]
    }
   ],
   "source": [
    "c.print_value()"
   ]
  },
  {
   "cell_type": "markdown",
   "metadata": {},
   "source": [
    "Destructor"
   ]
  },
  {
   "cell_type": "code",
   "execution_count": 45,
   "metadata": {},
   "outputs": [],
   "source": [
    "class Example:\n",
    "    def __init__(self):\n",
    "        print(\"The object has been created\")\n",
    "    def __del__(self):\n",
    "        print(\"The object has been destroyed!\")\n",
    "    def delete(self):\n",
    "        print(\"The object has been destructed\")\n",
    "    def show(self):\n",
    "        print(\"the object is alive\")"
   ]
  },
  {
   "cell_type": "code",
   "execution_count": 46,
   "metadata": {},
   "outputs": [
    {
     "name": "stdout",
     "output_type": "stream",
     "text": [
      "The object has been created\n"
     ]
    }
   ],
   "source": [
    "e = Example()"
   ]
  },
  {
   "cell_type": "code",
   "execution_count": 47,
   "metadata": {},
   "outputs": [
    {
     "name": "stdout",
     "output_type": "stream",
     "text": [
      "the object is alive\n"
     ]
    }
   ],
   "source": [
    "e.show()"
   ]
  },
  {
   "cell_type": "code",
   "execution_count": 48,
   "metadata": {},
   "outputs": [
    {
     "name": "stdout",
     "output_type": "stream",
     "text": [
      "The object has been destroyed!\n"
     ]
    }
   ],
   "source": [
    "del e"
   ]
  },
  {
   "cell_type": "code",
   "execution_count": 49,
   "metadata": {},
   "outputs": [],
   "source": [
    "# e.show()"
   ]
  },
  {
   "cell_type": "code",
   "execution_count": null,
   "metadata": {},
   "outputs": [],
   "source": []
  }
 ],
 "metadata": {
  "kernelspec": {
   "display_name": "Python 3",
   "language": "python",
   "name": "python3"
  },
  "language_info": {
   "codemirror_mode": {
    "name": "ipython",
    "version": 3
   },
   "file_extension": ".py",
   "mimetype": "text/x-python",
   "name": "python",
   "nbconvert_exporter": "python",
   "pygments_lexer": "ipython3",
   "version": "3.13.0"
  }
 },
 "nbformat": 4,
 "nbformat_minor": 2
}
