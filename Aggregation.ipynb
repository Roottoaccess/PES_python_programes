{
 "cells": [
  {
   "cell_type": "markdown",
   "metadata": {},
   "source": [
    "# This is the Aggregation"
   ]
  },
  {
   "cell_type": "code",
   "execution_count": 1,
   "metadata": {},
   "outputs": [],
   "source": [
    "class University:\n",
    "    def __init__(self, name):\n",
    "        self.name = name\n",
    "        self.departments = []\n",
    "    def add_department(self, department):\n",
    "        self.departments.append(department)"
   ]
  },
  {
   "cell_type": "code",
   "execution_count": 2,
   "metadata": {},
   "outputs": [],
   "source": [
    "class Department:\n",
    "    def __init__(self, name):\n",
    "        self.name = name\n",
    "        self.professors = []\n",
    "    def add_professor(self, professor):\n",
    "        self.professors.append(professor)"
   ]
  },
  {
   "cell_type": "code",
   "execution_count": 3,
   "metadata": {},
   "outputs": [],
   "source": [
    "class professor:\n",
    "    def __init__(self, name):\n",
    "        self.name = name\n",
    "        self.courses = []\n",
    "\n",
    "    def add_course(self, course):\n",
    "        self.courses.append(course)"
   ]
  },
  {
   "cell_type": "code",
   "execution_count": 4,
   "metadata": {},
   "outputs": [],
   "source": [
    "class Course:\n",
    "    def __init__(self, name):\n",
    "        self.name = name"
   ]
  },
  {
   "cell_type": "code",
   "execution_count": 5,
   "metadata": {},
   "outputs": [],
   "source": [
    "uni = University(\"PES University\")"
   ]
  },
  {
   "cell_type": "markdown",
   "metadata": {},
   "source": [
    "# Create Departments"
   ]
  },
  {
   "cell_type": "code",
   "execution_count": 6,
   "metadata": {},
   "outputs": [],
   "source": [
    "d1 = Department(\"Computer Applications\")\n",
    "d2 = Department(\"Computer Science\")"
   ]
  },
  {
   "cell_type": "markdown",
   "metadata": {},
   "source": [
    "# Add Department to University"
   ]
  },
  {
   "cell_type": "code",
   "execution_count": 7,
   "metadata": {},
   "outputs": [],
   "source": [
    "uni.add_department(d1)\n",
    "uni.add_department(d2)"
   ]
  },
  {
   "cell_type": "markdown",
   "metadata": {},
   "source": [
    "# Create Professors"
   ]
  },
  {
   "cell_type": "code",
   "execution_count": 8,
   "metadata": {},
   "outputs": [],
   "source": [
    "p1 = professor(\"Prof, ABCD\")\n",
    "p2 = professor(\"Prof, XYVZ\")"
   ]
  },
  {
   "cell_type": "markdown",
   "metadata": {},
   "source": [
    "# Add Professors to Department"
   ]
  },
  {
   "cell_type": "code",
   "execution_count": 9,
   "metadata": {},
   "outputs": [],
   "source": [
    "d1.add_professor(p1)\n",
    "d2.add_professor(p2)"
   ]
  },
  {
   "cell_type": "markdown",
   "metadata": {},
   "source": [
    "# Create Courses"
   ]
  },
  {
   "cell_type": "code",
   "execution_count": 10,
   "metadata": {},
   "outputs": [],
   "source": [
    "m1 = Course(\"Machine Learning\")\n",
    "cv=Course(\"Computer Vision\")\n",
    "ds=Course(\"Data Structure\")\n",
    "at=Course(\"Finite Automata\")"
   ]
  },
  {
   "cell_type": "markdown",
   "metadata": {},
   "source": [
    "# Add courses to professors"
   ]
  },
  {
   "cell_type": "code",
   "execution_count": 11,
   "metadata": {},
   "outputs": [],
   "source": [
    "p1.add_course(m1)\n",
    "p2.add_course(m1)\n",
    "p1.add_course(cv)\n",
    "p1.add_course(ds)\n",
    "p1.add_course(ds)\n",
    "p1.add_course(at)"
   ]
  },
  {
   "cell_type": "markdown",
   "metadata": {},
   "source": [
    "# Print the Details"
   ]
  },
  {
   "cell_type": "code",
   "execution_count": 12,
   "metadata": {},
   "outputs": [
    {
     "name": "stdout",
     "output_type": "stream",
     "text": [
      "PES University\n"
     ]
    }
   ],
   "source": [
    "print(uni.name)"
   ]
  },
  {
   "cell_type": "markdown",
   "metadata": {},
   "source": [
    "# Print the department in the University"
   ]
  },
  {
   "cell_type": "code",
   "execution_count": 13,
   "metadata": {},
   "outputs": [
    {
     "name": "stdout",
     "output_type": "stream",
     "text": [
      "Computer Applications\n",
      "Computer Science\n"
     ]
    }
   ],
   "source": [
    "for d in uni.departments:\n",
    "    print(d.name)"
   ]
  },
  {
   "cell_type": "markdown",
   "metadata": {},
   "source": [
    "# Print the professors in each Department"
   ]
  },
  {
   "cell_type": "code",
   "execution_count": 14,
   "metadata": {},
   "outputs": [
    {
     "name": "stdout",
     "output_type": "stream",
     "text": [
      "professor in Computer Applications: \n",
      "Prof, ABCD\n",
      "professor in Computer Science: \n",
      "Prof, XYVZ\n"
     ]
    }
   ],
   "source": [
    "for d in uni.departments:\n",
    "    print(f\"professor in {d.name}: \")\n",
    "    for p in d.professors:\n",
    "        print(p.name)"
   ]
  },
  {
   "cell_type": "markdown",
   "metadata": {},
   "source": [
    "# Print the Courses taught by each Professors"
   ]
  },
  {
   "cell_type": "code",
   "execution_count": 15,
   "metadata": {},
   "outputs": [
    {
     "name": "stdout",
     "output_type": "stream",
     "text": [
      "Course taught by Prof, ABCD\n",
      "Machine Learning\n",
      "Computer Vision\n",
      "Data Structure\n",
      "Data Structure\n",
      "Finite Automata\n"
     ]
    }
   ],
   "source": [
    "for p in uni.departments[0].professors:\n",
    "    print(f\"Course taught by {p.name}\")\n",
    "    for c in p.courses:\n",
    "        print(c.name)"
   ]
  },
  {
   "cell_type": "code",
   "execution_count": 16,
   "metadata": {},
   "outputs": [
    {
     "name": "stdout",
     "output_type": "stream",
     "text": [
      "Course taught by Prof, XYVZ\n",
      "Machine Learning\n"
     ]
    }
   ],
   "source": [
    "for p in uni.departments[1].professors:\n",
    "    print(f\"Course taught by {p.name}\")\n",
    "    for c in p.courses:\n",
    "        print(c.name)"
   ]
  },
  {
   "cell_type": "code",
   "execution_count": 18,
   "metadata": {},
   "outputs": [
    {
     "name": "stdout",
     "output_type": "stream",
     "text": [
      "Course taught by Prof, ABCD\n",
      "Machine Learning\n",
      "Computer Vision\n",
      "Data Structure\n",
      "Data Structure\n",
      "Finite Automata\n",
      "Course taught by Prof, XYVZ\n",
      "Machine Learning\n"
     ]
    }
   ],
   "source": [
    "l = len(uni.departments)\n",
    "for i in range(0, l):\n",
    "    for p in uni.departments[i].professors:\n",
    "        print(f\"Course taught by {p.name}\")\n",
    "        for c in p.courses:\n",
    "            print(c.name)"
   ]
  },
  {
   "cell_type": "code",
   "execution_count": 19,
   "metadata": {},
   "outputs": [
    {
     "name": "stdout",
     "output_type": "stream",
     "text": [
      "In department Computer Applications\n"
     ]
    },
    {
     "ename": "AttributeError",
     "evalue": "'Department' object has no attribute 'professor'",
     "output_type": "error",
     "traceback": [
      "\u001b[0;31m---------------------------------------------------------------------------\u001b[0m",
      "\u001b[0;31mAttributeError\u001b[0m                            Traceback (most recent call last)",
      "Cell \u001b[0;32mIn[19], line 5\u001b[0m\n\u001b[1;32m      3\u001b[0m \u001b[38;5;28;01mfor\u001b[39;00m p \u001b[38;5;129;01min\u001b[39;00m uni\u001b[38;5;241m.\u001b[39mdepartments:\n\u001b[1;32m      4\u001b[0m     \u001b[38;5;28mprint\u001b[39m(\u001b[38;5;124mf\u001b[39m\u001b[38;5;124m\"\u001b[39m\u001b[38;5;124mIn department \u001b[39m\u001b[38;5;132;01m{\u001b[39;00mp\u001b[38;5;241m.\u001b[39mname\u001b[38;5;132;01m}\u001b[39;00m\u001b[38;5;124m\"\u001b[39m)\n\u001b[0;32m----> 5\u001b[0m     \u001b[38;5;28;01mfor\u001b[39;00m p \u001b[38;5;129;01min\u001b[39;00m \u001b[43muni\u001b[49m\u001b[38;5;241;43m.\u001b[39;49m\u001b[43mdepartments\u001b[49m\u001b[43m[\u001b[49m\u001b[43mi\u001b[49m\u001b[43m]\u001b[49m\u001b[38;5;241;43m.\u001b[39;49m\u001b[43mprofessor\u001b[49m:\n\u001b[1;32m      6\u001b[0m         \u001b[38;5;28mprint\u001b[39m(\u001b[38;5;124mf\u001b[39m\u001b[38;5;124m\"\u001b[39m\u001b[38;5;124mCourse taught by \u001b[39m\u001b[38;5;132;01m{\u001b[39;00mp\u001b[38;5;241m.\u001b[39mname\u001b[38;5;132;01m}\u001b[39;00m\u001b[38;5;124m:\u001b[39m\u001b[38;5;124m\"\u001b[39m)\n\u001b[1;32m      7\u001b[0m         \u001b[38;5;28;01mfor\u001b[39;00m c \u001b[38;5;129;01min\u001b[39;00m p\u001b[38;5;241m.\u001b[39mcourses:\n",
      "\u001b[0;31mAttributeError\u001b[0m: 'Department' object has no attribute 'professor'"
     ]
    }
   ],
   "source": [
    "l = len(uni.departments)\n",
    "i = 0\n",
    "for p in uni.departments:\n",
    "    print(f\"In department {p.name}\")\n",
    "    for p in uni.departments[i].professor:\n",
    "        print(f\"Course taught by {p.name}:\")\n",
    "        for c in p.courses:\n",
    "            print(c.name)\n",
    "i+=1"
   ]
  },
  {
   "cell_type": "markdown",
   "metadata": {},
   "source": [
    "The course class represent a course with attribute such as course code and name student class represent a student with attributes like student id and name department class represent a department in a university that aggregate course student and university it can aggregate multiple courses and multiple instances"
   ]
  },
  {
   "cell_type": "code",
   "execution_count": 23,
   "metadata": {},
   "outputs": [],
   "source": [
    "class Course:\n",
    "    def __init__(self, course_code, course_name):\n",
    "        self.course_code = course_code\n",
    "        self.course_name = course_name\n",
    "\n",
    "    def __str__(self):\n",
    "        return f\"{self.course_code} - {self.course_name}\""
   ]
  },
  {
   "cell_type": "code",
   "execution_count": 24,
   "metadata": {},
   "outputs": [],
   "source": [
    "class Student:\n",
    "    def __init__(self, student_id, student_name):\n",
    "        self.student_id = student_id\n",
    "        self.student_name = student_name\n",
    "\n",
    "    def __str__(self):\n",
    "        return f\"{self.student_id}, Name: {self.student_name}\""
   ]
  },
  {
   "cell_type": "code",
   "execution_count": 25,
   "metadata": {},
   "outputs": [],
   "source": [
    "class Department:\n",
    "    def __init__(self, department_name):\n",
    "        self.department_name = department_name\n",
    "        self.courses = []\n",
    "        self.students = []\n",
    "\n",
    "    def add_couse(self, course):\n",
    "        self.course.append(course)\n",
    "    def add_student(self, student):\n",
    "        self.student.append(student)\n",
    "\n",
    "    def display_info(self):\n",
    "        print(f\"Department: {self.department_name}\")\n",
    "        print(\"Courses Offered: \")\n",
    "        for course in self.courses:\n",
    "            print(f\" - {course}\")\n",
    "        print(\"Student Enrolled:\")\n",
    "        for student in self.students:\n",
    "            print(f\" - {student}\")"
   ]
  },
  {
   "cell_type": "code",
   "execution_count": null,
   "metadata": {},
   "outputs": [],
   "source": [
    "course1 = Course(\"\")"
   ]
  },
  {
   "cell_type": "markdown",
   "metadata": {},
   "source": [
    "# User has a folder which contains files each file contains paragraph contains character and each character contains word and each word contains letters.."
   ]
  },
  {
   "cell_type": "markdown",
   "metadata": {},
   "source": []
  },
  {
   "cell_type": "markdown",
   "metadata": {},
   "source": []
  }
 ],
 "metadata": {
  "kernelspec": {
   "display_name": "Python 3",
   "language": "python",
   "name": "python3"
  },
  "language_info": {
   "codemirror_mode": {
    "name": "ipython",
    "version": 3
   },
   "file_extension": ".py",
   "mimetype": "text/x-python",
   "name": "python",
   "nbconvert_exporter": "python",
   "pygments_lexer": "ipython3",
   "version": "3.13.0"
  }
 },
 "nbformat": 4,
 "nbformat_minor": 2
}
