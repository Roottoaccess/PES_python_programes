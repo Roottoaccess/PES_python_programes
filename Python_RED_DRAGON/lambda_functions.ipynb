{
 "cells": [
  {
   "cell_type": "markdown",
   "metadata": {},
   "source": [
    "Understanding about the lambda functions and the concepts then solving the questions !!"
   ]
  },
  {
   "cell_type": "code",
   "execution_count": 1,
   "metadata": {},
   "outputs": [
    {
     "name": "stdout",
     "output_type": "stream",
     "text": [
      "8\n"
     ]
    }
   ],
   "source": [
    "var = lambda x, y: x + y\n",
    "print(var(2, 6))"
   ]
  },
  {
   "cell_type": "code",
   "execution_count": 2,
   "metadata": {},
   "outputs": [
    {
     "data": {
      "text/plain": [
       "11"
      ]
     },
     "execution_count": 2,
     "metadata": {},
     "output_type": "execute_result"
    }
   ],
   "source": [
    "# Invoking the lambda function by this as well\n",
    "result = (lambda x, y: x + y)(5, 6)\n",
    "result"
   ]
  },
  {
   "cell_type": "code",
   "execution_count": 4,
   "metadata": {},
   "outputs": [
    {
     "name": "stdout",
     "output_type": "stream",
     "text": [
      "PYTHON RED DRAGON\n"
     ]
    }
   ],
   "source": [
    "# Converting a string to uppercase in lambda function\n",
    "stri = \"Python Red Dragon\"\n",
    "to_upper = (lambda x: x.upper())\n",
    "result = to_upper(stri)\n",
    "print(result)"
   ]
  },
  {
   "cell_type": "code",
   "execution_count": null,
   "metadata": {},
   "outputs": [
    {
     "name": "stdout",
     "output_type": "stream",
     "text": [
      "Length: 17\n"
     ]
    }
   ],
   "source": [
    "# Return the length of the string\n",
    "stri = \"Python Red Dragon\"\n",
    "ret_length = (lambda x: len(x))\n",
    "print(f\"Length: {ret_length(stri)}\")"
   ]
  },
  {
   "cell_type": "code",
   "execution_count": 26,
   "metadata": {},
   "outputs": [
    {
     "name": "stdout",
     "output_type": "stream",
     "text": [
      "[2, 4, 6, 8, 10]\n"
     ]
    }
   ],
   "source": [
    "# Filter Even numbers from a list !\n",
    "l = [1,2,3,4,5,6,7,8,9,10]\n",
    "ini = list(filter(lambda x : x % 2 == 0, l))\n",
    "print(ini)"
   ]
  },
  {
   "cell_type": "code",
   "execution_count": 1,
   "metadata": {},
   "outputs": [
    {
     "name": "stdout",
     "output_type": "stream",
     "text": [
      "[1, 9, 25, 49, 81]\n"
     ]
    }
   ],
   "source": [
    "# Squaring of odd numbers from the list\n",
    "l = [1,2,3,4,5,6,7,8,9,10]\n",
    "# ini = list(map(lambda x : x ** 2 if x % 2 != 0 else 0, l))\n",
    "# print(ini)\n",
    "# result = list(map(lambda x: x ** 2 if x % 2 != 0 else x, l))\n",
    "\n",
    "result = list(map(lambda x: x ** 2 , filter(lambda x: x % 2 != 0, l)))\n",
    "print(result)"
   ]
  },
  {
   "cell_type": "code",
   "execution_count": 2,
   "metadata": {},
   "outputs": [
    {
     "name": "stdout",
     "output_type": "stream",
     "text": [
      "[(3, 'a'), (1, 'b'), (2, 'c'), (4, 'd'), (5, 'e'), (6, 'f')]\n"
     ]
    }
   ],
   "source": [
    "# Sort a list of tupples by the second element in the every tupple\n",
    "t = [(1, \"b\"), (2, \"c\"), (3, \"a\"), (4, \"d\"), (5, \"e\"), (6, \"f\")]\n",
    "hack = sorted(t, key = lambda x: x[1]) # Key is an operator for sorted only !!\n",
    "print(hack)"
   ]
  },
  {
   "cell_type": "code",
   "execution_count": 3,
   "metadata": {},
   "outputs": [
    {
     "name": "stdout",
     "output_type": "stream",
     "text": [
      "olleH\n"
     ]
    }
   ],
   "source": [
    "# Reversing a string !!\n",
    "stri = input(\"What's the string? \")\n",
    "isi = (lambda x: x[::-1])\n",
    "print(isi(stri))"
   ]
  },
  {
   "cell_type": "code",
   "execution_count": null,
   "metadata": {},
   "outputs": [
    {
     "name": "stdout",
     "output_type": "stream",
     "text": [
      "maz is Not palindrom\n"
     ]
    }
   ],
   "source": [
    "# Finding palindrom number in a given string\n",
    "stri = input(\"Enter a string? \")\n",
    "isi = lambda x: \"Palindrom\" if x == x[::-1] else \"not palindrom\"\n",
    "print(f\"{stri} is =  {isi(stri)}\")"
   ]
  },
  {
   "cell_type": "code",
   "execution_count": 16,
   "metadata": {},
   "outputs": [
    {
     "name": "stdout",
     "output_type": "stream",
     "text": [
      "['Python', 'Helloooooooooo']\n"
     ]
    }
   ],
   "source": [
    "# Sort a list of string by there length !!\n",
    "ls = [\"Helloooooooooo\" , \"Python\"]\n",
    "\n",
    "res = sorted(ls, key = lambda x: len(x))\n",
    "print(res)\n"
   ]
  },
  {
   "cell_type": "code",
   "execution_count": 23,
   "metadata": {},
   "outputs": [
    {
     "name": "stdout",
     "output_type": "stream",
     "text": [
      "['grapes']\n"
     ]
    }
   ],
   "source": [
    "# Filter words from a list that started a specific letter !!\n",
    "l = [\"apple\", \"mango\", \"banana\", \"grapes\"]\n",
    "t = input(\"Enter the character? \")\n",
    "# res = list(map(lambda x: x[0] == t, filter(lambda x: x if True else False, l)))\n",
    "res = list(filter(lambda x: x[0] == t, l))\n",
    "print(res)"
   ]
  },
  {
   "cell_type": "code",
   "execution_count": null,
   "metadata": {},
   "outputs": [
    {
     "name": "stdout",
     "output_type": "stream",
     "text": [
      "['apple', 'grapes']\n"
     ]
    }
   ],
   "source": [
    "# length of x[0] / 2 -> mid\n",
    "# len(l)\n",
    "# len(l) // 2\n",
    "\n",
    "l = [\"apple\", \"mango\", \"banana\", \"grapes\"]\n",
    "t = input(\"Enter the cha? \")\n",
    "res = list(filter(lambda x: x[len(x) // 2] == t, l))\n",
    "print(res)"
   ]
  }
 ],
 "metadata": {
  "kernelspec": {
   "display_name": "Python 3",
   "language": "python",
   "name": "python3"
  },
  "language_info": {
   "codemirror_mode": {
    "name": "ipython",
    "version": 3
   },
   "file_extension": ".py",
   "mimetype": "text/x-python",
   "name": "python",
   "nbconvert_exporter": "python",
   "pygments_lexer": "ipython3",
   "version": "3.13.0"
  }
 },
 "nbformat": 4,
 "nbformat_minor": 2
}
