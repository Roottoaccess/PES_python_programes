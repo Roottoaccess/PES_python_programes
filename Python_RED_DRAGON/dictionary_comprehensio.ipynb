{
 "cells": [
  {
   "cell_type": "code",
   "execution_count": 1,
   "metadata": {},
   "outputs": [
    {
     "name": "stdout",
     "output_type": "stream",
     "text": [
      "{0: 0, 1: 2, 2: 4, 3: 6, 4: 8, 5: 10, 6: 12, 7: 14, 8: 16, 9: 18}\n"
     ]
    }
   ],
   "source": [
    "dict = {}\n",
    "\n",
    "for i in range(10):\n",
    "    dict[i] = i * 2\n",
    "print(dict)"
   ]
  },
  {
   "cell_type": "code",
   "execution_count": 2,
   "metadata": {},
   "outputs": [
    {
     "name": "stdout",
     "output_type": "stream",
     "text": [
      "{1: 2, 2: 4, 3: 6, 4: 8, 5: 10, 6: 12, 7: 14, 8: 16, 9: 18, 10: 20}\n"
     ]
    }
   ],
   "source": [
    "dict1 = {n:n*2 for n in range(1, 11)}\n",
    "print(dict1)"
   ]
  },
  {
   "cell_type": "code",
   "execution_count": 3,
   "metadata": {},
   "outputs": [
    {
     "name": "stdout",
     "output_type": "stream",
     "text": [
      "{1: 1, 2: 4, 3: 9, 4: 16, 5: 25}\n"
     ]
    }
   ],
   "source": [
    "# Create a dic�onary where keys are numbers from 1 to 5, and values are their squares\n",
    "d = {n: n ** 2 for n in range(1, 6)}; print(d)"
   ]
  },
  {
   "cell_type": "code",
   "execution_count": 4,
   "metadata": {},
   "outputs": [
    {
     "name": "stdout",
     "output_type": "stream",
     "text": [
      "{'This': 4, 'is': 2, 'a': 1, 'simple': 6, 'list': 4}\n"
     ]
    }
   ],
   "source": [
    "# Create a dic�onary that maps each word in a list to its length\n",
    "l = [\"This\",\"is\",\"a\",\"simple\",\"list\"]\n",
    "dd = {i:len(i) for i in l}; print(dd)"
   ]
  },
  {
   "cell_type": "code",
   "execution_count": 7,
   "metadata": {},
   "outputs": [
    {
     "name": "stdout",
     "output_type": "stream",
     "text": [
      "{'bangalore': 75.2, 'kolkata': 111.2, 'pune': 53.6, 'agra': 131.0}\n"
     ]
    }
   ],
   "source": [
    "# Given a dic�onary of ci�es and their temperatures in Celsius, convert the temperatures to Fahrenheit.\n",
    "d_c = {\"bangalore\": 24, \"kolkata\": 44, \"pune\": 12, \"agra\": 55}\n",
    "d_f = {i:(d_c[i] * 9 / 5)+ 32 for i in d_c}; print(d_f)"
   ]
  },
  {
   "cell_type": "code",
   "execution_count": 9,
   "metadata": {},
   "outputs": [
    {
     "name": "stdout",
     "output_type": "stream",
     "text": [
      "{2: True, 4: True, 5: False, 6: True, 7: False, 8: True, 10: True, 15: False, 18: True}\n"
     ]
    }
   ],
   "source": [
    "# Create a dic�onary from a list of numbers, where the keys are numbers and values indicate if they are even.\n",
    "l = [2, 4, 5, 6,7 ,8 ,10, 15, 18]\n",
    "\n",
    "d_d = {i: i % 2 == 0 for i in l}; print(d_d)"
   ]
  },
  {
   "cell_type": "code",
   "execution_count": 15,
   "metadata": {},
   "outputs": [
    {
     "name": "stdout",
     "output_type": "stream",
     "text": [
      "{'python': 2, 'for': 2, 'life': 1, 'and': 1, 'hacking': 1}\n"
     ]
    }
   ],
   "source": [
    "# Create a dictionary that counts the frequency of each word in a sentence\n",
    "dd = \"python for life and python for hacking\"\n",
    "dd_d = {i: dd.count(i) for i in dd.split()}; print(dd_d)"
   ]
  },
  {
   "cell_type": "code",
   "execution_count": null,
   "metadata": {},
   "outputs": [],
   "source": []
  }
 ],
 "metadata": {
  "kernelspec": {
   "display_name": "Python 3",
   "language": "python",
   "name": "python3"
  },
  "language_info": {
   "codemirror_mode": {
    "name": "ipython",
    "version": 3
   },
   "file_extension": ".py",
   "mimetype": "text/x-python",
   "name": "python",
   "nbconvert_exporter": "python",
   "pygments_lexer": "ipython3",
   "version": "3.13.0"
  }
 },
 "nbformat": 4,
 "nbformat_minor": 2
}
