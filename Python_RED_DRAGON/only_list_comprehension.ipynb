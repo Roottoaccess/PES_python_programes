{
 "cells": [
  {
   "cell_type": "markdown",
   "metadata": {},
   "source": [
    "List comprehension !!"
   ]
  },
  {
   "cell_type": "code",
   "execution_count": 1,
   "metadata": {},
   "outputs": [
    {
     "name": "stdout",
     "output_type": "stream",
     "text": [
      "['Lion', 'Tiger', 'Monkey', 'Elephant', 'Frog']\n"
     ]
    }
   ],
   "source": [
    "animals = [\"Lion\", \"tiger\", \"monkey\", \"elephant\", \"frog\"]\n",
    "filter_animals = []\n",
    "for i in animals:\n",
    "    filter_animals.append(i.title())\n",
    "\n",
    "print(filter_animals)"
   ]
  },
  {
   "cell_type": "code",
   "execution_count": 7,
   "metadata": {},
   "outputs": [],
   "source": [
    "title_animals = [i.title() for i in animals]"
   ]
  },
  {
   "cell_type": "code",
   "execution_count": 8,
   "metadata": {},
   "outputs": [
    {
     "data": {
      "text/plain": [
       "['Lion', 'Tiger', 'Monkey', 'Elephant', 'Frog']"
      ]
     },
     "execution_count": 8,
     "metadata": {},
     "output_type": "execute_result"
    }
   ],
   "source": [
    "title_animals"
   ]
  },
  {
   "cell_type": "code",
   "execution_count": 9,
   "metadata": {},
   "outputs": [
    {
     "name": "stdout",
     "output_type": "stream",
     "text": [
      "[1, 2, 3, 4, 5, 6, 7, 8, 9, 10]\n"
     ]
    }
   ],
   "source": [
    "# Write a list comprehension to create a list of squares of numbers from 1 to 10.\n",
    "os = [i for i in range(1, 11)]\n",
    "print(os) "
   ]
  },
  {
   "cell_type": "code",
   "execution_count": 10,
   "metadata": {},
   "outputs": [
    {
     "name": "stdout",
     "output_type": "stream",
     "text": [
      "['P', 'i', 'o', 'f', 'd', 'a']\n"
     ]
    }
   ],
   "source": [
    "# Use a list comprehension to extract the first character from each word in a list of strings.\n",
    "str_list = [\"Python\", \"is\", \"only\", \"for\", \"dark\", \"art\"]\n",
    "first_os = [s[0] for s in str_list]\n",
    "print(first_os)"
   ]
  },
  {
   "cell_type": "code",
   "execution_count": 12,
   "metadata": {},
   "outputs": [
    {
     "name": "stdout",
     "output_type": "stream",
     "text": [
      "[3, 6, 9, 12, 15, 18, 21, 24, 27, 30]\n"
     ]
    }
   ],
   "source": [
    "# Write a list comprehension to generate mul�ples of 3 up to 30.\n",
    "dir_os = [i for i in range(3, 31) if i % 3 == 0]\n",
    "print(dir_os)"
   ]
  },
  {
   "cell_type": "code",
   "execution_count": 13,
   "metadata": {},
   "outputs": [
    {
     "name": "stdout",
     "output_type": "stream",
     "text": [
      "['arts', 'and', 'apples']\n"
     ]
    }
   ],
   "source": [
    "# Use a list comprehension to filter words that start with the leter 'a' from a list of strings.\n",
    "dark_os = [\"Python\" , \"arts\", \"is\", \"only\", \"for\", \"snake\", \"hunters\", \"and\", \"apples\"]\n",
    "magic_os = [_ for _ in dark_os if _[0] == 'a']\n",
    "print(magic_os)"
   ]
  },
  {
   "cell_type": "code",
   "execution_count": 17,
   "metadata": {},
   "outputs": [
    {
     "name": "stdout",
     "output_type": "stream",
     "text": [
      "The new merge list is: [2, 4, 6, 8, 10]\n"
     ]
    }
   ],
   "source": [
    "# Write a list comprehension to find common elements between two lists.\n",
    "l1 = [1,2,3,4,5,6,7,8,9,10]\n",
    "l2 = [2,4,6,8,10,12,14,18]\n",
    "\n",
    "l1_l2 = [i and j for i in l1 for j in l2 if i == j]\n",
    "print(f\"The new merge list is: {l1_l2}\")"
   ]
  },
  {
   "cell_type": "code",
   "execution_count": 18,
   "metadata": {},
   "outputs": [
    {
     "name": "stdout",
     "output_type": "stream",
     "text": [
      "[6, 12, 18, 24, 30, 36, 42, 48, 54, 60, 66, 72, 78, 84, 90, 96]\n"
     ]
    }
   ],
   "source": [
    "# 29. Write a list comprehension to filter numbers divisible by both 2 and 3 in a given range.\n",
    "os_dark = [i for i in range(1, 101) if i % 2 == 0 and i % 3 == 0]\n",
    "print(os_dark)"
   ]
  },
  {
   "cell_type": "code",
   "execution_count": 19,
   "metadata": {},
   "outputs": [
    {
     "name": "stdout",
     "output_type": "stream",
     "text": [
      "Fahrenheit -> [71.6, 107.6, 190.4, 179.6]\n"
     ]
    }
   ],
   "source": [
    "# 30. Write a list comprehension to convert a list of temperatures from Celsius to Fahrenheit.\n",
    "cel_l = [22, 42, 88, 82]\n",
    "\n",
    "# Converting the list to fahrenheit\n",
    "fer_l = [(i * 9 / 5) + 32 for i in cel_l]\n",
    "print(f\"Fahrenheit -> {fer_l}\")"
   ]
  },
  {
   "cell_type": "code",
   "execution_count": 20,
   "metadata": {},
   "outputs": [
    {
     "name": "stdout",
     "output_type": "stream",
     "text": [
      "{'the': 2, 'python': 1, 'snake': 1, 'hacking': 1, 'is': 1, 'most': 1, 'darkest': 1, 'thing': 1, 'ever': 1}\n"
     ]
    }
   ],
   "source": [
    "# 31. Write a list comprehension to count the frequency of each word in a string.\n",
    "list_word = [\"the\",\"python\",\"snake\",\"hacking\",\"is\",\"the\",\"most\",\"darkest\",\"thing\",\"ever\"]\n",
    "dic = {}\n",
    "for i in list_word:\n",
    "    if i in dic:\n",
    "        dic[i] += 1\n",
    "    else:\n",
    "        dic[i] = 1\n",
    "print(dic)"
   ]
  },
  {
   "cell_type": "code",
   "execution_count": null,
   "metadata": {},
   "outputs": [],
   "source": [
    "# Converting this using list comprehension !!\n"
   ]
  },
  {
   "cell_type": "code",
   "execution_count": null,
   "metadata": {},
   "outputs": [],
   "source": [
    "# 32. Use a list comprehension to generate passwords of a given length by combining uppercase\n",
    "# leters, lowercase leters, and digits."
   ]
  }
 ],
 "metadata": {
  "kernelspec": {
   "display_name": "Python 3",
   "language": "python",
   "name": "python3"
  },
  "language_info": {
   "codemirror_mode": {
    "name": "ipython",
    "version": 3
   },
   "file_extension": ".py",
   "mimetype": "text/x-python",
   "name": "python",
   "nbconvert_exporter": "python",
   "pygments_lexer": "ipython3",
   "version": "3.13.0"
  }
 },
 "nbformat": 4,
 "nbformat_minor": 2
}
