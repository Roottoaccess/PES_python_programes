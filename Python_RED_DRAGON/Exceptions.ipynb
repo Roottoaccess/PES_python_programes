{
 "cells": [
  {
   "cell_type": "code",
   "execution_count": 3,
   "metadata": {},
   "outputs": [
    {
     "name": "stdout",
     "output_type": "stream",
     "text": [
      "Error, Denominator cannot br zero\n"
     ]
    }
   ],
   "source": [
    "numerator = int(input(\"Enter the number: \"))\n",
    "demoninator = int(input(\"Enter the number: \"))\n",
    "\n",
    "try:\n",
    "    result = numerator / demoninator\n",
    "    print(f\"The result is {result}\")\n",
    "except:\n",
    "    print(\"Error, Denominator cannot br zero\")"
   ]
  },
  {
   "cell_type": "markdown",
   "metadata": {},
   "source": [
    "Try Multiple except block"
   ]
  },
  {
   "cell_type": "code",
   "execution_count": null,
   "metadata": {},
   "outputs": [
    {
     "ename": "SyntaxError",
     "evalue": "default 'except:' must be last (2624279871.py, line 5)",
     "output_type": "error",
     "traceback": [
      "\u001b[0;36m  Cell \u001b[0;32mIn[5], line 5\u001b[0;36m\u001b[0m\n\u001b[0;31m    except:\u001b[0m\n\u001b[0m    ^\u001b[0m\n\u001b[0;31mSyntaxError\u001b[0m\u001b[0;31m:\u001b[0m default 'except:' must be last\n"
     ]
    }
   ],
   "source": [
    "try:\n",
    "    l =[0,1,2,3,4,5,6,7,8,9,10]\n",
    "    result = l[11] / l[0]\n",
    "    print(result)\n",
    "except:\n",
    "    print(\"Error, Denominator cannot be zero\")\n",
    "except IndexError:\n",
    "    print(\"Index out of bound\")"
   ]
  },
  {
   "cell_type": "markdown",
   "metadata": {},
   "source": [
    "Try, except with else block"
   ]
  },
  {
   "cell_type": "code",
   "execution_count": 10,
   "metadata": {},
   "outputs": [
    {
     "name": "stdout",
     "output_type": "stream",
     "text": [
      "0.5\n"
     ]
    }
   ],
   "source": [
    "num = int(input(\"Enter the number\"))\n",
    "try:\n",
    "    assert num % 2 == 0\n",
    "except:\n",
    "    print(\"Enter an even number\")\n",
    "else:\n",
    "    print(1 / num)\n",
    "# When the condition is satisfied then the else part will be executed !!"
   ]
  },
  {
   "cell_type": "code",
   "execution_count": 9,
   "metadata": {},
   "outputs": [
    {
     "ename": "AssertionError",
     "evalue": "",
     "output_type": "error",
     "traceback": [
      "\u001b[0;31m---------------------------------------------------------------------------\u001b[0m",
      "\u001b[0;31mAssertionError\u001b[0m                            Traceback (most recent call last)",
      "Cell \u001b[0;32mIn[9], line 2\u001b[0m\n\u001b[1;32m      1\u001b[0m num \u001b[38;5;241m=\u001b[39m \u001b[38;5;28mint\u001b[39m(\u001b[38;5;28minput\u001b[39m(\u001b[38;5;124m\"\u001b[39m\u001b[38;5;124mEnter the number\u001b[39m\u001b[38;5;124m\"\u001b[39m))\n\u001b[0;32m----> 2\u001b[0m \u001b[38;5;28;01massert\u001b[39;00m num \u001b[38;5;241m%\u001b[39m \u001b[38;5;241m2\u001b[39m \u001b[38;5;241m==\u001b[39m \u001b[38;5;241m0\u001b[39m\n\u001b[1;32m      3\u001b[0m \u001b[38;5;28mprint\u001b[39m(\u001b[38;5;241m1\u001b[39m \u001b[38;5;241m/\u001b[39m num)\n",
      "\u001b[0;31mAssertionError\u001b[0m: "
     ]
    }
   ],
   "source": [
    "num = int(input(\"Enter the number\"))\n",
    "assert num % 2 == 0\n",
    "print(1 / num)"
   ]
  },
  {
   "cell_type": "markdown",
   "metadata": {},
   "source": [
    "Try Except and Finally"
   ]
  },
  {
   "cell_type": "code",
   "execution_count": null,
   "metadata": {},
   "outputs": [
    {
     "name": "stdout",
     "output_type": "stream",
     "text": [
      "0.1\n"
     ]
    }
   ],
   "source": [
    "num = int(input(\"Enter the number\"))\n",
    "try:\n",
    "    assert num % 2 == 0\n",
    "except:\n",
    "    print(\"Enter an even number\")\n",
    "finally:\n",
    "    print(1 / num)\n",
    "# Odd number entered , showed the error but also the finnaly block executed"
   ]
  },
  {
   "cell_type": "code",
   "execution_count": 15,
   "metadata": {},
   "outputs": [
    {
     "name": "stdout",
     "output_type": "stream",
     "text": [
      "This is the else block !!\n",
      "This is the finnaly block !! 0.05555555555555555\n"
     ]
    }
   ],
   "source": [
    "# Trying with the else and finnaly together !!\n",
    "num = int(input(\"Enter the number\"))\n",
    "try:\n",
    "    assert num % 2 == 0\n",
    "except:\n",
    "    print(\"Enter an even number\")\n",
    "else:\n",
    "    print(\"This is the else block !!\")\n",
    "finally:\n",
    "    print(f\"This is the finnaly block !! {1 / num}\")"
   ]
  },
  {
   "cell_type": "markdown",
   "metadata": {},
   "source": [
    "# Tab Error"
   ]
  },
  {
   "cell_type": "code",
   "execution_count": null,
   "metadata": {},
   "outputs": [
    {
     "ename": "IndentationError",
     "evalue": "unexpected indent (1108524969.py, line 3)",
     "output_type": "error",
     "traceback": [
      "\u001b[0;36m  Cell \u001b[0;32mIn[18], line 3\u001b[0;36m\u001b[0m\n\u001b[0;31m    return 42\u001b[0m\n\u001b[0m    ^\u001b[0m\n\u001b[0;31mIndentationError\u001b[0m\u001b[0;31m:\u001b[0m unexpected indent\n"
     ]
    }
   ],
   "source": [
    "def func():\n",
    "    print(\"This function has a tab error\")\n",
    "        return 42\n",
    "try:\n",
    "    result = func()\n",
    "    print(f\"Result: {result}\")\n",
    "except TabError as e:\n",
    "    print(f\"Caught Tab Error: {e}\")\n",
    "except Exception as e:\n",
    "    print(f\"Caught unexpected error: {e}\")"
   ]
  },
  {
   "cell_type": "markdown",
   "metadata": {},
   "source": [
    "Not a directory Error"
   ]
  },
  {
   "cell_type": "code",
   "execution_count": 22,
   "metadata": {},
   "outputs": [
    {
     "name": "stdout",
     "output_type": "stream",
     "text": [
      "Caught file Not found Error: [Errno 2] No such file or directory: '/Users/biswarupdutt/Library/CloudStorage/OneDrive-MSFT/programming_PES/Python Programming/Python_RED_DRAGON'\n"
     ]
    }
   ],
   "source": [
    "import os\n",
    "try:\n",
    "    os.listdir('/Users/biswarupdutt/Library/CloudStorage/OneDrive-MSFT/programming_PES/Python Programming/Python_RED_DRAGON')\n",
    "except NotADirectoryError as e:\n",
    "    print(f\"Caught Not a Directory Error: {e}\")\n",
    "except FileNotFoundError as e:\n",
    "    print(f\"Caught file Not found Error: {e}\")"
   ]
  },
  {
   "cell_type": "markdown",
   "metadata": {},
   "source": [
    "# Non Implemented Error"
   ]
  },
  {
   "cell_type": "code",
   "execution_count": null,
   "metadata": {},
   "outputs": [
    {
     "name": "stdout",
     "output_type": "stream",
     "text": [
      "Error: Sub classes must implement this method\n"
     ]
    }
   ],
   "source": [
    "class Animal: # Defining the Parent class !!\n",
    "    def make_sound(self):\n",
    "        raise NotImplementedError(\"Sub classes must implement this method\")\n",
    "class Dog(Animal): # Defining the Dog Class and inherites the Animal class !!\n",
    "    pass # Only pass in the class without defining the method !!\n",
    "\n",
    "# Creating the object !!\n",
    "d = Dog()\n",
    "try:\n",
    "    d.make_sound()\n",
    "except NotImplementedError as e:\n",
    "    print(f\"Error: {e}\") # Error Caught !!\n"
   ]
  },
  {
   "cell_type": "markdown",
   "metadata": {},
   "source": [
    "# Raise an Error"
   ]
  },
  {
   "cell_type": "code",
   "execution_count": null,
   "metadata": {},
   "outputs": [
    {
     "name": "stdout",
     "output_type": "stream",
     "text": [
      "50.0 is out of range\n"
     ]
    }
   ],
   "source": [
    "try:\n",
    "    x, y = 100, 2\n",
    "    z = x / y\n",
    "    if z > 10: # I want to raise an error although there is no error, so we use {raise} !!\n",
    "        raise ValueError(z)\n",
    "except ValueError:\n",
    "    print(f\"{z} is out of range\")\n",
    "else:\n",
    "    print(f\"{z} is within range\")"
   ]
  },
  {
   "cell_type": "markdown",
   "metadata": {},
   "source": [
    "# Custom Use Define Exceptions "
   ]
  },
  {
   "cell_type": "code",
   "execution_count": 29,
   "metadata": {},
   "outputs": [
    {
     "name": "stdout",
     "output_type": "stream",
     "text": [
      "Exception occured: Invalid Age\n"
     ]
    }
   ],
   "source": [
    "class InvalidAgeException(Exception):\n",
    "    'Raise when the input value is less than 18'\n",
    "    pass\n",
    "try:\n",
    "    n = int(input(\"What's the age? \"))\n",
    "    if n < 18:\n",
    "        raise InvalidAgeException\n",
    "    else:\n",
    "        print(\"Eligible to vote\")\n",
    "except InvalidAgeException:\n",
    "    print(\"Exception occured: Invalid Age\")"
   ]
  },
  {
   "cell_type": "code",
   "execution_count": 30,
   "metadata": {},
   "outputs": [],
   "source": [
    "# Own Exception\n",
    "class SalaryNotInRange(Exception):\n",
    "    def __init__(self, salary, msg=\"Salary not in(30,000, 50,000) range\"):\n",
    "        self.salary = salary\n",
    "        self.msg = msg\n",
    "        super().__init__(msg)"
   ]
  },
  {
   "cell_type": "code",
   "execution_count": 34,
   "metadata": {},
   "outputs": [],
   "source": [
    "sal = int(input(\"enter the salary\"))\n",
    "if not 30000<sal<50000:\n",
    "    raise SalaryNotInRange(sal)"
   ]
  },
  {
   "cell_type": "code",
   "execution_count": 40,
   "metadata": {},
   "outputs": [
    {
     "name": "stdout",
     "output_type": "stream",
     "text": [
      "The value is currect !!\n",
      "Done !\n"
     ]
    }
   ],
   "source": [
    "# Generate value_to_small error and value_to_large error define a method called as validate value taken an input number and check wheather it is smaller than a min a value and larger than a max value, if so raise the correct exception\n",
    "\n",
    "class value_to_small(Exception):\n",
    "    \"Value too small !\"\n",
    "    pass\n",
    "class value_to_large(Exception):\n",
    "    \"value too large !\"\n",
    "    pass\n",
    "\n",
    "min = 5; max = 50\n",
    "val = int(input(\"Enter the value? \"))\n",
    "try:\n",
    "    if(val < min):\n",
    "        raise value_to_small\n",
    "    if(val > max):\n",
    "        raise value_to_large\n",
    "except value_to_small:\n",
    "    print(\"Exception: Value is too small !\")\n",
    "except value_to_large:\n",
    "    print(\"Exception: Value is too large !\")\n",
    "else:\n",
    "    print(\"The value is currect !!\")\n",
    "finally:\n",
    "    print(\"Done !\")"
   ]
  },
  {
   "cell_type": "code",
   "execution_count": 51,
   "metadata": {},
   "outputs": [
    {
     "name": "stdout",
     "output_type": "stream",
     "text": [
      "Error: Dividing by zero or less is not allowed!\n",
      "Done !\n"
     ]
    }
   ],
   "source": [
    "# Raise an Exception where it tells you cannot divide by zero\n",
    "# Define a function called as check age and if age is lesser than 18 raise an exception which tells the user must be 18 years or above , otherwise display the use age as the value\n",
    "\n",
    "class NotDivideByZero(Exception):\n",
    "    # \"Dividing by zero is not allowed or less than that!\"\n",
    "    pass\n",
    "try:\n",
    "    num1 = int(input(\"What's num1? \"))\n",
    "    num2 = int(input(\"What's num2? \"))\n",
    "    if num2 == 0 or num2 < 0:\n",
    "        raise NotDivideByZero(\"Dividing by zero or less is not allowed!\")\n",
    "    res = num1 / num2; print(f\"Result: {res}\")\n",
    "except NotDivideByZero as e:\n",
    "    print(f\"Error: {e}\")\n",
    "finally:\n",
    "    print(\"Done !\")"
   ]
  },
  {
   "cell_type": "code",
   "execution_count": null,
   "metadata": {},
   "outputs": [],
   "source": []
  }
 ],
 "metadata": {
  "kernelspec": {
   "display_name": "Python 3",
   "language": "python",
   "name": "python3"
  },
  "language_info": {
   "codemirror_mode": {
    "name": "ipython",
    "version": 3
   },
   "file_extension": ".py",
   "mimetype": "text/x-python",
   "name": "python",
   "nbconvert_exporter": "python",
   "pygments_lexer": "ipython3",
   "version": "3.13.0"
  }
 },
 "nbformat": 4,
 "nbformat_minor": 2
}
