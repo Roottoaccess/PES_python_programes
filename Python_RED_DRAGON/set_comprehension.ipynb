{
 "cells": [
  {
   "cell_type": "code",
   "execution_count": 6,
   "metadata": {},
   "outputs": [
    {
     "name": "stdout",
     "output_type": "stream",
     "text": [
      "{'i', 'e', ' ', 'u', 'r', 'n', 'b', 'g', 'a', 's', 'k', 'c', '!', 'P', 'd', 'q', 'h', 'y', 'o', 't'}\n"
     ]
    }
   ],
   "source": [
    "# Create a set of words from a sentence that are longer than 3 characters.\n",
    "\n",
    "word = \"Python is the best dark hacking technique !\"\n",
    "s_set = {i for i in word}\n",
    "print(s_set)"
   ]
  },
  {
   "cell_type": "code",
   "execution_count": null,
   "metadata": {},
   "outputs": [
    {
     "name": "stdout",
     "output_type": "stream",
     "text": [
      "{32, 72, 42, 82, 52, 22, 62}\n"
     ]
    }
   ],
   "source": [
    "# Creating a set from list\n",
    "l = [22,32,42,52,62,72,82]\n",
    "# Creating an empty set !!\n",
    "s = set()\n",
    "for i in l:\n",
    "    s.add(i) # Adding the elemnts to to set\n",
    "print(s) # Result displayed !"
   ]
  },
  {
   "cell_type": "code",
   "execution_count": 10,
   "metadata": {},
   "outputs": [
    {
     "name": "stdout",
     "output_type": "stream",
     "text": [
      "{32, 72, 42, 82, 52, 22, 62}\n"
     ]
    }
   ],
   "source": [
    "# doing the same thing using the set comprehension !!\n",
    "s_set = {i for i in l}; print(s_set)"
   ]
  },
  {
   "cell_type": "code",
   "execution_count": 13,
   "metadata": {},
   "outputs": [
    {
     "name": "stdout",
     "output_type": "stream",
     "text": [
      "{10816, 11449, 10404, 11236, 12100, 11881, 10000, 10609, 11025, 11664, 10201}\n"
     ]
    }
   ],
   "source": [
    "# Work with rage\n",
    "s = { i**2 for i in range(100 , 111) }\n",
    "print(s)"
   ]
  },
  {
   "cell_type": "code",
   "execution_count": 18,
   "metadata": {},
   "outputs": [
    {
     "name": "stdout",
     "output_type": "stream",
     "text": [
      "The sum of all the elements in the set:  180\n",
      "<class 'set'>\n"
     ]
    }
   ],
   "source": [
    "# Creating a set by adding all the element from 20 to 40 which is divisible by 4\n",
    "dark_set = {i for i in range(20, 41) if i % 4 == 0}\n",
    "print(\"The sum of all the elements in the set: \",sum(dark_set))\n",
    "print(type(dark_set))"
   ]
  },
  {
   "cell_type": "code",
   "execution_count": 22,
   "metadata": {},
   "outputs": [
    {
     "name": "stdout",
     "output_type": "stream",
     "text": [
      "{'D', 'P', 'L'}\n"
     ]
    }
   ],
   "source": [
    "# create a set from list called as names by adding the first character of each element \n",
    "names = [\"python\", \"dark\", \"programming\", \"leaning\", \"language\"]\n",
    "add_name = {i[0].upper() for i in names }\n",
    "print(add_name)"
   ]
  },
  {
   "cell_type": "code",
   "execution_count": 23,
   "metadata": {},
   "outputs": [
    {
     "name": "stdout",
     "output_type": "stream",
     "text": [
      "{'concepts', 'Python', 'dark', 'really'}\n"
     ]
    }
   ],
   "source": [
    "# Solving the first question\n",
    "# Create a set of words from a sentence that are longer than 3 characters.\n",
    "word = \"Python is really dark for the dark art concepts\"\n",
    "com_os = {i for i in word.split() if len(i) > 3}\n",
    "print(com_os)"
   ]
  },
  {
   "cell_type": "code",
   "execution_count": 24,
   "metadata": {},
   "outputs": [
    {
     "name": "stdout",
     "output_type": "stream",
     "text": [
      "{32, 1, 34, 44, 46, 48, 22, 120.52} "
     ]
    }
   ],
   "source": [
    "# From a list of numbers, create a set to remove duplicates.\n",
    "l = [1,34,44,46,48,22,22,32,34,120.520]\n",
    "set_ = {i for i in l}\n",
    "print(set_, end=\" \")"
   ]
  },
  {
   "cell_type": "code",
   "execution_count": 28,
   "metadata": {},
   "outputs": [
    {
     "name": "stdout",
     "output_type": "stream",
     "text": [
      "The factors of the number is: {32, 1, 2, 4, 8, 16}\n"
     ]
    }
   ],
   "source": [
    "# Create a set of factors of a given number.\n",
    "# num = int(input(\"What's is the number? \"))\n",
    "num = 32\n",
    "fact_set = {i for i in range(1, num + 1) if num % i == 0}\n",
    "print(f\"The factors of the number is: {fact_set}\")"
   ]
  },
  {
   "cell_type": "code",
   "execution_count": 30,
   "metadata": {},
   "outputs": [
    {
     "name": "stdout",
     "output_type": "stream",
     "text": [
      "The palindrom words are: {'racecar', 'mam'}\n"
     ]
    }
   ],
   "source": [
    "# Create a set of palindromic words from a list.\n",
    "l = [\"mam\", \"said\", \"to\" , \"learn\", \"python\", \"racecar\"]\n",
    "\n",
    "se_ = {i for i in l if i[::-1] == i}\n",
    "print(f\"The palindrom words are: {se_}\")"
   ]
  },
  {
   "cell_type": "code",
   "execution_count": 33,
   "metadata": {},
   "outputs": [],
   "source": [
    "# Create a set of unique sums from all possible pairs of numbers in a list.\n",
    "# <?>"
   ]
  },
  {
   "cell_type": "code",
   "execution_count": 32,
   "metadata": {},
   "outputs": [
    {
     "name": "stdout",
     "output_type": "stream",
     "text": [
      "Common character from the two string -> {'r', 'i', 'n', 'e', 'h', ' ', 'T', 'g', 't', 's'}\n"
     ]
    }
   ],
   "source": [
    "# Given two strings, create a set of characters that are common to both.\n",
    "s1 = \"This is the first string\"\n",
    "s2 = \"This is the second string\"\n",
    "\n",
    "ses_ = {i and j for i in s1 for j in s2 if i == j}\n",
    "print(f\"Common character from the two string -> {ses_}\")"
   ]
  },
  {
   "cell_type": "code",
   "execution_count": null,
   "metadata": {},
   "outputs": [
    {
     "name": "stdout",
     "output_type": "stream",
     "text": [
      "{1, 2, 3, 4, 5}\n"
     ]
    }
   ],
   "source": [
    "# Create a set of prime numbers from 1 to n.\n",
    "n = 5\n",
    "sett = {i for i in range(1 , n + 1) if i % 1 == 0 and i % i == 0}\n",
    "print(sett)"
   ]
  },
  {
   "cell_type": "code",
   "execution_count": null,
   "metadata": {},
   "outputs": [],
   "source": []
  }
 ],
 "metadata": {
  "kernelspec": {
   "display_name": "Python 3",
   "language": "python",
   "name": "python3"
  },
  "language_info": {
   "codemirror_mode": {
    "name": "ipython",
    "version": 3
   },
   "file_extension": ".py",
   "mimetype": "text/x-python",
   "name": "python",
   "nbconvert_exporter": "python",
   "pygments_lexer": "ipython3",
   "version": "3.13.0"
  }
 },
 "nbformat": 4,
 "nbformat_minor": 2
}
