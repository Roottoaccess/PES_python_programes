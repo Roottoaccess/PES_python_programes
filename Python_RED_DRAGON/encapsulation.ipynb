{
 "cells": [
  {
   "cell_type": "markdown",
   "metadata": {},
   "source": [
    "# Learning about the Encapsulation technique !!"
   ]
  },
  {
   "cell_type": "code",
   "execution_count": 2,
   "metadata": {},
   "outputs": [
    {
     "name": "stdout",
     "output_type": "stream",
     "text": [
      "Person's name is Jeet and age is 24\n"
     ]
    }
   ],
   "source": [
    "# This is the encapsulation learning !!\n",
    "# Access modifier\n",
    "\n",
    "# Private\n",
    "class Person: ## Private method can and only be accessed within the class !!\n",
    "    # Constructor\n",
    "    def __init__(self, name, age):\n",
    "        self.__name = name\n",
    "        self.__age = age\n",
    "    # Calling the private variable\n",
    "    def display_info(self):\n",
    "        print(f\"Person's name is {self.__name} and age is {self.__age}\")\n",
    "\n",
    "# creating the object for the class\n",
    "obj = Person(\"Jeet\", 24); obj.display_info()\n",
    "\n",
    "# print(dir(Person))"
   ]
  },
  {
   "cell_type": "code",
   "execution_count": 3,
   "metadata": {},
   "outputs": [
    {
     "name": "stdout",
     "output_type": "stream",
     "text": [
      "Person's name is Hrithik and age is 50\n"
     ]
    }
   ],
   "source": [
    "# Protected method\n",
    "class Person:\n",
    "    def __init__(self, name , age):\n",
    "        self._name = name\n",
    "        self._age = age\n",
    "\n",
    "    def display_info(self):\n",
    "        print(f\"Person's name is {self._name} and age is {self._age}\")\n",
    "\n",
    "obj = Person(\"Hrithik\", 50); obj.display_info()"
   ]
  },
  {
   "cell_type": "code",
   "execution_count": 4,
   "metadata": {},
   "outputs": [
    {
     "name": "stdout",
     "output_type": "stream",
     "text": [
      "Person's name is hrx and age is 48\n"
     ]
    }
   ],
   "source": [
    "# Creaing a derived class from the parent class !\n",
    "class Student(Person):\n",
    "    def __init__(self, name, age):\n",
    "        super().__init__(name, age)\n",
    "\n",
    "    def details_info(self):\n",
    "        print(f\"Person's name is {self._name} and age is {self._age}\")\n",
    "\n",
    "obj = Student(\"hrx\", 48); obj.details_info()"
   ]
  },
  {
   "cell_type": "code",
   "execution_count": null,
   "metadata": {},
   "outputs": [],
   "source": []
  }
 ],
 "metadata": {
  "kernelspec": {
   "display_name": "Python 3",
   "language": "python",
   "name": "python3"
  },
  "language_info": {
   "codemirror_mode": {
    "name": "ipython",
    "version": 3
   },
   "file_extension": ".py",
   "mimetype": "text/x-python",
   "name": "python",
   "nbconvert_exporter": "python",
   "pygments_lexer": "ipython3",
   "version": "3.13.0"
  }
 },
 "nbformat": 4,
 "nbformat_minor": 2
}
