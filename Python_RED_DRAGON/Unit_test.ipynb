{
 "cells": [
  {
   "cell_type": "code",
   "execution_count": 3,
   "metadata": {},
   "outputs": [
    {
     "name": "stdout",
     "output_type": "stream",
     "text": [
      "[1, 2, 3, 4]\n",
      "1 is odd\n",
      "2 is even\n",
      "3 is odd\n",
      "4 is even\n",
      "Done !\n"
     ]
    }
   ],
   "source": [
    "# Question 1\n",
    "limit = int(input(\"Enter the limit: \"))\n",
    "l = []\n",
    "for i in range(0, limit):\n",
    "    val = int(input(\"Value: \"))\n",
    "    l.append(val)\n",
    "\n",
    "# Displaying the list\n",
    "print(l)\n",
    "\n",
    "for _ in l:\n",
    "    if _ % 2 == 0:\n",
    "        print(f\"{_} is even\")\n",
    "    else:\n",
    "        print(f\"{_} is odd\")\n",
    "\n",
    "print(\"Done !\")"
   ]
  },
  {
   "cell_type": "code",
   "execution_count": 4,
   "metadata": {},
   "outputs": [
    {
     "name": "stdout",
     "output_type": "stream",
     "text": [
      "5 X 1 = 5\n",
      "5 X 2 = 10\n",
      "5 X 3 = 15\n",
      "5 X 4 = 20\n",
      "5 X 5 = 25\n",
      "5 X 6 = 30\n",
      "5 X 7 = 35\n",
      "5 X 8 = 40\n",
      "5 X 9 = 45\n",
      "5 X 10 = 50\n"
     ]
    }
   ],
   "source": [
    "# Question 2\n",
    "num = int(input(\"What's the num? \"))\n",
    "\n",
    "# Importing the logic\n",
    "for i in range(1, 11):\n",
    "    print(f\"{num} X {i} = {num * i}\")"
   ]
  },
  {
   "cell_type": "code",
   "execution_count": 5,
   "metadata": {},
   "outputs": [
    {
     "name": "stdout",
     "output_type": "stream",
     "text": [
      "4 X 1 = 4\n",
      "4 X 2 = 8\n",
      "4 X 3 = 12\n",
      "4 X 4 = 16\n",
      "4 X 5 = 20\n",
      "4 X 6 = 24\n",
      "4 X 7 = 28\n",
      "4 X 8 = 32\n",
      "4 X 9 = 36\n",
      "4 X 10 = 40\n",
      "4 X 11 = 44\n",
      "4 X 12 = 48\n",
      "4 X 13 = 52\n",
      "4 X 14 = 56\n",
      "4 X 15 = 60\n",
      "4 X 16 = 64\n",
      "4 X 17 = 68\n",
      "4 X 18 = 72\n",
      "4 X 19 = 76\n",
      "4 X 20 = 80\n"
     ]
    }
   ],
   "source": [
    "# Question 2\n",
    "num = int(input(\"What's the num? \"))\n",
    "limit_set = int(input(\"Enter the limit? \"))\n",
    "# Importing the logic\n",
    "for i in range(1, limit_set + 1):\n",
    "    print(f\"{num} X {i} = {num * i}\")"
   ]
  },
  {
   "cell_type": "code",
   "execution_count": 8,
   "metadata": {},
   "outputs": [
    {
     "name": "stdout",
     "output_type": "stream",
     "text": [
      "The result till 100 is 5050\n"
     ]
    }
   ],
   "source": [
    "# While loop \n",
    "n = int(input(\"Enter the number: \"))\n",
    "i = 0; res = 0\n",
    "while i <= n:\n",
    "    res += i\n",
    "    i += 1\n",
    "print(f\"The result till {n} is {res}\")"
   ]
  },
  {
   "cell_type": "code",
   "execution_count": 18,
   "metadata": {},
   "outputs": [
    {
     "name": "stdout",
     "output_type": "stream",
     "text": [
      "The given string '121' is palindrom !\n"
     ]
    }
   ],
   "source": [
    "# Palindrom string\n",
    "# Write a program that checks if a given string is a palindrome only using conditions and loops.\n",
    "stri = input(\"Enter the string? \")\n",
    "for i in stri:\n",
    "    rev = stri[::-1]\n",
    "\n",
    "if rev == stri:\n",
    "    print(f\"The given string '{stri}' is palindrom !\")\n",
    "else:\n",
    "    print(f\"The given string '{stri}' is not a palindrom !\")"
   ]
  },
  {
   "cell_type": "code",
   "execution_count": 38,
   "metadata": {},
   "outputs": [
    {
     "name": "stdout",
     "output_type": "stream",
     "text": [
      "List -> [3, 8, 2, 12]\n",
      "Maximum -> 12\n"
     ]
    }
   ],
   "source": [
    "# Given a list of numbers, use a for loop to find the largest number without using the max()\n",
    "# function.\n",
    "lim = int(input(\"enter the range: \"))\n",
    "lis = []\n",
    "for i in range(lim):\n",
    "    v = int(input(\"Val: \"))\n",
    "    lis.append(v)\n",
    "print(f\"List -> {lis}\")\n",
    "# curr = 0; max = 0\n",
    "# max = lis[0]\n",
    "# for j in lis:\n",
    "#     curr = j\n",
    "#     max = j + 1\n",
    "#     if curr > max:\n",
    "#         max = curr\n",
    "max = lis[0]\n",
    "for _ in lis:\n",
    "    if _ > max:\n",
    "        max = _\n",
    "print(f\"Maximum -> {max}\")"
   ]
  },
  {
   "cell_type": "code",
   "execution_count": 41,
   "metadata": {},
   "outputs": [
    {
     "name": "stdout",
     "output_type": "stream",
     "text": [
      "1 -> Normal\n",
      "2 -> Normal\n",
      "3 -> Fizz\n",
      "4 -> Normal\n",
      "5 -> Buzz\n",
      "6 -> Fizz\n",
      "7 -> Normal\n",
      "8 -> Normal\n",
      "9 -> Fizz\n",
      "10 -> Buzz\n",
      "11 -> Normal\n",
      "12 -> Fizz\n",
      "13 -> Normal\n",
      "14 -> Normal\n",
      "15 -> FizzBuzz\n",
      "16 -> Normal\n",
      "17 -> Normal\n",
      "18 -> Fizz\n",
      "19 -> Normal\n",
      "20 -> Buzz\n",
      "21 -> Fizz\n",
      "22 -> Normal\n",
      "23 -> Normal\n",
      "24 -> Fizz\n",
      "25 -> Buzz\n",
      "26 -> Normal\n",
      "27 -> Fizz\n",
      "28 -> Normal\n",
      "29 -> Normal\n",
      "30 -> FizzBuzz\n",
      "31 -> Normal\n",
      "32 -> Normal\n",
      "33 -> Fizz\n",
      "34 -> Normal\n",
      "35 -> Buzz\n",
      "36 -> Fizz\n",
      "37 -> Normal\n",
      "38 -> Normal\n",
      "39 -> Fizz\n",
      "40 -> Buzz\n",
      "41 -> Normal\n",
      "42 -> Fizz\n",
      "43 -> Normal\n",
      "44 -> Normal\n",
      "45 -> FizzBuzz\n",
      "46 -> Normal\n",
      "47 -> Normal\n",
      "48 -> Fizz\n",
      "49 -> Normal\n",
      "50 -> Buzz\n"
     ]
    }
   ],
   "source": [
    "# Write a program that prints numbers from 1 to 50. For multiples of 3, print \"Fizz\", for\n",
    "# multiples of 5, print \"Buzz\", and for mul�ples of both, print \"FizzBuzz\".\n",
    "\n",
    "for i in range(1, 51):\n",
    "    if i % 3 == 0 and i % 5 == 0:\n",
    "        print(f\"{i} -> FizzBuzz\") # This condition will come on the top !\n",
    "    elif i % 3 == 0:\n",
    "        print(f\"{i} -> Fizz\")\n",
    "    elif i % 5 == 0:\n",
    "        print(f\"{i} -> Buzz\")\n",
    "    else:\n",
    "        print(f\"{i} -> Normal\")"
   ]
  },
  {
   "cell_type": "code",
   "execution_count": null,
   "metadata": {},
   "outputs": [
    {
     "name": "stdout",
     "output_type": "stream",
     "text": [
      "vowel -> 2, Consonent -> 3\n"
     ]
    }
   ],
   "source": [
    "# Write a program to count the number of vowels and consonants in a given string using\n",
    "# conditions and loops.\n",
    "\n",
    "stri = input(\"Enter a string: \")\n",
    "vowels = ['a','e','i','o','u']\n",
    "count = 0; count1 = 0\n",
    "for i in stri:\n",
    "    if i in vowels: # using the in operation for this !!\n",
    "        count = count + 1\n",
    "    else:\n",
    "        count1 = count1 + 1\n",
    "\n",
    "print(f\"vowel -> {count}, Consonent -> {count1}\")"
   ]
  },
  {
   "cell_type": "code",
   "execution_count": 52,
   "metadata": {},
   "outputs": [
    {
     "name": "stdout",
     "output_type": "stream",
     "text": [
      "The sum = 10\n"
     ]
    }
   ],
   "source": [
    "num = int(input(\"Enter any number: \"))\n",
    "d_l = [int(dig) for dig in str(num)]\n",
    "i = 0; sum = 0\n",
    "while i < len(d_l):\n",
    "    sum += d_l[i]\n",
    "    i = i + 1\n",
    "print(f\"The sum = {sum}\")"
   ]
  },
  {
   "cell_type": "code",
   "execution_count": 11,
   "metadata": {},
   "outputs": [
    {
     "name": "stdout",
     "output_type": "stream",
     "text": [
      "2 is common in both the list !\n",
      "6 is common in both the list !\n",
      "8 is common in both the list !\n",
      "25 is common in both the list !\n"
     ]
    }
   ],
   "source": [
    "# Write a program to find the common elements between two lists using loops and conditions.\n",
    "l1 = [1,2,3,4,5,6,7,8,25]\n",
    "l2 = [2,6,8,10,20,25]\n",
    "\n",
    "for i in l1:\n",
    "    for j in l2:\n",
    "        if i == j:\n",
    "            print(f\"{i} is common in both the list !\")"
   ]
  },
  {
   "cell_type": "markdown",
   "metadata": {},
   "source": [
    "question 10,\n",
    "question 12,\n",
    "question 14,"
   ]
  },
  {
   "cell_type": "code",
   "execution_count": 18,
   "metadata": {},
   "outputs": [
    {
     "name": "stdout",
     "output_type": "stream",
     "text": [
      "{1: 1, 2: 1, 3: 1, 4: 2, 5: 1, 6: 1, 7: 1, 8: 2}\n"
     ]
    }
   ],
   "source": [
    "# Question 13\n",
    "l = [1,2,3,4,4,5,6,7,8,8]\n",
    "dic = {}\n",
    "for i in l:\n",
    "    if i in dic:\n",
    "        dic[i] += 1\n",
    "    else:\n",
    "        dic[i] = 1\n",
    "\n",
    "print(dic)"
   ]
  },
  {
   "cell_type": "code",
   "execution_count": 1,
   "metadata": {},
   "outputs": [],
   "source": [
    "# Write a program to validate a password based on these conditions: At least 8 characters long\n",
    "# and contains at least one uppercase leter, one lowercase leter, and one digit. Use loops and\n",
    "# conditions to implement this.\n",
    "\n",
    "# provide_pass = input(\"Enter your password? \")\n",
    "# if len(provide_pass) < 8:\n",
    "    \n",
    "# has_upper = False\n",
    "\n",
    "# for _ in provide_pass:\n",
    "#     if _.isupper():\n",
    "        "
   ]
  },
  {
   "cell_type": "code",
   "execution_count": 3,
   "metadata": {},
   "outputs": [],
   "source": [
    "# Find the duplicate words in a given sentence using python\n",
    "sen = \"Python is good for hacking and good for red teaming\"\n",
    "# count = {}\n",
    "# for i in sen:\n",
    "#     if i in count:\n",
    "#         count[i] += 1\n",
    "#     else:\n",
    "#         count[i] = 1\n",
    "# print(count)\n"
   ]
  },
  {
   "cell_type": "code",
   "execution_count": null,
   "metadata": {},
   "outputs": [
    {
     "name": "stdout",
     "output_type": "stream",
     "text": [
      "5\n",
      "4\n",
      "3\n",
      "2\n",
      "1\n"
     ]
    }
   ],
   "source": [
    "# Demo program for solving the recursion !\n",
    "def show(n):\n",
    "    if n == 0:\n",
    "        return\n",
    "    print(n)\n",
    "    show(n - 1)\n",
    "n = int(input(\"What's the value of n? \"))\n",
    "show(n)"
   ]
  },
  {
   "cell_type": "code",
   "execution_count": null,
   "metadata": {},
   "outputs": [
    {
     "data": {
      "text/plain": [
       "120"
      ]
     },
     "execution_count": 11,
     "metadata": {},
     "output_type": "execute_result"
    }
   ],
   "source": [
    "def fibo(n):\n",
    "    if n == 1 or n == 0:\n",
    "        return 1\n",
    "    else:\n",
    "        return n * fibo(n - 1) # This is the logic !\n",
    "    \n",
    "n = int(input(\"What's n ? \"))\n",
    "fibo(n)"
   ]
  },
  {
   "cell_type": "code",
   "execution_count": 15,
   "metadata": {},
   "outputs": [
    {
     "name": "stdout",
     "output_type": "stream",
     "text": [
      "False\n"
     ]
    }
   ],
   "source": [
    "def rec(s):\n",
    "    if len(s) <= 1:\n",
    "        return True\n",
    "    if s[0] != s[-1]:\n",
    "        return False\n",
    "    \n",
    "    return rec(s[1:-1])\n",
    "print(rec(\"hello\"))"
   ]
  },
  {
   "cell_type": "code",
   "execution_count": null,
   "metadata": {},
   "outputs": [],
   "source": [
    "# List comprehension\n"
   ]
  }
 ],
 "metadata": {
  "kernelspec": {
   "display_name": "Python 3",
   "language": "python",
   "name": "python3"
  },
  "language_info": {
   "codemirror_mode": {
    "name": "ipython",
    "version": 3
   },
   "file_extension": ".py",
   "mimetype": "text/x-python",
   "name": "python",
   "nbconvert_exporter": "python",
   "pygments_lexer": "ipython3",
   "version": "3.13.0"
  }
 },
 "nbformat": 4,
 "nbformat_minor": 2
}
