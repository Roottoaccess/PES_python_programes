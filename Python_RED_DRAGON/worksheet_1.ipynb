{
 "cells": [
  {
   "cell_type": "markdown",
   "metadata": {},
   "source": [
    "# Worksheet 1 programs Completing according to the programs I am also trying to completing the logics of the ppt of python dark hacking.."
   ]
  },
  {
   "cell_type": "markdown",
   "metadata": {},
   "source": [
    "Write a program that takes a list of integers and uses a loop to check if each number is even\n",
    "or odd. Print the result for each number."
   ]
  },
  {
   "cell_type": "code",
   "execution_count": 1,
   "metadata": {},
   "outputs": [
    {
     "name": "stdout",
     "output_type": "stream",
     "text": [
      "1 -> Odd\n",
      "2 -> Even\n",
      "3 -> Odd\n",
      "4 -> Even\n",
      "5 -> Odd\n",
      "6 -> Even\n",
      "7 -> Odd\n",
      "8 -> Even\n",
      "9 -> Odd\n",
      "10 -> Even\n",
      "11 -> Odd\n",
      "12 -> Even\n",
      "Program Executed Successfully !\n"
     ]
    }
   ],
   "source": [
    "l = [1,2,3,4,5,6,7,8,9,10,11,12]\n",
    "for hack in l:\n",
    "    if hack % 2 == 0:\n",
    "        print(f\"{hack} -> Even\")\n",
    "    else:\n",
    "        print(f\"{hack} -> Odd\")\n",
    "print(\"Program Executed Successfully !\") "
   ]
  },
  {
   "cell_type": "markdown",
   "metadata": {},
   "source": [
    "Using a for loop, print the multiplication table for a given number"
   ]
  },
  {
   "cell_type": "code",
   "execution_count": 2,
   "metadata": {},
   "outputs": [
    {
     "name": "stdout",
     "output_type": "stream",
     "text": [
      "5 x 1 = 5\n",
      "5 x 2 = 10\n",
      "5 x 3 = 15\n",
      "5 x 4 = 20\n",
      "5 x 5 = 25\n",
      "5 x 6 = 30\n",
      "5 x 7 = 35\n",
      "5 x 8 = 40\n",
      "5 x 9 = 45\n",
      "5 x 10 = 50\n",
      "Program Done !\n"
     ]
    }
   ],
   "source": [
    "num = int(input(\"What's the number? \"))\n",
    "for i in range(1, 11):\n",
    "    print(f\"{num} x {i} = {num * i}\")\n",
    "print(\"Program Done !\")"
   ]
  },
  {
   "cell_type": "markdown",
   "metadata": {},
   "source": [
    "Using a for loop, print the mul�plica�on table �ll that given number"
   ]
  },
  {
   "cell_type": "code",
   "execution_count": 3,
   "metadata": {},
   "outputs": [
    {
     "name": "stdout",
     "output_type": "stream",
     "text": [
      "4 x 1 = 4\n",
      "4 x 2 = 8\n",
      "4 x 3 = 12\n",
      "4 x 4 = 16\n",
      "Program Done !\n"
     ]
    }
   ],
   "source": [
    "num = int(input(\"What's the number? \"))\n",
    "for i in range(1, num + 1):\n",
    "    print(f\"{num} x {i} = {num * i}\")\n",
    "print(\"Program Done !\")"
   ]
  },
  {
   "cell_type": "code",
   "execution_count": 8,
   "metadata": {},
   "outputs": [
    {
     "name": "stdout",
     "output_type": "stream",
     "text": [
      "Till the value of '12' the sum is '78'\n",
      "Program ended !\n"
     ]
    }
   ],
   "source": [
    "n = int(input(\"What's n? \"))\n",
    "sum = 0\n",
    "# for i in range(1, n + 1):\n",
    "#     sum += i\n",
    "# print(f\"Till the value of {n} the sum is {sum}\")\n",
    "# print(\"Program ended !\")\n",
    "\n",
    "# Now converting this to while loop !\n",
    "i = 1\n",
    "while i <= n: # This is the condition part !!\n",
    "    sum += i # This is the operation part !!\n",
    "    i += 1  # this is the increment part !!\n",
    "print(f\"Till the value of '{n}' the sum is '{sum}'\") # Printing the value we have got !\n",
    "print(\"Program ended !\") # Program ended information printed !!\n"
   ]
  },
  {
   "cell_type": "markdown",
   "metadata": {},
   "source": [
    " Write a program that checks if a given string is a palindrome only using condi�ons and loops."
   ]
  },
  {
   "cell_type": "code",
   "execution_count": 16,
   "metadata": {},
   "outputs": [
    {
     "name": "stdout",
     "output_type": "stream",
     "text": [
      "This is the original string -> dog and after reversing -> god\n",
      "This string is not palindrom !\n",
      "Execution Done !\n"
     ]
    }
   ],
   "source": [
    "s = input(\"Enter the string: \")\n",
    "res = s[::-1]\n",
    "print(f\"This is the original string -> {s} and after reversing -> {res}\")\n",
    "if res == s:\n",
    "    print(\"This string is palindrom !\")\n",
    "else:\n",
    "    print(\"This string is not palindrom !\")\n",
    "print(\"Execution Done !\")"
   ]
  },
  {
   "cell_type": "markdown",
   "metadata": {},
   "source": [
    "Given a list of numbers, use a for loop to find the largest number without using the max()\n",
    "func�on."
   ]
  },
  {
   "cell_type": "code",
   "execution_count": 24,
   "metadata": {},
   "outputs": [
    {
     "name": "stdout",
     "output_type": "stream",
     "text": [
      "The max value from the above list is -> '108'\n"
     ]
    }
   ],
   "source": [
    "l1 = [12,14,22,26,28,88,108,20]\n",
    "max = l1[0]\n",
    "for i in l1:\n",
    "    if i > max:\n",
    "        max = i\n",
    "print(f\"The max value from the above list is -> '{max}'\")"
   ]
  },
  {
   "cell_type": "markdown",
   "metadata": {},
   "source": [
    "Write a program that prints numbers from 1 to 50. For mul�ples of 3, print \"Fizz\", for\n",
    "mul�ples of 5, print \"Buzz\", and for mul�ples of both, print \"FizzBuzz\"."
   ]
  },
  {
   "cell_type": "code",
   "execution_count": 25,
   "metadata": {},
   "outputs": [
    {
     "name": "stdout",
     "output_type": "stream",
     "text": [
      "Bizz\n",
      "Bizz\n",
      "Fizz\n",
      "Bizz\n",
      "Bizz\n",
      "Fizz\n",
      "Bizz\n",
      "Bizz\n",
      "Fizz\n",
      "Bizz\n",
      "Bizz\n",
      "Fizz\n",
      "Bizz\n",
      "Bizz\n",
      "FizzBizz\n",
      "Bizz\n",
      "Bizz\n",
      "Fizz\n",
      "Bizz\n",
      "Bizz\n",
      "Fizz\n",
      "Bizz\n",
      "Bizz\n",
      "Fizz\n",
      "Bizz\n",
      "Bizz\n",
      "Fizz\n",
      "Bizz\n",
      "Bizz\n",
      "FizzBizz\n",
      "Bizz\n",
      "Bizz\n",
      "Fizz\n",
      "Bizz\n",
      "Bizz\n",
      "Fizz\n",
      "Bizz\n",
      "Bizz\n",
      "Fizz\n",
      "Bizz\n",
      "Bizz\n",
      "Fizz\n",
      "Bizz\n",
      "Bizz\n",
      "FizzBizz\n",
      "Bizz\n",
      "Bizz\n",
      "Fizz\n",
      "Bizz\n",
      "Bizz\n",
      "Proram Done !\n"
     ]
    }
   ],
   "source": [
    "for i in range(1 , 51):\n",
    "    if i % 3 == 0 and i % 5 == 0:\n",
    "        print(\"FizzBizz\")\n",
    "    elif i % 3 == 0:\n",
    "        print(\"Fizz\")\n",
    "    else:\n",
    "        print(\"Bizz\")\n",
    "print(\"Proram Done !\")"
   ]
  },
  {
   "cell_type": "markdown",
   "metadata": {},
   "source": [
    "Write a program to count the number of vowels and consonants in a given string using\n",
    "condi�ons and loops."
   ]
  },
  {
   "cell_type": "code",
   "execution_count": null,
   "metadata": {},
   "outputs": [
    {
     "name": "stdout",
     "output_type": "stream",
     "text": [
      "Total vowels present in the string = 3 and consonent = 11\n"
     ]
    }
   ],
   "source": [
    "stri = input(\"Enter the string: \").strip()\n",
    "vol = ['a','e','i','o','u']\n",
    "vol_count = 0; cons_count = 0\n",
    "for i in stri:\n",
    "    if i in vol:\n",
    "        vol_count += 1\n",
    "    else:\n",
    "        cons_count += 1\n",
    "print(f\"Total vowels present in the string = {vol_count} and consonent = {cons_count}\")\n",
    "# Python Hacking\n",
    "# cons -> 1,2,3,4,5,6,8,9,10,11"
   ]
  },
  {
   "cell_type": "code",
   "execution_count": 41,
   "metadata": {},
   "outputs": [
    {
     "name": "stdout",
     "output_type": "stream",
     "text": [
      "sum of the digit 1221 = 6\n"
     ]
    }
   ],
   "source": [
    "# Write a program to calculate the sum of the digits of a given number using a while loop.\n",
    "n = int(input(\"Enter a number\"))\n",
    "up_n = [int(i) for i in str(n)]\n",
    "sum = 0\n",
    "# for x in up_n:\n",
    "#     sum += x\n",
    "# print(f\"sum of the digit {n} = {sum}\")\n",
    "x = 0\n",
    "while x < len(up_n):\n",
    "    sum += x\n",
    "    x += 1\n",
    "print(f\"sum of the digit {n} = {sum}\")"
   ]
  },
  {
   "cell_type": "code",
   "execution_count": 46,
   "metadata": {},
   "outputs": [
    {
     "name": "stdout",
     "output_type": "stream",
     "text": [
      "*\n",
      "**\n",
      "***\n",
      "****\n",
      "*****\n"
     ]
    }
   ],
   "source": [
    "# User range star printing pattern\n",
    "limit = int(input(\"Enter the limit ? \"))\n",
    "# for i in range(limit):\n",
    "#     print(1 * \"*\", end = \" \")\n",
    "for i in range(1, limit + 1):\n",
    "    for j in range(1, i + 1):\n",
    "        print(\"*\", end = \"\")\n",
    "    print()"
   ]
  },
  {
   "cell_type": "code",
   "execution_count": 47,
   "metadata": {},
   "outputs": [
    {
     "name": "stdout",
     "output_type": "stream",
     "text": [
      "2 is common in both the list\n",
      "4 is common in both the list\n",
      "6 is common in both the list\n",
      "8 is common in both the list\n",
      "Program executed !\n"
     ]
    }
   ],
   "source": [
    "# Write a program to find the common elements between two lists using loops and condi�ons.\n",
    "l1 = [1,2,3,4,5,6,7,8]\n",
    "l2 = [2,4,6,8,10,12]\n",
    "for i in l1:\n",
    "    for j in l2:\n",
    "        if i == j:\n",
    "            print(f\"{i} is common in both the list\")\n",
    "print(\"Program executed !\")"
   ]
  },
  {
   "cell_type": "code",
   "execution_count": 48,
   "metadata": {},
   "outputs": [
    {
     "name": "stdout",
     "output_type": "stream",
     "text": [
      "{1: 2, 2: 2, 3: 1, 4: 2, 5: 1, 6: 1, 8: 3}\n"
     ]
    }
   ],
   "source": [
    "# Write a program to count the frequency of each element in a list using loops.\n",
    "l = [1,2,3,4,5,6,8,2,8,8,1,4]\n",
    "di = {}\n",
    "count = 0\n",
    "for i in l:\n",
    "    if i in di:\n",
    "        di[i] += 1\n",
    "    else:\n",
    "        di[i] = 1\n",
    "print(di)"
   ]
  },
  {
   "cell_type": "code",
   "execution_count": 49,
   "metadata": {},
   "outputs": [
    {
     "name": "stdout",
     "output_type": "stream",
     "text": [
      "[1, 4, 9, 16, 25, 36, 49, 64, 81, 100]\n"
     ]
    }
   ],
   "source": [
    "# 24. Write a list comprehension to create a list of squares of numbers from 1 to 10.\n",
    "l = [i**2 for i in range(1, 11)]\n",
    "print(l)"
   ]
  },
  {
   "cell_type": "code",
   "execution_count": 56,
   "metadata": {},
   "outputs": [
    {
     "name": "stdout",
     "output_type": "stream",
     "text": [
      "['p', 'f', 'd', 'h']\n"
     ]
    }
   ],
   "source": [
    "# 25. Use a list comprehension to extract the first character from each word in a list of strings.\n",
    "l = [\"python\",\"for\",\"dark\",\"hacking\"]\n",
    "ll = [i[0] for i in l ]\n",
    "print(ll)"
   ]
  },
  {
   "cell_type": "code",
   "execution_count": 57,
   "metadata": {},
   "outputs": [
    {
     "name": "stdout",
     "output_type": "stream",
     "text": [
      "[3, 6, 9, 12, 15, 18, 21, 24, 27, 30]\n"
     ]
    }
   ],
   "source": [
    "# 26. Write a list comprehension to generate mul�ples of 3 up to 30.\n",
    "l = [i for i in range(3, 31) if i % 3 == 0]; print(l) "
   ]
  },
  {
   "cell_type": "code",
   "execution_count": 60,
   "metadata": {},
   "outputs": [
    {
     "name": "stdout",
     "output_type": "stream",
     "text": [
      "['apple', 'app']\n"
     ]
    }
   ],
   "source": [
    "# 27. Use a list comprehension to filter words that start with the leter 'a' from a list of strings.\n",
    "l = [\"apple\", \"mango\", \"python\", \"is\" , \"app\", \"development\"]\n",
    "ll = [i for i in l if i[0] == \"a\"]; print(ll)"
   ]
  },
  {
   "cell_type": "code",
   "execution_count": 63,
   "metadata": {},
   "outputs": [
    {
     "name": "stdout",
     "output_type": "stream",
     "text": [
      "[(2, 2), (6, 6), (8, 8)] are the common elements from the two list\n"
     ]
    }
   ],
   "source": [
    "# 28. Write a list comprehension to find common elements between two lists.\n",
    "l1 = [1,2,3,4,5,6,7,8]; l2 = [22,44,2,8,6,444]\n",
    "ll = [(j, i) for i in l1 for j in l2 if i == j]; print(f\"{ll} are the common elements from the two list\")"
   ]
  },
  {
   "cell_type": "code",
   "execution_count": 64,
   "metadata": {},
   "outputs": [
    {
     "name": "stdout",
     "output_type": "stream",
     "text": [
      "[6, 12, 18, 24, 30, 36, 42, 48]\n"
     ]
    }
   ],
   "source": [
    "# 29. Write a list comprehension to filter numbers divisible by both 2 and 3 in a given range.\n",
    "l = [i for i in range(1, 50) if i % 2 == 0 and i % 3 == 0]; print(l) "
   ]
  },
  {
   "cell_type": "code",
   "execution_count": 65,
   "metadata": {},
   "outputs": [
    {
     "name": "stdout",
     "output_type": "stream",
     "text": [
      "C -> [2, 4, 6, 8], F -> [35.6, 39.2, 42.8, 46.4]\n"
     ]
    }
   ],
   "source": [
    "# 30. Write a list comprehension to convert a list of temperatures from Celsius to Fahrenheit.\n",
    "c_l = [2, 4, 6, 8]\n",
    "f_l = [(i * 9 / 5) + 32 for i in c_l]\n",
    "print(f\"C -> {c_l}, F -> {f_l}\")"
   ]
  },
  {
   "cell_type": "code",
   "execution_count": 74,
   "metadata": {},
   "outputs": [
    {
     "name": "stdout",
     "output_type": "stream",
     "text": [
      "[('This', 1), ('is', 2), ('the', 2), ('python', 2), ('hacking', 1), ('and', 1), ('this', 1), ('is', 2), ('the', 2), ('red', 1), ('teaming', 1), ('python', 2), ('programming', 1), ('also', 1)]\n"
     ]
    }
   ],
   "source": [
    "# 31. Write a list comprehension to count the frequency of each word in a string.\n",
    "st = \"This is the python hacking and this is the red teaming python programming also\".split()\n",
    "l = [(i, st.count(i)) for i in st]; print(l)"
   ]
  },
  {
   "cell_type": "code",
   "execution_count": 76,
   "metadata": {},
   "outputs": [],
   "source": [
    "# 32. Use a list comprehension to generate passwords of a given length by combining uppercase\n",
    "# leters, lowercase leters, and digits."
   ]
  }
 ],
 "metadata": {
  "kernelspec": {
   "display_name": "Python 3",
   "language": "python",
   "name": "python3"
  },
  "language_info": {
   "codemirror_mode": {
    "name": "ipython",
    "version": 3
   },
   "file_extension": ".py",
   "mimetype": "text/x-python",
   "name": "python",
   "nbconvert_exporter": "python",
   "pygments_lexer": "ipython3",
   "version": "3.13.0"
  }
 },
 "nbformat": 4,
 "nbformat_minor": 2
}
