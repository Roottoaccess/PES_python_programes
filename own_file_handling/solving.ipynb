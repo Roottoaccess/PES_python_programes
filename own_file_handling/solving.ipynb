{
 "cells": [
  {
   "cell_type": "markdown",
   "metadata": {},
   "source": [
    "# Solving the python problems given today !"
   ]
  },
  {
   "cell_type": "markdown",
   "metadata": {},
   "source": [
    "Problem statements\n",
    "Create a file that content multiple lines , process the file for the following operations, find the number of words, that have even length\n",
    "Find the number of words that have more than 2 vowels\n",
    "Third -> Find the number of words that start with a capital letter\n",
    "Fourth -> append all the details back into the files"
   ]
  },
  {
   "cell_type": "code",
   "execution_count": 18,
   "metadata": {},
   "outputs": [
    {
     "name": "stdout",
     "output_type": "stream",
     "text": [
      "[]\n"
     ]
    }
   ],
   "source": [
    "with open(\"demo.txt\", \"r\") as file:\n",
    "    l = [x.split() for x in file if len(x) % 2 == 0]\n",
    "    print(l)"
   ]
  },
  {
   "cell_type": "code",
   "execution_count": 38,
   "metadata": {},
   "outputs": [
    {
     "name": "stdout",
     "output_type": "stream",
     "text": [
      "[['Lorem', 'ipsum', 'dolor', 'sit', 'amet', 'consectetur', 'adipisicing', 'elit', 'Ea', 'aut', 'neque', 'sint', 'asperiores'], ['cumque', 'nesciunt', 'tempore', 'repellat', 'cupiditate', 'sapiente', 'quaerat', 'voluptatum', 'repudiandae', 'quos', 'dolores', 'quisquam', 'facere', 'excepturi', 'laborum', 'Maiores', 'cupiditate', 'maxime', 'officiis', 'laboriosam', 'expedita', 'repellendus', 'exercitationem']]\n"
     ]
    }
   ],
   "source": [
    "with open(\"demo.txt\", \"r\") as file:\n",
    "    l = [x.split() for x in file if len(x.strip()) % 2 == 0]\n",
    "    print(l)"
   ]
  },
  {
   "cell_type": "code",
   "execution_count": null,
   "metadata": {},
   "outputs": [
    {
     "ename": "AttributeError",
     "evalue": "'_io.TextIOWrapper' object has no attribute 'split'",
     "output_type": "error",
     "traceback": [
      "\u001b[0;31m---------------------------------------------------------------------------\u001b[0m",
      "\u001b[0;31mAttributeError\u001b[0m                            Traceback (most recent call last)",
      "Cell \u001b[0;32mIn[39], line 3\u001b[0m\n\u001b[1;32m      1\u001b[0m even_length_words \u001b[38;5;241m=\u001b[39m []\n\u001b[1;32m      2\u001b[0m \u001b[38;5;28;01mwith\u001b[39;00m \u001b[38;5;28mopen\u001b[39m(\u001b[38;5;124m\"\u001b[39m\u001b[38;5;124mdemo.txt\u001b[39m\u001b[38;5;124m\"\u001b[39m, \u001b[38;5;124m\"\u001b[39m\u001b[38;5;124mr\u001b[39m\u001b[38;5;124m\"\u001b[39m) \u001b[38;5;28;01mas\u001b[39;00m file:\n\u001b[0;32m----> 3\u001b[0m     word \u001b[38;5;241m=\u001b[39m \u001b[43mfile\u001b[49m\u001b[38;5;241;43m.\u001b[39;49m\u001b[43msplit\u001b[49m()\n\u001b[1;32m      4\u001b[0m     \u001b[38;5;28mprint\u001b[39m(word)\n",
      "\u001b[0;31mAttributeError\u001b[0m: '_io.TextIOWrapper' object has no attribute 'split'"
     ]
    }
   ],
   "source": [
    "even_length_words = []\n",
    "with open(\"demo.txt\", \"r\") as file:\n",
    "    word = file.split()\n",
    "    print(word)"
   ]
  }
 ],
 "metadata": {
  "kernelspec": {
   "display_name": "Python 3",
   "language": "python",
   "name": "python3"
  },
  "language_info": {
   "codemirror_mode": {
    "name": "ipython",
    "version": 3
   },
   "file_extension": ".py",
   "mimetype": "text/x-python",
   "name": "python",
   "nbconvert_exporter": "python",
   "pygments_lexer": "ipython3",
   "version": "3.13.0"
  }
 },
 "nbformat": 4,
 "nbformat_minor": 2
}
